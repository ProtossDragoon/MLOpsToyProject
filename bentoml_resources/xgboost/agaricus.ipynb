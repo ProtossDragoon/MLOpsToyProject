{
 "cells": [
  {
   "cell_type": "markdown",
   "id": "747e0e8d",
   "metadata": {},
   "source": [
    "# Quickstart with BentoML and XGBoost\n",
    "\n",
    "Link to source code: https://github.com/bentoml/gallery/tree/main/xgboost"
   ]
  },
  {
   "cell_type": "code",
   "execution_count": 3,
   "id": "e28c2dc4",
   "metadata": {},
   "outputs": [
    {
     "name": "stdout",
     "output_type": "stream",
     "text": [
      "Requirement already satisfied: bentoml>=1.0.0a in c:\\users\\hwang\\appdata\\roaming\\python\\python39\\site-packages (from -r https://raw.githubusercontent.com/bentoml/gallery/main/xgboost/requirements.txt (line 1)) (1.0.0rc3)\n",
      "Collecting xgboost\n",
      "  Downloading xgboost-1.6.1-py3-none-win_amd64.whl (125.4 MB)\n",
      "Requirement already satisfied: opentelemetry-semantic-conventions==0.28b0 in c:\\users\\hwang\\appdata\\roaming\\python\\python39\\site-packages (from bentoml>=1.0.0a->-r https://raw.githubusercontent.com/bentoml/gallery/main/xgboost/requirements.txt (line 1)) (0.28b0)\n",
      "Requirement already satisfied: rich>=11.2.0 in c:\\users\\hwang\\appdata\\roaming\\python\\python39\\site-packages (from bentoml>=1.0.0a->-r https://raw.githubusercontent.com/bentoml/gallery/main/xgboost/requirements.txt (line 1)) (12.4.4)\n",
      "Requirement already satisfied: deepmerge in c:\\users\\hwang\\appdata\\roaming\\python\\python39\\site-packages (from bentoml>=1.0.0a->-r https://raw.githubusercontent.com/bentoml/gallery/main/xgboost/requirements.txt (line 1)) (1.0.1)\n",
      "Requirement already satisfied: typing-extensions>=4.0 in c:\\users\\hwang\\appdata\\roaming\\python\\python39\\site-packages (from bentoml>=1.0.0a->-r https://raw.githubusercontent.com/bentoml/gallery/main/xgboost/requirements.txt (line 1)) (4.3.0)\n",
      "Requirement already satisfied: click>=7.0 in c:\\users\\hwang\\appdata\\roaming\\python\\python39\\site-packages (from bentoml>=1.0.0a->-r https://raw.githubusercontent.com/bentoml/gallery/main/xgboost/requirements.txt (line 1)) (8.1.3)\n",
      "Requirement already satisfied: psutil in c:\\users\\hwang\\appdata\\roaming\\python\\python39\\site-packages (from bentoml>=1.0.0a->-r https://raw.githubusercontent.com/bentoml/gallery/main/xgboost/requirements.txt (line 1)) (5.9.0)\n",
      "Requirement already satisfied: uvicorn in c:\\users\\hwang\\appdata\\roaming\\python\\python39\\site-packages (from bentoml>=1.0.0a->-r https://raw.githubusercontent.com/bentoml/gallery/main/xgboost/requirements.txt (line 1)) (0.18.2)\n",
      "Requirement already satisfied: schema in c:\\users\\hwang\\appdata\\roaming\\python\\python39\\site-packages (from bentoml>=1.0.0a->-r https://raw.githubusercontent.com/bentoml/gallery/main/xgboost/requirements.txt (line 1)) (0.7.5)\n",
      "Requirement already satisfied: pip-tools>=6.6.2 in c:\\users\\hwang\\appdata\\roaming\\python\\python39\\site-packages (from bentoml>=1.0.0a->-r https://raw.githubusercontent.com/bentoml/gallery/main/xgboost/requirements.txt (line 1)) (6.8.0)\n",
      "Requirement already satisfied: aiofiles in c:\\users\\hwang\\appdata\\roaming\\python\\python39\\site-packages (from bentoml>=1.0.0a->-r https://raw.githubusercontent.com/bentoml/gallery/main/xgboost/requirements.txt (line 1)) (0.8.0)\n",
      "Requirement already satisfied: attrs>=21.1.0 in c:\\users\\hwang\\appdata\\roaming\\python\\python39\\site-packages (from bentoml>=1.0.0a->-r https://raw.githubusercontent.com/bentoml/gallery/main/xgboost/requirements.txt (line 1)) (21.4.0)\n",
      "Requirement already satisfied: opentelemetry-instrumentation-asgi==0.28b0 in c:\\users\\hwang\\appdata\\roaming\\python\\python39\\site-packages (from bentoml>=1.0.0a->-r https://raw.githubusercontent.com/bentoml/gallery/main/xgboost/requirements.txt (line 1)) (0.28b0)\n",
      "Requirement already satisfied: python-multipart in c:\\users\\hwang\\appdata\\roaming\\python\\python39\\site-packages (from bentoml>=1.0.0a->-r https://raw.githubusercontent.com/bentoml/gallery/main/xgboost/requirements.txt (line 1)) (0.0.5)\n",
      "Requirement already satisfied: python-dotenv>=0.20.0 in c:\\users\\hwang\\appdata\\roaming\\python\\python39\\site-packages (from bentoml>=1.0.0a->-r https://raw.githubusercontent.com/bentoml/gallery/main/xgboost/requirements.txt (line 1)) (0.20.0)\n",
      "Requirement already satisfied: python-json-logger in c:\\users\\hwang\\appdata\\roaming\\python\\python39\\site-packages (from bentoml>=1.0.0a->-r https://raw.githubusercontent.com/bentoml/gallery/main/xgboost/requirements.txt (line 1)) (2.0.2)\n",
      "Requirement already satisfied: simple-di>=0.1.4 in c:\\users\\hwang\\appdata\\roaming\\python\\python39\\site-packages (from bentoml>=1.0.0a->-r https://raw.githubusercontent.com/bentoml/gallery/main/xgboost/requirements.txt (line 1)) (0.1.5)\n",
      "Requirement already satisfied: cattrs>=1.10.0 in c:\\users\\hwang\\appdata\\roaming\\python\\python39\\site-packages (from bentoml>=1.0.0a->-r https://raw.githubusercontent.com/bentoml/gallery/main/xgboost/requirements.txt (line 1)) (22.1.0)\n",
      "Requirement already satisfied: packaging>=20.0 in c:\\users\\hwang\\appdata\\roaming\\python\\python39\\site-packages (from bentoml>=1.0.0a->-r https://raw.githubusercontent.com/bentoml/gallery/main/xgboost/requirements.txt (line 1)) (21.3)\n",
      "Requirement already satisfied: circus in c:\\users\\hwang\\appdata\\roaming\\python\\python39\\site-packages (from bentoml>=1.0.0a->-r https://raw.githubusercontent.com/bentoml/gallery/main/xgboost/requirements.txt (line 1)) (0.17.1)\n",
      "Requirement already satisfied: pathspec in c:\\users\\hwang\\appdata\\roaming\\python\\python39\\site-packages (from bentoml>=1.0.0a->-r https://raw.githubusercontent.com/bentoml/gallery/main/xgboost/requirements.txt (line 1)) (0.9.0)\n",
      "Requirement already satisfied: aiohttp<=3.8.1 in c:\\users\\hwang\\appdata\\roaming\\python\\python39\\site-packages (from bentoml>=1.0.0a->-r https://raw.githubusercontent.com/bentoml/gallery/main/xgboost/requirements.txt (line 1)) (3.8.1)\n",
      "Requirement already satisfied: fs in c:\\users\\hwang\\appdata\\roaming\\python\\python39\\site-packages (from bentoml>=1.0.0a->-r https://raw.githubusercontent.com/bentoml/gallery/main/xgboost/requirements.txt (line 1)) (2.4.16)\n",
      "Requirement already satisfied: numpy in c:\\users\\hwang\\appdata\\roaming\\python\\python39\\site-packages (from bentoml>=1.0.0a->-r https://raw.githubusercontent.com/bentoml/gallery/main/xgboost/requirements.txt (line 1)) (1.23.0)\n",
      "Requirement already satisfied: opentelemetry-util-http==0.28b0 in c:\\users\\hwang\\appdata\\roaming\\python\\python39\\site-packages (from bentoml>=1.0.0a->-r https://raw.githubusercontent.com/bentoml/gallery/main/xgboost/requirements.txt (line 1)) (0.28b0)\n",
      "Requirement already satisfied: PyYAML>=5.0 in c:\\users\\hwang\\appdata\\roaming\\python\\python39\\site-packages (from bentoml>=1.0.0a->-r https://raw.githubusercontent.com/bentoml/gallery/main/xgboost/requirements.txt (line 1)) (6.0)\n",
      "Requirement already satisfied: chardet in c:\\users\\hwang\\appdata\\roaming\\python\\python39\\site-packages (from bentoml>=1.0.0a->-r https://raw.githubusercontent.com/bentoml/gallery/main/xgboost/requirements.txt (line 1)) (5.0.0)\n",
      "Requirement already satisfied: opentelemetry-instrumentation-aiohttp-client==0.28b0 in c:\\users\\hwang\\appdata\\roaming\\python\\python39\\site-packages (from bentoml>=1.0.0a->-r https://raw.githubusercontent.com/bentoml/gallery/main/xgboost/requirements.txt (line 1)) (0.28b0)\n",
      "Requirement already satisfied: Jinja2>=3.0.1 in c:\\users\\hwang\\appdata\\roaming\\python\\python39\\site-packages (from bentoml>=1.0.0a->-r https://raw.githubusercontent.com/bentoml/gallery/main/xgboost/requirements.txt (line 1)) (3.1.2)\n",
      "Requirement already satisfied: prometheus-client<0.14.0,>=0.10.0 in c:\\users\\hwang\\appdata\\roaming\\python\\python39\\site-packages (from bentoml>=1.0.0a->-r https://raw.githubusercontent.com/bentoml/gallery/main/xgboost/requirements.txt (line 1)) (0.13.1)\n",
      "Requirement already satisfied: filelock in c:\\users\\hwang\\appdata\\roaming\\python\\python39\\site-packages (from bentoml>=1.0.0a->-r https://raw.githubusercontent.com/bentoml/gallery/main/xgboost/requirements.txt (line 1)) (3.7.1)\n",
      "Requirement already satisfied: python-dateutil in c:\\users\\hwang\\appdata\\roaming\\python\\python39\\site-packages (from bentoml>=1.0.0a->-r https://raw.githubusercontent.com/bentoml/gallery/main/xgboost/requirements.txt (line 1)) (2.8.2)\n",
      "Requirement already satisfied: opentelemetry-instrumentation==0.28b0 in c:\\users\\hwang\\appdata\\roaming\\python\\python39\\site-packages (from bentoml>=1.0.0a->-r https://raw.githubusercontent.com/bentoml/gallery/main/xgboost/requirements.txt (line 1)) (0.28b0)\n",
      "Requirement already satisfied: requests in c:\\users\\hwang\\appdata\\roaming\\python\\python39\\site-packages (from bentoml>=1.0.0a->-r https://raw.githubusercontent.com/bentoml/gallery/main/xgboost/requirements.txt (line 1)) (2.28.1)\n",
      "Requirement already satisfied: cloudpickle in c:\\users\\hwang\\appdata\\roaming\\python\\python39\\site-packages (from bentoml>=1.0.0a->-r https://raw.githubusercontent.com/bentoml/gallery/main/xgboost/requirements.txt (line 1)) (2.1.0)\n",
      "Requirement already satisfied: starlette in c:\\users\\hwang\\appdata\\roaming\\python\\python39\\site-packages (from bentoml>=1.0.0a->-r https://raw.githubusercontent.com/bentoml/gallery/main/xgboost/requirements.txt (line 1)) (0.20.4)\n",
      "Requirement already satisfied: opentelemetry-sdk==1.9.0 in c:\\users\\hwang\\appdata\\roaming\\python\\python39\\site-packages (from bentoml>=1.0.0a->-r https://raw.githubusercontent.com/bentoml/gallery/main/xgboost/requirements.txt (line 1)) (1.9.0)\n",
      "Requirement already satisfied: opentelemetry-api==1.9.0 in c:\\users\\hwang\\appdata\\roaming\\python\\python39\\site-packages (from bentoml>=1.0.0a->-r https://raw.githubusercontent.com/bentoml/gallery/main/xgboost/requirements.txt (line 1)) (1.9.0)\n",
      "Requirement already satisfied: pynvml<12 in c:\\users\\hwang\\appdata\\roaming\\python\\python39\\site-packages (from bentoml>=1.0.0a->-r https://raw.githubusercontent.com/bentoml/gallery/main/xgboost/requirements.txt (line 1)) (11.4.1)\n",
      "Requirement already satisfied: setuptools>=16.0 in c:\\programdata\\anaconda3\\lib\\site-packages (from opentelemetry-api==1.9.0->bentoml>=1.0.0a->-r https://raw.githubusercontent.com/bentoml/gallery/main/xgboost/requirements.txt (line 1)) (58.0.4)\n",
      "Requirement already satisfied: Deprecated>=1.2.6 in c:\\users\\hwang\\appdata\\roaming\\python\\python39\\site-packages (from opentelemetry-api==1.9.0->bentoml>=1.0.0a->-r https://raw.githubusercontent.com/bentoml/gallery/main/xgboost/requirements.txt (line 1)) (1.2.13)\n",
      "Requirement already satisfied: wrapt<2.0.0,>=1.0.0 in c:\\users\\hwang\\appdata\\roaming\\python\\python39\\site-packages (from opentelemetry-instrumentation==0.28b0->bentoml>=1.0.0a->-r https://raw.githubusercontent.com/bentoml/gallery/main/xgboost/requirements.txt (line 1)) (1.14.1)\n",
      "Requirement already satisfied: asgiref~=3.0 in c:\\users\\hwang\\appdata\\roaming\\python\\python39\\site-packages (from opentelemetry-instrumentation-asgi==0.28b0->bentoml>=1.0.0a->-r https://raw.githubusercontent.com/bentoml/gallery/main/xgboost/requirements.txt (line 1)) (3.5.2)\n",
      "Requirement already satisfied: scipy in c:\\users\\hwang\\appdata\\roaming\\python\\python39\\site-packages (from xgboost->-r https://raw.githubusercontent.com/bentoml/gallery/main/xgboost/requirements.txt (line 2)) (1.8.1)\n",
      "Requirement already satisfied: frozenlist>=1.1.1 in c:\\users\\hwang\\appdata\\roaming\\python\\python39\\site-packages (from aiohttp<=3.8.1->bentoml>=1.0.0a->-r https://raw.githubusercontent.com/bentoml/gallery/main/xgboost/requirements.txt (line 1)) (1.3.0)\n",
      "Requirement already satisfied: multidict<7.0,>=4.5 in c:\\users\\hwang\\appdata\\roaming\\python\\python39\\site-packages (from aiohttp<=3.8.1->bentoml>=1.0.0a->-r https://raw.githubusercontent.com/bentoml/gallery/main/xgboost/requirements.txt (line 1)) (6.0.2)\n",
      "Requirement already satisfied: yarl<2.0,>=1.0 in c:\\users\\hwang\\appdata\\roaming\\python\\python39\\site-packages (from aiohttp<=3.8.1->bentoml>=1.0.0a->-r https://raw.githubusercontent.com/bentoml/gallery/main/xgboost/requirements.txt (line 1)) (1.7.2)\n",
      "Requirement already satisfied: charset-normalizer<3.0,>=2.0 in c:\\users\\hwang\\appdata\\roaming\\python\\python39\\site-packages (from aiohttp<=3.8.1->bentoml>=1.0.0a->-r https://raw.githubusercontent.com/bentoml/gallery/main/xgboost/requirements.txt (line 1)) (2.1.0)\n",
      "Requirement already satisfied: async-timeout<5.0,>=4.0.0a3 in c:\\users\\hwang\\appdata\\roaming\\python\\python39\\site-packages (from aiohttp<=3.8.1->bentoml>=1.0.0a->-r https://raw.githubusercontent.com/bentoml/gallery/main/xgboost/requirements.txt (line 1)) (4.0.2)\n",
      "Requirement already satisfied: aiosignal>=1.1.2 in c:\\users\\hwang\\appdata\\roaming\\python\\python39\\site-packages (from aiohttp<=3.8.1->bentoml>=1.0.0a->-r https://raw.githubusercontent.com/bentoml/gallery/main/xgboost/requirements.txt (line 1)) (1.2.0)\n",
      "Requirement already satisfied: exceptiongroup in c:\\users\\hwang\\appdata\\roaming\\python\\python39\\site-packages (from cattrs>=1.10.0->bentoml>=1.0.0a->-r https://raw.githubusercontent.com/bentoml/gallery/main/xgboost/requirements.txt (line 1)) (1.0.0rc8)\n",
      "Requirement already satisfied: colorama in c:\\users\\hwang\\appdata\\roaming\\python\\python39\\site-packages (from click>=7.0->bentoml>=1.0.0a->-r https://raw.githubusercontent.com/bentoml/gallery/main/xgboost/requirements.txt (line 1)) (0.4.4)\n",
      "Requirement already satisfied: MarkupSafe>=2.0 in c:\\users\\hwang\\appdata\\roaming\\python\\python39\\site-packages (from Jinja2>=3.0.1->bentoml>=1.0.0a->-r https://raw.githubusercontent.com/bentoml/gallery/main/xgboost/requirements.txt (line 1)) (2.1.1)\n",
      "Requirement already satisfied: pyparsing!=3.0.5,>=2.0.2 in c:\\users\\hwang\\appdata\\roaming\\python\\python39\\site-packages (from packaging>=20.0->bentoml>=1.0.0a->-r https://raw.githubusercontent.com/bentoml/gallery/main/xgboost/requirements.txt (line 1)) (3.0.7)\n",
      "Requirement already satisfied: build in c:\\users\\hwang\\appdata\\roaming\\python\\python39\\site-packages (from pip-tools>=6.6.2->bentoml>=1.0.0a->-r https://raw.githubusercontent.com/bentoml/gallery/main/xgboost/requirements.txt (line 1)) (0.8.0)\n",
      "Requirement already satisfied: wheel in c:\\programdata\\anaconda3\\lib\\site-packages (from pip-tools>=6.6.2->bentoml>=1.0.0a->-r https://raw.githubusercontent.com/bentoml/gallery/main/xgboost/requirements.txt (line 1)) (0.37.0)\n",
      "Requirement already satisfied: pip>=21.2 in c:\\programdata\\anaconda3\\lib\\site-packages (from pip-tools>=6.6.2->bentoml>=1.0.0a->-r https://raw.githubusercontent.com/bentoml/gallery/main/xgboost/requirements.txt (line 1)) (21.2.4)\n",
      "Requirement already satisfied: commonmark<0.10.0,>=0.9.0 in c:\\users\\hwang\\appdata\\roaming\\python\\python39\\site-packages (from rich>=11.2.0->bentoml>=1.0.0a->-r https://raw.githubusercontent.com/bentoml/gallery/main/xgboost/requirements.txt (line 1)) (0.9.1)\n",
      "Requirement already satisfied: pygments<3.0.0,>=2.6.0 in c:\\users\\hwang\\appdata\\roaming\\python\\python39\\site-packages (from rich>=11.2.0->bentoml>=1.0.0a->-r https://raw.githubusercontent.com/bentoml/gallery/main/xgboost/requirements.txt (line 1)) (2.11.2)\n",
      "Requirement already satisfied: idna>=2.0 in c:\\users\\hwang\\appdata\\roaming\\python\\python39\\site-packages (from yarl<2.0,>=1.0->aiohttp<=3.8.1->bentoml>=1.0.0a->-r https://raw.githubusercontent.com/bentoml/gallery/main/xgboost/requirements.txt (line 1)) (3.3)\n",
      "Requirement already satisfied: pep517>=0.9.1 in c:\\users\\hwang\\appdata\\roaming\\python\\python39\\site-packages (from build->pip-tools>=6.6.2->bentoml>=1.0.0a->-r https://raw.githubusercontent.com/bentoml/gallery/main/xgboost/requirements.txt (line 1)) (0.12.0)\n",
      "Requirement already satisfied: tomli>=1.0.0 in c:\\users\\hwang\\appdata\\roaming\\python\\python39\\site-packages (from build->pip-tools>=6.6.2->bentoml>=1.0.0a->-r https://raw.githubusercontent.com/bentoml/gallery/main/xgboost/requirements.txt (line 1)) (2.0.1)\n",
      "Requirement already satisfied: pyzmq>=17.0 in c:\\users\\hwang\\appdata\\roaming\\python\\python39\\site-packages (from circus->bentoml>=1.0.0a->-r https://raw.githubusercontent.com/bentoml/gallery/main/xgboost/requirements.txt (line 1)) (22.3.0)\n",
      "Requirement already satisfied: tornado>=5.0.2 in c:\\users\\hwang\\appdata\\roaming\\python\\python39\\site-packages (from circus->bentoml>=1.0.0a->-r https://raw.githubusercontent.com/bentoml/gallery/main/xgboost/requirements.txt (line 1)) (6.1)\n",
      "Requirement already satisfied: appdirs~=1.4.3 in c:\\users\\hwang\\appdata\\roaming\\python\\python39\\site-packages (from fs->bentoml>=1.0.0a->-r https://raw.githubusercontent.com/bentoml/gallery/main/xgboost/requirements.txt (line 1)) (1.4.4)\n",
      "Requirement already satisfied: six~=1.10 in c:\\programdata\\anaconda3\\lib\\site-packages (from fs->bentoml>=1.0.0a->-r https://raw.githubusercontent.com/bentoml/gallery/main/xgboost/requirements.txt (line 1)) (1.16.0)\n",
      "Requirement already satisfied: urllib3<1.27,>=1.21.1 in c:\\users\\hwang\\appdata\\roaming\\python\\python39\\site-packages (from requests->bentoml>=1.0.0a->-r https://raw.githubusercontent.com/bentoml/gallery/main/xgboost/requirements.txt (line 1)) (1.25.11)\n",
      "Requirement already satisfied: certifi>=2017.4.17 in c:\\programdata\\anaconda3\\lib\\site-packages (from requests->bentoml>=1.0.0a->-r https://raw.githubusercontent.com/bentoml/gallery/main/xgboost/requirements.txt (line 1)) (2021.10.8)\n",
      "Requirement already satisfied: contextlib2>=0.5.5 in c:\\users\\hwang\\appdata\\roaming\\python\\python39\\site-packages (from schema->bentoml>=1.0.0a->-r https://raw.githubusercontent.com/bentoml/gallery/main/xgboost/requirements.txt (line 1)) (21.6.0)\n",
      "Requirement already satisfied: anyio<5,>=3.4.0 in c:\\users\\hwang\\appdata\\roaming\\python\\python39\\site-packages (from starlette->bentoml>=1.0.0a->-r https://raw.githubusercontent.com/bentoml/gallery/main/xgboost/requirements.txt (line 1)) (3.6.1)\n",
      "Requirement already satisfied: sniffio>=1.1 in c:\\users\\hwang\\appdata\\roaming\\python\\python39\\site-packages (from anyio<5,>=3.4.0->starlette->bentoml>=1.0.0a->-r https://raw.githubusercontent.com/bentoml/gallery/main/xgboost/requirements.txt (line 1)) (1.2.0)\n",
      "Requirement already satisfied: h11>=0.8 in c:\\users\\hwang\\appdata\\roaming\\python\\python39\\site-packages (from uvicorn->bentoml>=1.0.0a->-r https://raw.githubusercontent.com/bentoml/gallery/main/xgboost/requirements.txt (line 1)) (0.13.0)\n",
      "Installing collected packages: xgboost\n",
      "Successfully installed xgboost-1.6.1\n"
     ]
    },
    {
     "name": "stderr",
     "output_type": "stream",
     "text": [
      "WARNING: Ignoring invalid distribution -llib3 (c:\\programdata\\anaconda3\\lib\\site-packages)\n",
      "WARNING: Ignoring invalid distribution -rllib3 (c:\\programdata\\anaconda3\\lib\\site-packages)\n",
      "WARNING: Ignoring invalid distribution -llib3 (c:\\programdata\\anaconda3\\lib\\site-packages)\n",
      "WARNING: Ignoring invalid distribution - (c:\\programdata\\anaconda3\\lib\\site-packages)\n",
      "WARNING: Ignoring invalid distribution -arkupsafe (c:\\programdata\\anaconda3\\lib\\site-packages)\n",
      "WARNING: Ignoring invalid distribution -llib3 (c:\\programdata\\anaconda3\\lib\\site-packages)\n",
      "WARNING: Ignoring invalid distribution -rllib3 (c:\\programdata\\anaconda3\\lib\\site-packages)\n",
      "WARNING: Ignoring invalid distribution -llib3 (c:\\programdata\\anaconda3\\lib\\site-packages)\n",
      "WARNING: Ignoring invalid distribution - (c:\\programdata\\anaconda3\\lib\\site-packages)\n",
      "WARNING: Ignoring invalid distribution -arkupsafe (c:\\programdata\\anaconda3\\lib\\site-packages)\n",
      "WARNING: Ignoring invalid distribution -llib3 (c:\\programdata\\anaconda3\\lib\\site-packages)\n",
      "WARNING: Ignoring invalid distribution -rllib3 (c:\\programdata\\anaconda3\\lib\\site-packages)\n",
      "WARNING: Ignoring invalid distribution -llib3 (c:\\programdata\\anaconda3\\lib\\site-packages)\n",
      "WARNING: Ignoring invalid distribution - (c:\\programdata\\anaconda3\\lib\\site-packages)\n",
      "WARNING: Ignoring invalid distribution -arkupsafe (c:\\programdata\\anaconda3\\lib\\site-packages)\n",
      "WARNING: Ignoring invalid distribution -llib3 (c:\\programdata\\anaconda3\\lib\\site-packages)\n",
      "WARNING: Ignoring invalid distribution -rllib3 (c:\\programdata\\anaconda3\\lib\\site-packages)\n",
      "WARNING: Ignoring invalid distribution -llib3 (c:\\programdata\\anaconda3\\lib\\site-packages)\n",
      "WARNING: Ignoring invalid distribution - (c:\\programdata\\anaconda3\\lib\\site-packages)\n",
      "WARNING: Ignoring invalid distribution -arkupsafe (c:\\programdata\\anaconda3\\lib\\site-packages)\n",
      "WARNING: Ignoring invalid distribution -llib3 (c:\\programdata\\anaconda3\\lib\\site-packages)\n",
      "WARNING: Ignoring invalid distribution -rllib3 (c:\\programdata\\anaconda3\\lib\\site-packages)\n",
      "WARNING: Ignoring invalid distribution -llib3 (c:\\programdata\\anaconda3\\lib\\site-packages)\n",
      "WARNING: Ignoring invalid distribution - (c:\\programdata\\anaconda3\\lib\\site-packages)\n",
      "WARNING: Ignoring invalid distribution -arkupsafe (c:\\programdata\\anaconda3\\lib\\site-packages)\n",
      "WARNING: Ignoring invalid distribution -llib3 (c:\\programdata\\anaconda3\\lib\\site-packages)\n",
      "WARNING: Ignoring invalid distribution -rllib3 (c:\\programdata\\anaconda3\\lib\\site-packages)\n",
      "WARNING: Ignoring invalid distribution -llib3 (c:\\programdata\\anaconda3\\lib\\site-packages)\n",
      "WARNING: Ignoring invalid distribution - (c:\\programdata\\anaconda3\\lib\\site-packages)\n",
      "WARNING: Ignoring invalid distribution -arkupsafe (c:\\programdata\\anaconda3\\lib\\site-packages)\n"
     ]
    }
   ],
   "source": [
    "!pip install -r https://raw.githubusercontent.com/bentoml/gallery/main/xgboost/requirements.txt   --user"
   ]
  },
  {
   "cell_type": "code",
   "execution_count": 4,
   "id": "6d4454bd",
   "metadata": {},
   "outputs": [],
   "source": [
    "import xgboost\n",
    "import bentoml"
   ]
  },
  {
   "cell_type": "markdown",
   "id": "b66e31f7",
   "metadata": {},
   "source": [
    "### Train a classifier using the agaricus dataset:"
   ]
  },
  {
   "cell_type": "code",
   "execution_count": 23,
   "id": "eb526488",
   "metadata": {},
   "outputs": [],
   "source": [
    "# read in data\n",
    "dtrain = xgboost.DMatrix(\"data/agaricus.txt.train\")\n",
    "\n",
    "# specify parameters via map\n",
    "param = {\"max_depth\": 2, \"eta\": 1, \"objective\": \"binary:logistic\"}\n",
    "num_round = 2\n",
    "bst = xgboost.train(param, dtrain, num_round)"
   ]
  },
  {
   "cell_type": "code",
   "execution_count": 24,
   "id": "e94ed449",
   "metadata": {},
   "outputs": [
    {
     "name": "stderr",
     "output_type": "stream",
     "text": [
      "The \"bentoml.xgboost.save\" method is being deprecated. Use \"bentoml.xgboost.save_model\" instead\n"
     ]
    },
    {
     "data": {
      "text/plain": [
       "Model(tag=\"agaricus:ku24bnx7jsbt73c4\", path=\"C:\\Users\\hwang\\bentoml\\models\\agaricus\\ku24bnx7jsbt73c4\\\")"
      ]
     },
     "execution_count": 24,
     "metadata": {},
     "output_type": "execute_result"
    }
   ],
   "source": [
    "bentoml.xgboost.save(\"agaricus\", bst)"
   ]
  },
  {
   "cell_type": "code",
   "execution_count": 7,
   "id": "5a876780",
   "metadata": {},
   "outputs": [
    {
     "name": "stdout",
     "output_type": "stream",
     "text": [
      " Tag                        Module              Size       Creation Time       \n",
      " agaricus:lz5x4d77jklwf3c4  bentoml.xgboost     2.73 KiB   2022-07-09 01:45:41 \n",
      " iris_clf:5fjpqlp7isa7j3c4  bentoml.sklearn     5.77 KiB   2022-07-09 01:06:37 \n",
      " iris_clf:gnq6orh7iomjl3c4  bentoml.sklearn     5.77 KiB   2022-07-09 00:54:23 \n",
      " iris_clf2:d3bdoqh7hom773���  bentoml.sklearn     5.77 KiB   2022-07-08 23:56:32 \n",
      " iris_clf:ecx4ls77hc2rh3c4  bentoml.sklearn     5.77 KiB   2022-07-08 23:35:07 \n",
      " iris_clf:kh3nvy74qwl5d3c4  bentoml.sklearn     5.77 KiB   2022-07-05 13:10:07 \n",
      " iris_clf:5vmudih4gcs7p3c4  bentoml.sklearn     5.77 KiB   2022-07-05 03:06:01 \n",
      " iris_clf:kanmpkp4fwp7r3c4  bentoml.sklearn     5.77 KiB   2022-07-05 02:40:08 \n",
      " iris_clf:prylms74fsl5f3c4  bentoml.sklearn     5.77 KiB   2022-07-05 02:34:13 \n",
      " iris_clf:sckamh74fcvkp3c4  bentoml.sklearn     5.77 KiB   2022-07-05 02:06:09 \n",
      " iris_clf:74p4xjp4e6qf73c4  bentoml.sklearn     5.77 KiB   2022-07-05 02:02:05 \n",
      " iris_clf:wjslp5x4ewnhl3c4  bentoml.sklearn     5.77 KiB   2022-07-05 01:45:37 \n",
      " tensorflow_mnist:zb6a5kx���  bentoml.tensorflow  10.63 MiB  2022-07-03 01:48:37 \n",
      " tensorflow_mnist:vtcopk7���  bentoml.tensorflow  10.63 MiB  2022-07-03 01:47:50 \n",
      " iris_clf:zwxqehx2qsjaj3c4  bentoml.sklearn     5.62 KiB   2022-07-03 00:01:23 \n",
      " iris_clf:aikzy7x2gwhmn3c4  bentoml.sklearn     5.62 KiB   2022-07-02 14:30:11 \n",
      " iris_clf:d6kvdq72foszf3c4  bentoml.sklearn     5.62 KiB   2022-07-02 13:19:26 \n",
      " iris_clf:pigbr2p2bskwv3c4  bentoml.sklearn     5.62 KiB   2022-07-02 09:40:03 \n",
      " iris_clf:qvvu2l7z36hat3c4  bentoml.sklearn     5.62 KiB   2022-07-02 04:18:15 \n",
      " iris_clf:n4osd4hz36shv3c4  bentoml.sklearn     5.62 KiB   2022-07-02 04:17:37 \n",
      " iris_clf:njgwiwhz36djl3c4  bentoml.sklearn     5.62 KiB   2022-07-02 04:17:29 \n",
      " iris_clf:mir3s2pz36con3c4  bentoml.sklearn     5.62 KiB   2022-07-02 04:17:16 \n",
      " iris_clf:5gecqwxz3w6rx3c4  bentoml.sklearn     5.62 KiB   2022-07-02 04:06:44 \n",
      " iris_clf:vaf3ej7z3w46l3c4  bentoml.sklearn     5.62 KiB   2022-07-02 04:04:54 \n",
      " iris_clf:q675qf7z3wxpn3c4  bentoml.sklearn     5.62 KiB   2022-07-02 04:04:00 \n",
      " iris_clf:fwi7vtpz3sv5l3c4  bentoml.sklearn     5.62 KiB   2022-07-02 03:54:19 \n",
      " iris_clf:46dsuj7z2gajd3c4  bentoml.sklearn     5.62 KiB   2022-07-02 02:40:46 \n",
      " iris_clf:54b7sa7zz2z7t3c4  bentoml.sklearn     5.62 KiB   2022-07-02 02:19:31 \n",
      " iris_clf:xus6wfhzz2s2t3c4  bentoml.sklearn     5.62 KiB   2022-07-02 02:18:07 \n"
     ]
    }
   ],
   "source": [
    "!bentoml models list"
   ]
  },
  {
   "cell_type": "markdown",
   "id": "672721c4",
   "metadata": {},
   "source": [
    "Test loading the model as a BentoML Runner instance:"
   ]
  },
  {
   "cell_type": "markdown",
   "id": "a3fe66cb",
   "metadata": {},
   "source": [
    "# 주름버섯속 구분\n",
    "https://ko.wikipedia.org/wiki/%EC%A3%BC%EB%A6%84%EB%B2%84%EC%84%AF%EC%86%8D\n"
   ]
  },
  {
   "cell_type": "code",
   "execution_count": 29,
   "id": "e5d3b51b",
   "metadata": {},
   "outputs": [
    {
     "ename": "ModuleNotFoundError",
     "evalue": "No module named 'dmatrix2np'",
     "output_type": "error",
     "traceback": [
      "\u001b[1;31m---------------------------------------------------------------------------\u001b[0m",
      "\u001b[1;31mModuleNotFoundError\u001b[0m                       Traceback (most recent call last)",
      "Input \u001b[1;32mIn [29]\u001b[0m, in \u001b[0;36m<cell line: 1>\u001b[1;34m()\u001b[0m\n\u001b[1;32m----> 1\u001b[0m \u001b[38;5;28;01mfrom\u001b[39;00m \u001b[38;5;21;01mdmatrix2np\u001b[39;00m \u001b[38;5;28;01mimport\u001b[39;00m dmatrix_to_numpy\n\u001b[0;32m      3\u001b[0m converted_np_array \u001b[38;5;241m=\u001b[39m dmatrix_to_numpy(dtrain)\n\u001b[0;32m      4\u001b[0m \u001b[38;5;28mprint\u001b[39m(converted_np_array)\n",
      "\u001b[1;31mModuleNotFoundError\u001b[0m: No module named 'dmatrix2np'"
     ]
    }
   ],
   "source": [
    "from dmatrix2np import dmatrix_to_numpy\n",
    "\n",
    "converted_np_array = dmatrix_to_numpy(dtrain)\n",
    "print(converted_np_array)"
   ]
  },
  {
   "cell_type": "code",
   "execution_count": 32,
   "id": "28ac794b",
   "metadata": {},
   "outputs": [
    {
     "ename": "StateException",
     "evalue": "Runner is not initialized",
     "output_type": "error",
     "traceback": [
      "\u001b[1;31m---------------------------------------------------------------------------\u001b[0m",
      "\u001b[1;31mStateException\u001b[0m                            Traceback (most recent call last)",
      "Input \u001b[1;32mIn [32]\u001b[0m, in \u001b[0;36m<cell line: 6>\u001b[1;34m()\u001b[0m\n\u001b[0;32m      1\u001b[0m \u001b[38;5;66;03m# The \"bentoml.sklearn.load_runner\" method is being deprecated. Use `bentoml.sklearn.get(\"agaricus:latest\").to_runner()` instead\u001b[39;00m\n\u001b[0;32m      2\u001b[0m \u001b[38;5;66;03m# test_runner = bentoml.sklearn.load_runner(\"agaricus:latest\")\u001b[39;00m\n\u001b[0;32m      5\u001b[0m test_runner \u001b[38;5;241m=\u001b[39m bentoml\u001b[38;5;241m.\u001b[39mxgboost\u001b[38;5;241m.\u001b[39mget(\u001b[38;5;124m\"\u001b[39m\u001b[38;5;124magaricus:latest\u001b[39m\u001b[38;5;124m\"\u001b[39m)\u001b[38;5;241m.\u001b[39mto_runner()\n\u001b[1;32m----> 6\u001b[0m \u001b[43mtest_runner\u001b[49m\u001b[38;5;241;43m.\u001b[39;49m\u001b[43mrun\u001b[49m\u001b[43m(\u001b[49m\u001b[43m[\u001b[49m\u001b[38;5;241;43m0\u001b[39;49m\u001b[43m,\u001b[49m\u001b[43m \u001b[49m\u001b[38;5;241;43m0\u001b[39;49m\u001b[43m,\u001b[49m\u001b[43m \u001b[49m\u001b[38;5;241;43m1\u001b[39;49m\u001b[43m,\u001b[49m\u001b[43m \u001b[49m\u001b[38;5;241;43m0\u001b[39;49m\u001b[43m,\u001b[49m\u001b[43m \u001b[49m\u001b[38;5;241;43m0\u001b[39;49m\u001b[43m,\u001b[49m\u001b[43m \u001b[49m\u001b[38;5;241;43m0\u001b[39;49m\u001b[43m,\u001b[49m\u001b[43m \u001b[49m\u001b[38;5;241;43m0\u001b[39;49m\u001b[43m,\u001b[49m\u001b[43m \u001b[49m\u001b[38;5;241;43m0\u001b[39;49m\u001b[43m,\u001b[49m\u001b[43m \u001b[49m\u001b[38;5;241;43m0\u001b[39;49m\u001b[43m,\u001b[49m\u001b[43m \u001b[49m\u001b[38;5;241;43m1\u001b[39;49m\u001b[43m,\u001b[49m\u001b[43m \u001b[49m\u001b[38;5;241;43m1\u001b[39;49m\u001b[43m,\u001b[49m\u001b[43m \u001b[49m\u001b[38;5;241;43m0\u001b[39;49m\u001b[43m,\u001b[49m\u001b[43m \u001b[49m\u001b[38;5;241;43m0\u001b[39;49m\u001b[43m,\u001b[49m\u001b[43m \u001b[49m\u001b[38;5;241;43m0\u001b[39;49m\u001b[43m,\u001b[49m\u001b[43m \u001b[49m\u001b[38;5;241;43m0\u001b[39;49m\u001b[43m,\u001b[49m\u001b[43m \u001b[49m\u001b[38;5;241;43m0\u001b[39;49m\u001b[43m,\u001b[49m\u001b[43m \u001b[49m\u001b[38;5;241;43m0\u001b[39;49m\u001b[43m,\u001b[49m\u001b[43m \u001b[49m\u001b[38;5;241;43m0\u001b[39;49m\u001b[43m,\u001b[49m\u001b[43m \u001b[49m\u001b[38;5;241;43m0\u001b[39;49m\u001b[43m,\u001b[49m\u001b[43m \u001b[49m\u001b[38;5;241;43m0\u001b[39;49m\u001b[43m,\u001b[49m\u001b[43m \u001b[49m\u001b[38;5;241;43m1\u001b[39;49m\u001b[43m,\u001b[49m\u001b[43m \u001b[49m\u001b[38;5;241;43m0\u001b[39;49m\u001b[43m,\u001b[49m\u001b[43m \u001b[49m\u001b[38;5;241;43m0\u001b[39;49m\u001b[43m,\u001b[49m\u001b[43m \u001b[49m\u001b[38;5;241;43m0\u001b[39;49m\u001b[43m,\u001b[49m\u001b[43m \u001b[49m\u001b[38;5;241;43m0\u001b[39;49m\u001b[43m,\u001b[49m\u001b[43m \u001b[49m\u001b[38;5;241;43m0\u001b[39;49m\u001b[43m,\u001b[49m\u001b[43m \u001b[49m\u001b[38;5;241;43m0\u001b[39;49m\u001b[43m,\u001b[49m\u001b[43m \u001b[49m\u001b[38;5;241;43m0\u001b[39;49m\u001b[43m,\u001b[49m\u001b[43m \u001b[49m\u001b[38;5;241;43m0\u001b[39;49m\u001b[43m,\u001b[49m\u001b[43m \u001b[49m\u001b[38;5;241;43m1\u001b[39;49m\u001b[43m,\u001b[49m\u001b[43m \u001b[49m\u001b[38;5;241;43m0\u001b[39;49m\u001b[43m,\u001b[49m\u001b[43m \u001b[49m\u001b[38;5;241;43m0\u001b[39;49m\u001b[43m,\u001b[49m\u001b[43m \u001b[49m\u001b[38;5;241;43m0\u001b[39;49m\u001b[43m,\u001b[49m\u001b[43m \u001b[49m\u001b[38;5;241;43m1\u001b[39;49m\u001b[43m,\u001b[49m\u001b[43m \u001b[49m\u001b[38;5;241;43m0\u001b[39;49m\u001b[43m,\u001b[49m\u001b[43m \u001b[49m\u001b[38;5;241;43m1\u001b[39;49m\u001b[43m,\u001b[49m\u001b[43m \u001b[49m\u001b[38;5;241;43m0\u001b[39;49m\u001b[43m,\u001b[49m\u001b[43m \u001b[49m\u001b[38;5;241;43m0\u001b[39;49m\u001b[43m,\u001b[49m\u001b[43m \u001b[49m\u001b[38;5;241;43m0\u001b[39;49m\u001b[43m,\u001b[49m\u001b[43m \u001b[49m\u001b[38;5;241;43m1\u001b[39;49m\u001b[43m,\u001b[49m\u001b[43m \u001b[49m\u001b[38;5;241;43m1\u001b[39;49m\u001b[43m,\u001b[49m\u001b[43m \u001b[49m\u001b[38;5;241;43m0\u001b[39;49m\u001b[43m,\u001b[49m\u001b[43m \u001b[49m\u001b[38;5;241;43m0\u001b[39;49m\u001b[43m,\u001b[49m\u001b[43m \u001b[49m\u001b[38;5;241;43m0\u001b[39;49m\u001b[43m,\u001b[49m\u001b[43m \u001b[49m\u001b[38;5;241;43m0\u001b[39;49m\u001b[43m,\u001b[49m\u001b[43m \u001b[49m\u001b[38;5;241;43m0\u001b[39;49m\u001b[43m,\u001b[49m\u001b[43m \u001b[49m\u001b[38;5;241;43m0\u001b[39;49m\u001b[43m,\u001b[49m\u001b[43m \u001b[49m\u001b[38;5;241;43m0\u001b[39;49m\u001b[43m,\u001b[49m\u001b[43m \u001b[49m\u001b[38;5;241;43m0\u001b[39;49m\u001b[43m,\u001b[49m\u001b[43m \u001b[49m\u001b[38;5;241;43m0\u001b[39;49m\u001b[43m,\u001b[49m\u001b[43m \u001b[49m\u001b[38;5;241;43m0\u001b[39;49m\u001b[43m,\u001b[49m\u001b[43m \u001b[49m\u001b[38;5;241;43m0\u001b[39;49m\u001b[43m,\u001b[49m\u001b[43m \u001b[49m\u001b[38;5;241;43m1\u001b[39;49m\u001b[43m,\u001b[49m\u001b[43m \u001b[49m\u001b[38;5;241;43m0\u001b[39;49m\u001b[43m,\u001b[49m\u001b[43m \u001b[49m\u001b[38;5;241;43m0\u001b[39;49m\u001b[43m,\u001b[49m\u001b[43m \u001b[49m\u001b[38;5;241;43m0\u001b[39;49m\u001b[43m,\u001b[49m\u001b[43m \u001b[49m\u001b[38;5;241;43m0\u001b[39;49m\u001b[43m,\u001b[49m\u001b[43m \u001b[49m\u001b[38;5;241;43m1\u001b[39;49m\u001b[43m,\u001b[49m\u001b[43m \u001b[49m\u001b[38;5;241;43m0\u001b[39;49m\u001b[43m,\u001b[49m\u001b[43m \u001b[49m\u001b[38;5;241;43m0\u001b[39;49m\u001b[43m,\u001b[49m\u001b[43m \u001b[49m\u001b[38;5;241;43m0\u001b[39;49m\u001b[43m,\u001b[49m\u001b[43m \u001b[49m\u001b[38;5;241;43m0\u001b[39;49m\u001b[43m,\u001b[49m\u001b[43m \u001b[49m\u001b[38;5;241;43m0\u001b[39;49m\u001b[43m,\u001b[49m\u001b[43m \u001b[49m\u001b[38;5;241;43m0\u001b[39;49m\u001b[43m,\u001b[49m\u001b[43m \u001b[49m\u001b[38;5;241;43m1\u001b[39;49m\u001b[43m,\u001b[49m\u001b[43m \u001b[49m\u001b[38;5;241;43m0\u001b[39;49m\u001b[43m,\u001b[49m\u001b[43m \u001b[49m\u001b[38;5;241;43m0\u001b[39;49m\u001b[43m,\u001b[49m\u001b[43m \u001b[49m\u001b[38;5;241;43m0\u001b[39;49m\u001b[43m,\u001b[49m\u001b[43m \u001b[49m\u001b[38;5;241;43m1\u001b[39;49m\u001b[43m,\u001b[49m\u001b[43m \u001b[49m\u001b[38;5;241;43m0\u001b[39;49m\u001b[43m,\u001b[49m\u001b[43m \u001b[49m\u001b[38;5;241;43m0\u001b[39;49m\u001b[43m,\u001b[49m\u001b[43m \u001b[49m\u001b[38;5;241;43m0\u001b[39;49m\u001b[43m,\u001b[49m\u001b[43m \u001b[49m\u001b[38;5;241;43m0\u001b[39;49m\u001b[43m,\u001b[49m\u001b[43m \u001b[49m\u001b[38;5;241;43m0\u001b[39;49m\u001b[43m,\u001b[49m\u001b[43m \u001b[49m\u001b[38;5;241;43m0\u001b[39;49m\u001b[43m,\u001b[49m\u001b[43m \u001b[49m\u001b[38;5;241;43m0\u001b[39;49m\u001b[43m,\u001b[49m\u001b[43m \u001b[49m\u001b[38;5;241;43m1\u001b[39;49m\u001b[43m,\u001b[49m\u001b[43m \u001b[49m\u001b[38;5;241;43m0\u001b[39;49m\u001b[43m,\u001b[49m\u001b[43m \u001b[49m\u001b[38;5;241;43m0\u001b[39;49m\u001b[43m,\u001b[49m\u001b[43m \u001b[49m\u001b[38;5;241;43m0\u001b[39;49m\u001b[43m,\u001b[49m\u001b[43m \u001b[49m\u001b[38;5;241;43m0\u001b[39;49m\u001b[43m,\u001b[49m\u001b[43m \u001b[49m\u001b[38;5;241;43m0\u001b[39;49m\u001b[43m,\u001b[49m\u001b[43m \u001b[49m\u001b[38;5;241;43m0\u001b[39;49m\u001b[43m,\u001b[49m\u001b[43m \u001b[49m\u001b[38;5;241;43m0\u001b[39;49m\u001b[43m,\u001b[49m\u001b[43m \u001b[49m\u001b[38;5;241;43m0\u001b[39;49m\u001b[43m,\u001b[49m\u001b[43m \u001b[49m\u001b[38;5;241;43m1\u001b[39;49m\u001b[43m,\u001b[49m\u001b[43m \u001b[49m\u001b[38;5;241;43m0\u001b[39;49m\u001b[43m,\u001b[49m\u001b[43m \u001b[49m\u001b[38;5;241;43m1\u001b[39;49m\u001b[43m,\u001b[49m\u001b[43m \u001b[49m\u001b[38;5;241;43m0\u001b[39;49m\u001b[43m,\u001b[49m\u001b[43m \u001b[49m\u001b[38;5;241;43m0\u001b[39;49m\u001b[43m,\u001b[49m\u001b[43m \u001b[49m\u001b[38;5;241;43m0\u001b[39;49m\u001b[43m,\u001b[49m\u001b[43m \u001b[49m\u001b[38;5;241;43m1\u001b[39;49m\u001b[43m,\u001b[49m\u001b[43m \u001b[49m\u001b[38;5;241;43m0\u001b[39;49m\u001b[43m,\u001b[49m\u001b[43m \u001b[49m\u001b[38;5;241;43m0\u001b[39;49m\u001b[43m,\u001b[49m\u001b[43m \u001b[49m\u001b[38;5;241;43m1\u001b[39;49m\u001b[43m,\u001b[49m\u001b[43m \u001b[49m\u001b[38;5;241;43m0\u001b[39;49m\u001b[43m,\u001b[49m\u001b[43m \u001b[49m\u001b[38;5;241;43m0\u001b[39;49m\u001b[43m,\u001b[49m\u001b[43m \u001b[49m\u001b[38;5;241;43m0\u001b[39;49m\u001b[43m,\u001b[49m\u001b[43m \u001b[49m\u001b[38;5;241;43m0\u001b[39;49m\u001b[43m,\u001b[49m\u001b[43m \u001b[49m\u001b[38;5;241;43m0\u001b[39;49m\u001b[43m,\u001b[49m\u001b[43m \u001b[49m\u001b[38;5;241;43m0\u001b[39;49m\u001b[43m,\u001b[49m\u001b[43m \u001b[49m\u001b[38;5;241;43m1\u001b[39;49m\u001b[43m,\u001b[49m\u001b[43m \u001b[49m\u001b[38;5;241;43m0\u001b[39;49m\u001b[43m,\u001b[49m\u001b[43m \u001b[49m\u001b[38;5;241;43m0\u001b[39;49m\u001b[43m,\u001b[49m\u001b[43m \u001b[49m\u001b[38;5;241;43m1\u001b[39;49m\u001b[43m,\u001b[49m\u001b[43m \u001b[49m\u001b[38;5;241;43m0\u001b[39;49m\u001b[43m,\u001b[49m\u001b[43m \u001b[49m\u001b[38;5;241;43m0\u001b[39;49m\u001b[43m,\u001b[49m\u001b[43m \u001b[49m\u001b[38;5;241;43m0\u001b[39;49m\u001b[43m,\u001b[49m\u001b[43m \u001b[49m\u001b[38;5;241;43m0\u001b[39;49m\u001b[43m,\u001b[49m\u001b[43m \u001b[49m\u001b[38;5;241;43m0\u001b[39;49m\u001b[43m,\u001b[49m\u001b[43m \u001b[49m\u001b[38;5;241;43m0\u001b[39;49m\u001b[43m,\u001b[49m\u001b[43m \u001b[49m\u001b[38;5;241;43m0\u001b[39;49m\u001b[43m,\u001b[49m\u001b[43m \u001b[49m\u001b[38;5;241;43m0\u001b[39;49m\u001b[43m,\u001b[49m\u001b[43m \u001b[49m\u001b[38;5;241;43m0\u001b[39;49m\u001b[43m,\u001b[49m\u001b[43m \u001b[49m\u001b[38;5;241;43m0\u001b[39;49m\u001b[43m,\u001b[49m\u001b[43m \u001b[49m\u001b[38;5;241;43m0\u001b[39;49m\u001b[43m,\u001b[49m\u001b[43m \u001b[49m\u001b[38;5;241;43m1\u001b[39;49m\u001b[43m,\u001b[49m\u001b[43m \u001b[49m\u001b[38;5;241;43m0\u001b[39;49m\u001b[43m,\u001b[49m\u001b[43m \u001b[49m\u001b[38;5;241;43m0\u001b[39;49m\u001b[43m,\u001b[49m\u001b[43m \u001b[49m\u001b[38;5;241;43m0\u001b[39;49m\u001b[43m,\u001b[49m\u001b[43m \u001b[49m\u001b[38;5;241;43m0\u001b[39;49m\u001b[43m,\u001b[49m\u001b[43m \u001b[49m\u001b[38;5;241;43m0\u001b[39;49m\u001b[43m,\u001b[49m\u001b[43m \u001b[49m\u001b[38;5;241;43m0\u001b[39;49m\u001b[43m,\u001b[49m\u001b[43m \u001b[49m\u001b[38;5;241;43m1\u001b[39;49m\u001b[43m]\u001b[49m\u001b[43m)\u001b[49m\n",
      "File \u001b[1;32m~\\AppData\\Roaming\\Python\\Python39\\site-packages\\bentoml\\_internal\\runner\\runner.py:40\u001b[0m, in \u001b[0;36mRunnerMethod.run\u001b[1;34m(self, *args, **kwargs)\u001b[0m\n\u001b[0;32m     39\u001b[0m \u001b[38;5;28;01mdef\u001b[39;00m \u001b[38;5;21mrun\u001b[39m(\u001b[38;5;28mself\u001b[39m, \u001b[38;5;241m*\u001b[39margs: t\u001b[38;5;241m.\u001b[39mAny, \u001b[38;5;241m*\u001b[39m\u001b[38;5;241m*\u001b[39mkwargs: t\u001b[38;5;241m.\u001b[39mAny) \u001b[38;5;241m-\u001b[39m\u001b[38;5;241m>\u001b[39m t\u001b[38;5;241m.\u001b[39mAny:\n\u001b[1;32m---> 40\u001b[0m     \u001b[38;5;28;01mreturn\u001b[39;00m \u001b[38;5;28mself\u001b[39m\u001b[38;5;241m.\u001b[39mrunner\u001b[38;5;241m.\u001b[39m_runner_handle\u001b[38;5;241m.\u001b[39mrun_method(  \u001b[38;5;66;03m# type: ignore\u001b[39;00m\n\u001b[0;32m     41\u001b[0m         \u001b[38;5;28mself\u001b[39m,\n\u001b[0;32m     42\u001b[0m         \u001b[38;5;241m*\u001b[39margs,\n\u001b[0;32m     43\u001b[0m         \u001b[38;5;241m*\u001b[39m\u001b[38;5;241m*\u001b[39mkwargs,\n\u001b[0;32m     44\u001b[0m     )\n",
      "File \u001b[1;32m~\\AppData\\Roaming\\Python\\Python39\\site-packages\\bentoml\\_internal\\runner\\runner_handle\\__init__.py:58\u001b[0m, in \u001b[0;36mDummyRunnerHandle.run_method\u001b[1;34m(self, _DummyRunnerHandle__bentoml_method, *args, **kwargs)\u001b[0m\n\u001b[0;32m     52\u001b[0m \u001b[38;5;28;01mdef\u001b[39;00m \u001b[38;5;21mrun_method\u001b[39m(\n\u001b[0;32m     53\u001b[0m     \u001b[38;5;28mself\u001b[39m,\n\u001b[0;32m     54\u001b[0m     __bentoml_method: RunnerMethod[t\u001b[38;5;241m.\u001b[39mAny, t\u001b[38;5;241m.\u001b[39mAny, t\u001b[38;5;241m.\u001b[39mAny],\n\u001b[0;32m     55\u001b[0m     \u001b[38;5;241m*\u001b[39margs: t\u001b[38;5;241m.\u001b[39mAny,\n\u001b[0;32m     56\u001b[0m     \u001b[38;5;241m*\u001b[39m\u001b[38;5;241m*\u001b[39mkwargs: t\u001b[38;5;241m.\u001b[39mAny,\n\u001b[0;32m     57\u001b[0m ) \u001b[38;5;241m-\u001b[39m\u001b[38;5;241m>\u001b[39m t\u001b[38;5;241m.\u001b[39mAny:\n\u001b[1;32m---> 58\u001b[0m     \u001b[38;5;28;01mraise\u001b[39;00m StateException(\u001b[38;5;124m\"\u001b[39m\u001b[38;5;124mRunner is not initialized\u001b[39m\u001b[38;5;124m\"\u001b[39m)\n",
      "\u001b[1;31mStateException\u001b[0m: Runner is not initialized"
     ]
    }
   ],
   "source": [
    "# The \"bentoml.sklearn.load_runner\" method is being deprecated. Use `bentoml.sklearn.get(\"agaricus:latest\").to_runner()` instead\n",
    "# test_runner = bentoml.sklearn.load_runner(\"agaricus:latest\")\n",
    "\n",
    "\n",
    "test_runner = bentoml.xgboost.get(\"agaricus:latest\").to_runner()\n",
    "test_runner.run([0, 0, 1, 0, 0, 0, 0, 0, 0, 1, 1, 0, 0, 0, 0, 0, 0, 0, 0, 0, 1, 0, 0, 0, 0, 0, 0, 0, 0, 1, 0, 0, 0, 1, 0, 1, 0, 0, 0, 1, 1, 0, 0, 0, 0, 0, 0, 0, 0, 0, 0, 0, 1, 0, 0, 0, 0, 1, 0, 0, 0, 0, 0, 0, 1, 0, 0, 0, 1, 0, 0, 0, 0, 0, 0, 0, 1, 0, 0, 0, 0, 0, 0, 0, 0, 1, 0, 1, 0, 0, 0, 1, 0, 0, 1, 0, 0, 0, 0, 0, 0, 1, 0, 0, 1, 0, 0, 0, 0, 0, 0, 0, 0, 0, 0, 0, 1, 0, 0, 0, 0, 0, 0, 1])  # => array(0.01241208, dtype=float32)"
   ]
  },
  {
   "cell_type": "code",
   "execution_count": 18,
   "id": "3309bf5e",
   "metadata": {},
   "outputs": [
    {
     "name": "stdout",
     "output_type": "stream",
     "text": [
      "Help on Runner in module bentoml._internal.runner.runner object:\n",
      "\n",
      "class Runner(builtins.object)\n",
      " |  Runner(runnable_class: 't.Type[Runnable]', *, runnable_init_params: 't.Dict[str, t.Any] | None' = None, name: 'str | None' = None, scheduling_strategy: 't.Type[Strategy]' = <class 'bentoml._internal.runner.strategy.DefaultStrategy'>, models: 't.List[Model] | None' = None, max_batch_size: 'int | None' = None, max_latency_ms: 'int | None' = None, method_configs: 't.Dict[str, t.Dict[str, int]] | None' = None) -> 'None'\n",
      " |  \n",
      " |  Methods defined here:\n",
      " |  \n",
      " |  __attrs_init__(self, runnable_class: 't.Type[Runnable]', runnable_init_params: 'dict[str, t.Any]', name: 'str', models: 'list[Model]', resource_config: 'dict[str, t.Any]', runner_methods: 'list[RunnerMethod[t.Any, t.Any, t.Any]]', scheduling_strategy: 't.Type[Strategy]') -> None\n",
      " |      Method generated by attrs for class Runner.\n",
      " |  \n",
      " |  __delattr__ = _frozen_delattrs(self, name)\n",
      " |      Attached to frozen classes as __delattr__.\n",
      " |  \n",
      " |  __init__(self, runnable_class: 't.Type[Runnable]', *, runnable_init_params: 't.Dict[str, t.Any] | None' = None, name: 'str | None' = None, scheduling_strategy: 't.Type[Strategy]' = <class 'bentoml._internal.runner.strategy.DefaultStrategy'>, models: 't.List[Model] | None' = None, max_batch_size: 'int | None' = None, max_latency_ms: 'int | None' = None, method_configs: 't.Dict[str, t.Dict[str, int]] | None' = None) -> 'None'\n",
      " |      Args:\n",
      " |          runnable_class: runnable class\n",
      " |          runnable_init_params: runnable init params\n",
      " |          name: runner name\n",
      " |          scheduling_strategy: scheduling strategy\n",
      " |          models: list of required bento models\n",
      " |          max_batch_size: max batch size config for micro batching\n",
      " |          max_latency_ms: max latency config for micro batching\n",
      " |          method_configs: per method configs\n",
      " |  \n",
      " |  __repr__(self)\n",
      " |      Method generated by attrs for class Runner.\n",
      " |  \n",
      " |  __setattr__ = _frozen_setattrs(self, name, value)\n",
      " |      Attached to frozen classes as __setattr__.\n",
      " |  \n",
      " |  destroy(self)\n",
      " |  \n",
      " |  init_client(self)\n",
      " |      init client for a remote runner instance\n",
      " |  \n",
      " |  init_local(self, quiet: 'bool' = False) -> 'None'\n",
      " |      init local runnable instance, for testing and debugging only\n",
      " |  \n",
      " |  setup_worker(self, worker_id: 'int') -> 'None'\n",
      " |  \n",
      " |  ----------------------------------------------------------------------\n",
      " |  Readonly properties defined here:\n",
      " |  \n",
      " |  scheduled_worker_count\n",
      " |  \n",
      " |  ----------------------------------------------------------------------\n",
      " |  Data descriptors defined here:\n",
      " |  \n",
      " |  __dict__\n",
      " |      dictionary for instance variables (if defined)\n",
      " |  \n",
      " |  __weakref__\n",
      " |      list of weak references to the object (if defined)\n",
      " |  \n",
      " |  ----------------------------------------------------------------------\n",
      " |  Data and other attributes defined here:\n",
      " |  \n",
      " |  __annotations__ = {'_runner_handle': 'RunnerHandle', 'models': 'list[M...\n",
      " |  \n",
      " |  __attrs_attrs__ = (Attribute(name='runnable_class', default=NOTHIN...k...\n",
      "\n"
     ]
    }
   ],
   "source": [
    "help (test_runner)"
   ]
  },
  {
   "cell_type": "markdown",
   "id": "3fa68254",
   "metadata": {},
   "source": [
    "### Create a BentoML Service for serving the model\n",
    "\n",
    "Note: using `%%writefile` here because `bentoml.Service` instance must be created in a separate `.py` file"
   ]
  },
  {
   "cell_type": "code",
   "execution_count": 19,
   "id": "127aa3fd",
   "metadata": {},
   "outputs": [
    {
     "name": "stdout",
     "output_type": "stream",
     "text": [
      "Writing iris_classifier.py\n"
     ]
    }
   ],
   "source": [
    "%%writefile iris_classifier.py\n",
    "import typing\n",
    "\n",
    "import bentoml\n",
    "import xgboost\n",
    "from bentoml.io import NumpyNdarray, File\n",
    "\n",
    "if typing.TYPE_CHECKING:\n",
    "    import numpy as np\n",
    "\n",
    "agaricus_runner = bentoml.xgboost.load_runner(\"agaricus:latest\")\n",
    "\n",
    "svc = bentoml.Service(\"agaricus\", runners=[agaricus_runner])\n",
    "\n",
    "\n",
    "@svc.api(input=NumpyNdarray(), output=NumpyNdarray())\n",
    "def classify(input_data: \"np.ndarray\") -> \"np.ndarray\":\n",
    "    return agaricus_runner.run(input_data)"
   ]
  },
  {
   "cell_type": "markdown",
   "id": "203beeed",
   "metadata": {},
   "source": [
    "Start a dev model server to test out the service defined above:"
   ]
  },
  {
   "cell_type": "code",
   "execution_count": 20,
   "id": "7523b58f",
   "metadata": {},
   "outputs": [
    {
     "name": "stdout",
     "output_type": "stream",
     "text": [
      "^C\n"
     ]
    }
   ],
   "source": [
    "!bentoml serve agaricus.py:svc"
   ]
  },
  {
   "cell_type": "markdown",
   "id": "3974e4ce",
   "metadata": {},
   "source": [
    "Open a new browser tab and test out the API endpoint from the web UI."
   ]
  },
  {
   "cell_type": "markdown",
   "id": "4f1a8bcc",
   "metadata": {},
   "source": [
    "### Build a Bento for distribution and deployment"
   ]
  },
  {
   "cell_type": "code",
   "execution_count": null,
   "id": "6ef11159",
   "metadata": {},
   "outputs": [],
   "source": [
    "bentoml.build(\n",
    "    \"agaricus.py:svc\",\n",
    "    include=[\"*.py\"],\n",
    "    exclude=[\"locustfile.py\"]\n",
    "    description=\"file:./README.md\",\n",
    "    python=dict(\n",
    "        packages=[\"xgboost\"]\n",
    "    )\n",
    ")"
   ]
  },
  {
   "cell_type": "markdown",
   "id": "47505e3c",
   "metadata": {},
   "source": [
    "Starting a dev server with the Bento build:"
   ]
  },
  {
   "cell_type": "code",
   "execution_count": null,
   "id": "b7cab8b2",
   "metadata": {},
   "outputs": [],
   "source": [
    "!bentoml serve agaricus:latest"
   ]
  },
  {
   "cell_type": "markdown",
   "id": "4c159551",
   "metadata": {},
   "source": [
    "## Hooray, your model is ready for production now 🎉\n",
    "\n",
    "Bento is a standarized format for storing models alongside with all their API definitions, configuration, and environment settings. BentoML can start an REST API server serving a Bento, run a Bento as batch processing job on distributed dataset, or containerize all dependencies and models into a docker container image for easy production deployment."
   ]
  },
  {
   "cell_type": "markdown",
   "id": "81ed8b84",
   "metadata": {},
   "source": [
    "### Optional: create a docker image for the model server"
   ]
  },
  {
   "cell_type": "markdown",
   "id": "8c215454",
   "metadata": {},
   "source": [
    "This will require docker to be installed and docker daemon to be running:"
   ]
  },
  {
   "cell_type": "code",
   "execution_count": null,
   "id": "5047751c",
   "metadata": {},
   "outputs": [],
   "source": [
    "bentoml.bentos.containerize(\"agaricus:latest\")"
   ]
  },
  {
   "cell_type": "markdown",
   "id": "b5bdf2a1",
   "metadata": {},
   "source": [
    "## What's next?\n",
    "\n",
    "* Learn more at http://docs.bentoml.org 📖\n",
    "* Join [BentoML Slack community](https://join.slack.com/t/bentoml/shared_invite/enQtNjcyMTY3MjE4NTgzLTU3ZDc1MWM5MzQxMWQxMzJiNTc1MTJmMzYzMTYwMjQ0OGEwNDFmZDkzYWQxNzgxYWNhNjAxZjk4MzI4OGY1Yjg) 👈\n",
    "* Follow us on [Twitter](https://twitter.com/bentomlai) 🐦\n",
    "* Contribute to [BentoML on Github](https://github.com/bentoml/BentoML) 💻"
   ]
  }
 ],
 "metadata": {
  "kernelspec": {
   "display_name": "mlops_env",
   "language": "python",
   "name": "mlops_env"
  },
  "language_info": {
   "codemirror_mode": {
    "name": "ipython",
    "version": 3
   },
   "file_extension": ".py",
   "mimetype": "text/x-python",
   "name": "python",
   "nbconvert_exporter": "python",
   "pygments_lexer": "ipython3",
   "version": "3.9.7"
  }
 },
 "nbformat": 4,
 "nbformat_minor": 5
}
