{
 "cells": [
  {
   "cell_type": "markdown",
   "id": "747e0e8d",
   "metadata": {},
   "source": [
    "# BentoML Scikit-learn Tutorial\n",
    "\n",
    "\n",
    "This is a sample project demonstrating basic usage of [BentoML](https://github.com/bentoml) with\n",
    "Scikit-learn.\n",
    "\n",
    "In this project, we will train a classifier model using Scikit-learn and the Iris dataset, build\n",
    "an prediction service for serving the trained model via an HTTP server, and containerize the \n",
    "model server as a docker image for production deployment.\n",
    "\n",
    "\n",
    "Link to source code: https://github.com/bentoml/gallery/tree/main/quickstart\n",
    "\n",
    "### Install Dependencies\n",
    "\n",
    "Install required python packages:"
   ]
  },
  {
   "cell_type": "code",
   "execution_count": 1,
   "id": "daa3cbef",
   "metadata": {},
   "outputs": [
    {
     "name": "stdout",
     "output_type": "stream",
     "text": [
      "Requirement already satisfied: scikit-learn in c:\\users\\hwang\\appdata\\roaming\\python\\python39\\site-packages (from -r https://raw.githubusercontent.com/bentoml/gallery/main/quickstart/requirements.txt (line 1)) (1.1.1)\n",
      "Requirement already satisfied: pandas in c:\\users\\hwang\\appdata\\roaming\\python\\python39\\site-packages (from -r https://raw.githubusercontent.com/bentoml/gallery/main/quickstart/requirements.txt (line 2)) (1.4.3)\n",
      "Requirement already satisfied: bentoml>=1.0.0a in c:\\users\\hwang\\appdata\\roaming\\python\\python39\\site-packages (from -r https://raw.githubusercontent.com/bentoml/gallery/main/quickstart/requirements.txt (line 3)) (1.0.0rc3)\n",
      "Requirement already satisfied: threadpoolctl>=2.0.0 in c:\\users\\hwang\\appdata\\roaming\\python\\python39\\site-packages (from scikit-learn->-r https://raw.githubusercontent.com/bentoml/gallery/main/quickstart/requirements.txt (line 1)) (3.1.0)\n",
      "Requirement already satisfied: scipy>=1.3.2 in c:\\users\\hwang\\appdata\\roaming\\python\\python39\\site-packages (from scikit-learn->-r https://raw.githubusercontent.com/bentoml/gallery/main/quickstart/requirements.txt (line 1)) (1.8.1)\n",
      "Requirement already satisfied: joblib>=1.0.0 in c:\\users\\hwang\\appdata\\roaming\\python\\python39\\site-packages (from scikit-learn->-r https://raw.githubusercontent.com/bentoml/gallery/main/quickstart/requirements.txt (line 1)) (1.1.0)\n",
      "Requirement already satisfied: numpy>=1.17.3 in c:\\users\\hwang\\appdata\\roaming\\python\\python39\\site-packages (from scikit-learn->-r https://raw.githubusercontent.com/bentoml/gallery/main/quickstart/requirements.txt (line 1)) (1.23.0)\n",
      "Requirement already satisfied: pytz>=2020.1 in c:\\users\\hwang\\appdata\\roaming\\python\\python39\\site-packages (from pandas->-r https://raw.githubusercontent.com/bentoml/gallery/main/quickstart/requirements.txt (line 2)) (2022.1)\n",
      "Requirement already satisfied: python-dateutil>=2.8.1 in c:\\users\\hwang\\appdata\\roaming\\python\\python39\\site-packages (from pandas->-r https://raw.githubusercontent.com/bentoml/gallery/main/quickstart/requirements.txt (line 2)) (2.8.2)\n",
      "Requirement already satisfied: cattrs>=1.10.0 in c:\\users\\hwang\\appdata\\roaming\\python\\python39\\site-packages (from bentoml>=1.0.0a->-r https://raw.githubusercontent.com/bentoml/gallery/main/quickstart/requirements.txt (line 3)) (22.1.0)\n",
      "Requirement already satisfied: chardet in c:\\users\\hwang\\appdata\\roaming\\python\\python39\\site-packages (from bentoml>=1.0.0a->-r https://raw.githubusercontent.com/bentoml/gallery/main/quickstart/requirements.txt (line 3)) (5.0.0)\n",
      "Requirement already satisfied: prometheus-client<0.14.0,>=0.10.0 in c:\\users\\hwang\\appdata\\roaming\\python\\python39\\site-packages (from bentoml>=1.0.0a->-r https://raw.githubusercontent.com/bentoml/gallery/main/quickstart/requirements.txt (line 3)) (0.13.1)\n",
      "Requirement already satisfied: opentelemetry-util-http==0.28b0 in c:\\users\\hwang\\appdata\\roaming\\python\\python39\\site-packages (from bentoml>=1.0.0a->-r https://raw.githubusercontent.com/bentoml/gallery/main/quickstart/requirements.txt (line 3)) (0.28b0)\n",
      "Requirement already satisfied: fs in c:\\users\\hwang\\appdata\\roaming\\python\\python39\\site-packages (from bentoml>=1.0.0a->-r https://raw.githubusercontent.com/bentoml/gallery/main/quickstart/requirements.txt (line 3)) (2.4.16)\n",
      "Requirement already satisfied: schema in c:\\users\\hwang\\appdata\\roaming\\python\\python39\\site-packages (from bentoml>=1.0.0a->-r https://raw.githubusercontent.com/bentoml/gallery/main/quickstart/requirements.txt (line 3)) (0.7.5)\n",
      "Requirement already satisfied: opentelemetry-instrumentation==0.28b0 in c:\\users\\hwang\\appdata\\roaming\\python\\python39\\site-packages (from bentoml>=1.0.0a->-r https://raw.githubusercontent.com/bentoml/gallery/main/quickstart/requirements.txt (line 3)) (0.28b0)\n",
      "Requirement already satisfied: circus in c:\\users\\hwang\\appdata\\roaming\\python\\python39\\site-packages (from bentoml>=1.0.0a->-r https://raw.githubusercontent.com/bentoml/gallery/main/quickstart/requirements.txt (line 3)) (0.17.1)\n",
      "Requirement already satisfied: opentelemetry-sdk==1.9.0 in c:\\users\\hwang\\appdata\\roaming\\python\\python39\\site-packages (from bentoml>=1.0.0a->-r https://raw.githubusercontent.com/bentoml/gallery/main/quickstart/requirements.txt (line 3)) (1.9.0)\n",
      "Requirement already satisfied: pathspec in c:\\users\\hwang\\appdata\\roaming\\python\\python39\\site-packages (from bentoml>=1.0.0a->-r https://raw.githubusercontent.com/bentoml/gallery/main/quickstart/requirements.txt (line 3)) (0.9.0)\n",
      "Requirement already satisfied: starlette in c:\\users\\hwang\\appdata\\roaming\\python\\python39\\site-packages (from bentoml>=1.0.0a->-r https://raw.githubusercontent.com/bentoml/gallery/main/quickstart/requirements.txt (line 3)) (0.20.4)\n",
      "Requirement already satisfied: typing-extensions>=4.0 in c:\\users\\hwang\\appdata\\roaming\\python\\python39\\site-packages (from bentoml>=1.0.0a->-r https://raw.githubusercontent.com/bentoml/gallery/main/quickstart/requirements.txt (line 3)) (4.3.0)\n",
      "Requirement already satisfied: packaging>=20.0 in c:\\users\\hwang\\appdata\\roaming\\python\\python39\\site-packages (from bentoml>=1.0.0a->-r https://raw.githubusercontent.com/bentoml/gallery/main/quickstart/requirements.txt (line 3)) (21.3)\n",
      "Requirement already satisfied: uvicorn in c:\\users\\hwang\\appdata\\roaming\\python\\python39\\site-packages (from bentoml>=1.0.0a->-r https://raw.githubusercontent.com/bentoml/gallery/main/quickstart/requirements.txt (line 3)) (0.18.2)\n",
      "Requirement already satisfied: requests in c:\\users\\hwang\\appdata\\roaming\\python\\python39\\site-packages (from bentoml>=1.0.0a->-r https://raw.githubusercontent.com/bentoml/gallery/main/quickstart/requirements.txt (line 3)) (2.28.1)\n",
      "Requirement already satisfied: opentelemetry-semantic-conventions==0.28b0 in c:\\users\\hwang\\appdata\\roaming\\python\\python39\\site-packages (from bentoml>=1.0.0a->-r https://raw.githubusercontent.com/bentoml/gallery/main/quickstart/requirements.txt (line 3)) (0.28b0)\n",
      "Requirement already satisfied: Jinja2>=3.0.1 in c:\\users\\hwang\\appdata\\roaming\\python\\python39\\site-packages (from bentoml>=1.0.0a->-r https://raw.githubusercontent.com/bentoml/gallery/main/quickstart/requirements.txt (line 3)) (3.1.2)\n",
      "Requirement already satisfied: pynvml<12 in c:\\users\\hwang\\appdata\\roaming\\python\\python39\\site-packages (from bentoml>=1.0.0a->-r https://raw.githubusercontent.com/bentoml/gallery/main/quickstart/requirements.txt (line 3)) (11.4.1)\n",
      "Requirement already satisfied: pip-tools>=6.6.2 in c:\\users\\hwang\\appdata\\roaming\\python\\python39\\site-packages (from bentoml>=1.0.0a->-r https://raw.githubusercontent.com/bentoml/gallery/main/quickstart/requirements.txt (line 3)) (6.8.0)\n",
      "Requirement already satisfied: opentelemetry-api==1.9.0 in c:\\users\\hwang\\appdata\\roaming\\python\\python39\\site-packages (from bentoml>=1.0.0a->-r https://raw.githubusercontent.com/bentoml/gallery/main/quickstart/requirements.txt (line 3)) (1.9.0)\n",
      "Requirement already satisfied: psutil in c:\\users\\hwang\\appdata\\roaming\\python\\python39\\site-packages (from bentoml>=1.0.0a->-r https://raw.githubusercontent.com/bentoml/gallery/main/quickstart/requirements.txt (line 3)) (5.9.0)\n",
      "Requirement already satisfied: python-json-logger in c:\\users\\hwang\\appdata\\roaming\\python\\python39\\site-packages (from bentoml>=1.0.0a->-r https://raw.githubusercontent.com/bentoml/gallery/main/quickstart/requirements.txt (line 3)) (2.0.2)\n",
      "Requirement already satisfied: PyYAML>=5.0 in c:\\users\\hwang\\appdata\\roaming\\python\\python39\\site-packages (from bentoml>=1.0.0a->-r https://raw.githubusercontent.com/bentoml/gallery/main/quickstart/requirements.txt (line 3)) (6.0)\n",
      "Requirement already satisfied: opentelemetry-instrumentation-asgi==0.28b0 in c:\\users\\hwang\\appdata\\roaming\\python\\python39\\site-packages (from bentoml>=1.0.0a->-r https://raw.githubusercontent.com/bentoml/gallery/main/quickstart/requirements.txt (line 3)) (0.28b0)\n",
      "Requirement already satisfied: opentelemetry-instrumentation-aiohttp-client==0.28b0 in c:\\users\\hwang\\appdata\\roaming\\python\\python39\\site-packages (from bentoml>=1.0.0a->-r https://raw.githubusercontent.com/bentoml/gallery/main/quickstart/requirements.txt (line 3)) (0.28b0)\n",
      "Requirement already satisfied: cloudpickle in c:\\users\\hwang\\appdata\\roaming\\python\\python39\\site-packages (from bentoml>=1.0.0a->-r https://raw.githubusercontent.com/bentoml/gallery/main/quickstart/requirements.txt (line 3)) (2.1.0)\n",
      "Requirement already satisfied: deepmerge in c:\\users\\hwang\\appdata\\roaming\\python\\python39\\site-packages (from bentoml>=1.0.0a->-r https://raw.githubusercontent.com/bentoml/gallery/main/quickstart/requirements.txt (line 3)) (1.0.1)\n",
      "Requirement already satisfied: rich>=11.2.0 in c:\\users\\hwang\\appdata\\roaming\\python\\python39\\site-packages (from bentoml>=1.0.0a->-r https://raw.githubusercontent.com/bentoml/gallery/main/quickstart/requirements.txt (line 3)) (12.4.4)\n",
      "Requirement already satisfied: simple-di>=0.1.4 in c:\\users\\hwang\\appdata\\roaming\\python\\python39\\site-packages (from bentoml>=1.0.0a->-r https://raw.githubusercontent.com/bentoml/gallery/main/quickstart/requirements.txt (line 3)) (0.1.5)\n",
      "Requirement already satisfied: python-dotenv>=0.20.0 in c:\\users\\hwang\\appdata\\roaming\\python\\python39\\site-packages (from bentoml>=1.0.0a->-r https://raw.githubusercontent.com/bentoml/gallery/main/quickstart/requirements.txt (line 3)) (0.20.0)\n",
      "Requirement already satisfied: attrs>=21.1.0 in c:\\users\\hwang\\appdata\\roaming\\python\\python39\\site-packages (from bentoml>=1.0.0a->-r https://raw.githubusercontent.com/bentoml/gallery/main/quickstart/requirements.txt (line 3)) (21.4.0)\n",
      "Requirement already satisfied: filelock in c:\\users\\hwang\\appdata\\roaming\\python\\python39\\site-packages (from bentoml>=1.0.0a->-r https://raw.githubusercontent.com/bentoml/gallery/main/quickstart/requirements.txt (line 3)) (3.7.1)\n",
      "Requirement already satisfied: aiohttp<=3.8.1 in c:\\users\\hwang\\appdata\\roaming\\python\\python39\\site-packages (from bentoml>=1.0.0a->-r https://raw.githubusercontent.com/bentoml/gallery/main/quickstart/requirements.txt (line 3)) (3.8.1)\n",
      "Requirement already satisfied: click>=7.0 in c:\\users\\hwang\\appdata\\roaming\\python\\python39\\site-packages (from bentoml>=1.0.0a->-r https://raw.githubusercontent.com/bentoml/gallery/main/quickstart/requirements.txt (line 3)) (8.1.3)\n",
      "Requirement already satisfied: python-multipart in c:\\users\\hwang\\appdata\\roaming\\python\\python39\\site-packages (from bentoml>=1.0.0a->-r https://raw.githubusercontent.com/bentoml/gallery/main/quickstart/requirements.txt (line 3)) (0.0.5)\n",
      "Requirement already satisfied: aiofiles in c:\\users\\hwang\\appdata\\roaming\\python\\python39\\site-packages (from bentoml>=1.0.0a->-r https://raw.githubusercontent.com/bentoml/gallery/main/quickstart/requirements.txt (line 3)) (0.8.0)\n",
      "Requirement already satisfied: setuptools>=16.0 in c:\\programdata\\anaconda3\\lib\\site-packages (from opentelemetry-api==1.9.0->bentoml>=1.0.0a->-r https://raw.githubusercontent.com/bentoml/gallery/main/quickstart/requirements.txt (line 3)) (58.0.4)\n",
      "Requirement already satisfied: Deprecated>=1.2.6 in c:\\users\\hwang\\appdata\\roaming\\python\\python39\\site-packages (from opentelemetry-api==1.9.0->bentoml>=1.0.0a->-r https://raw.githubusercontent.com/bentoml/gallery/main/quickstart/requirements.txt (line 3)) (1.2.13)\n",
      "Requirement already satisfied: wrapt<2.0.0,>=1.0.0 in c:\\users\\hwang\\appdata\\roaming\\python\\python39\\site-packages (from opentelemetry-instrumentation==0.28b0->bentoml>=1.0.0a->-r https://raw.githubusercontent.com/bentoml/gallery/main/quickstart/requirements.txt (line 3)) (1.14.1)\n",
      "Requirement already satisfied: asgiref~=3.0 in c:\\users\\hwang\\appdata\\roaming\\python\\python39\\site-packages (from opentelemetry-instrumentation-asgi==0.28b0->bentoml>=1.0.0a->-r https://raw.githubusercontent.com/bentoml/gallery/main/quickstart/requirements.txt (line 3)) (3.5.2)\n",
      "Requirement already satisfied: multidict<7.0,>=4.5 in c:\\users\\hwang\\appdata\\roaming\\python\\python39\\site-packages (from aiohttp<=3.8.1->bentoml>=1.0.0a->-r https://raw.githubusercontent.com/bentoml/gallery/main/quickstart/requirements.txt (line 3)) (6.0.2)\n",
      "Requirement already satisfied: async-timeout<5.0,>=4.0.0a3 in c:\\users\\hwang\\appdata\\roaming\\python\\python39\\site-packages (from aiohttp<=3.8.1->bentoml>=1.0.0a->-r https://raw.githubusercontent.com/bentoml/gallery/main/quickstart/requirements.txt (line 3)) (4.0.2)\n",
      "Requirement already satisfied: yarl<2.0,>=1.0 in c:\\users\\hwang\\appdata\\roaming\\python\\python39\\site-packages (from aiohttp<=3.8.1->bentoml>=1.0.0a->-r https://raw.githubusercontent.com/bentoml/gallery/main/quickstart/requirements.txt (line 3)) (1.7.2)\n",
      "Requirement already satisfied: frozenlist>=1.1.1 in c:\\users\\hwang\\appdata\\roaming\\python\\python39\\site-packages (from aiohttp<=3.8.1->bentoml>=1.0.0a->-r https://raw.githubusercontent.com/bentoml/gallery/main/quickstart/requirements.txt (line 3)) (1.3.0)\n",
      "Requirement already satisfied: aiosignal>=1.1.2 in c:\\users\\hwang\\appdata\\roaming\\python\\python39\\site-packages (from aiohttp<=3.8.1->bentoml>=1.0.0a->-r https://raw.githubusercontent.com/bentoml/gallery/main/quickstart/requirements.txt (line 3)) (1.2.0)\n",
      "Requirement already satisfied: charset-normalizer<3.0,>=2.0 in c:\\users\\hwang\\appdata\\roaming\\python\\python39\\site-packages (from aiohttp<=3.8.1->bentoml>=1.0.0a->-r https://raw.githubusercontent.com/bentoml/gallery/main/quickstart/requirements.txt (line 3)) (2.1.0)\n",
      "Requirement already satisfied: exceptiongroup in c:\\users\\hwang\\appdata\\roaming\\python\\python39\\site-packages (from cattrs>=1.10.0->bentoml>=1.0.0a->-r https://raw.githubusercontent.com/bentoml/gallery/main/quickstart/requirements.txt (line 3)) (1.0.0rc8)\n",
      "Requirement already satisfied: colorama in c:\\users\\hwang\\appdata\\roaming\\python\\python39\\site-packages (from click>=7.0->bentoml>=1.0.0a->-r https://raw.githubusercontent.com/bentoml/gallery/main/quickstart/requirements.txt (line 3)) (0.4.4)\n",
      "Requirement already satisfied: MarkupSafe>=2.0 in c:\\users\\hwang\\appdata\\roaming\\python\\python39\\site-packages (from Jinja2>=3.0.1->bentoml>=1.0.0a->-r https://raw.githubusercontent.com/bentoml/gallery/main/quickstart/requirements.txt (line 3)) (2.1.1)\n",
      "Requirement already satisfied: pyparsing!=3.0.5,>=2.0.2 in c:\\users\\hwang\\appdata\\roaming\\python\\python39\\site-packages (from packaging>=20.0->bentoml>=1.0.0a->-r https://raw.githubusercontent.com/bentoml/gallery/main/quickstart/requirements.txt (line 3)) (3.0.7)\n",
      "Requirement already satisfied: wheel in c:\\programdata\\anaconda3\\lib\\site-packages (from pip-tools>=6.6.2->bentoml>=1.0.0a->-r https://raw.githubusercontent.com/bentoml/gallery/main/quickstart/requirements.txt (line 3)) (0.37.0)\n",
      "Requirement already satisfied: pip>=21.2 in c:\\programdata\\anaconda3\\lib\\site-packages (from pip-tools>=6.6.2->bentoml>=1.0.0a->-r https://raw.githubusercontent.com/bentoml/gallery/main/quickstart/requirements.txt (line 3)) (21.2.4)\n",
      "Requirement already satisfied: build in c:\\users\\hwang\\appdata\\roaming\\python\\python39\\site-packages (from pip-tools>=6.6.2->bentoml>=1.0.0a->-r https://raw.githubusercontent.com/bentoml/gallery/main/quickstart/requirements.txt (line 3)) (0.8.0)\n",
      "Requirement already satisfied: six>=1.5 in c:\\programdata\\anaconda3\\lib\\site-packages (from python-dateutil>=2.8.1->pandas->-r https://raw.githubusercontent.com/bentoml/gallery/main/quickstart/requirements.txt (line 2)) (1.16.0)\n",
      "Requirement already satisfied: commonmark<0.10.0,>=0.9.0 in c:\\users\\hwang\\appdata\\roaming\\python\\python39\\site-packages (from rich>=11.2.0->bentoml>=1.0.0a->-r https://raw.githubusercontent.com/bentoml/gallery/main/quickstart/requirements.txt (line 3)) (0.9.1)\n",
      "Requirement already satisfied: pygments<3.0.0,>=2.6.0 in c:\\users\\hwang\\appdata\\roaming\\python\\python39\\site-packages (from rich>=11.2.0->bentoml>=1.0.0a->-r https://raw.githubusercontent.com/bentoml/gallery/main/quickstart/requirements.txt (line 3)) (2.11.2)\n",
      "Requirement already satisfied: idna>=2.0 in c:\\users\\hwang\\appdata\\roaming\\python\\python39\\site-packages (from yarl<2.0,>=1.0->aiohttp<=3.8.1->bentoml>=1.0.0a->-r https://raw.githubusercontent.com/bentoml/gallery/main/quickstart/requirements.txt (line 3)) (3.3)\n",
      "Requirement already satisfied: tomli>=1.0.0 in c:\\users\\hwang\\appdata\\roaming\\python\\python39\\site-packages (from build->pip-tools>=6.6.2->bentoml>=1.0.0a->-r https://raw.githubusercontent.com/bentoml/gallery/main/quickstart/requirements.txt (line 3)) (2.0.1)\n",
      "Requirement already satisfied: pep517>=0.9.1 in c:\\users\\hwang\\appdata\\roaming\\python\\python39\\site-packages (from build->pip-tools>=6.6.2->bentoml>=1.0.0a->-r https://raw.githubusercontent.com/bentoml/gallery/main/quickstart/requirements.txt (line 3)) (0.12.0)\n",
      "Requirement already satisfied: tornado>=5.0.2 in c:\\users\\hwang\\appdata\\roaming\\python\\python39\\site-packages (from circus->bentoml>=1.0.0a->-r https://raw.githubusercontent.com/bentoml/gallery/main/quickstart/requirements.txt (line 3)) (6.1)\n",
      "Requirement already satisfied: pyzmq>=17.0 in c:\\users\\hwang\\appdata\\roaming\\python\\python39\\site-packages (from circus->bentoml>=1.0.0a->-r https://raw.githubusercontent.com/bentoml/gallery/main/quickstart/requirements.txt (line 3)) (22.3.0)\n",
      "Requirement already satisfied: appdirs~=1.4.3 in c:\\users\\hwang\\appdata\\roaming\\python\\python39\\site-packages (from fs->bentoml>=1.0.0a->-r https://raw.githubusercontent.com/bentoml/gallery/main/quickstart/requirements.txt (line 3)) (1.4.4)\n",
      "Requirement already satisfied: urllib3<1.27,>=1.21.1 in c:\\users\\hwang\\appdata\\roaming\\python\\python39\\site-packages (from requests->bentoml>=1.0.0a->-r https://raw.githubusercontent.com/bentoml/gallery/main/quickstart/requirements.txt (line 3)) (1.25.11)\n",
      "Requirement already satisfied: certifi>=2017.4.17 in c:\\programdata\\anaconda3\\lib\\site-packages (from requests->bentoml>=1.0.0a->-r https://raw.githubusercontent.com/bentoml/gallery/main/quickstart/requirements.txt (line 3)) (2021.10.8)\n",
      "Requirement already satisfied: contextlib2>=0.5.5 in c:\\users\\hwang\\appdata\\roaming\\python\\python39\\site-packages (from schema->bentoml>=1.0.0a->-r https://raw.githubusercontent.com/bentoml/gallery/main/quickstart/requirements.txt (line 3)) (21.6.0)\n",
      "Requirement already satisfied: anyio<5,>=3.4.0 in c:\\users\\hwang\\appdata\\roaming\\python\\python39\\site-packages (from starlette->bentoml>=1.0.0a->-r https://raw.githubusercontent.com/bentoml/gallery/main/quickstart/requirements.txt (line 3)) (3.6.1)\n",
      "Requirement already satisfied: sniffio>=1.1 in c:\\users\\hwang\\appdata\\roaming\\python\\python39\\site-packages (from anyio<5,>=3.4.0->starlette->bentoml>=1.0.0a->-r https://raw.githubusercontent.com/bentoml/gallery/main/quickstart/requirements.txt (line 3)) (1.2.0)\n",
      "Requirement already satisfied: h11>=0.8 in c:\\users\\hwang\\appdata\\roaming\\python\\python39\\site-packages (from uvicorn->bentoml>=1.0.0a->-r https://raw.githubusercontent.com/bentoml/gallery/main/quickstart/requirements.txt (line 3)) (0.13.0)\n"
     ]
    },
    {
     "name": "stderr",
     "output_type": "stream",
     "text": [
      "WARNING: Ignoring invalid distribution -llib3 (c:\\programdata\\anaconda3\\lib\\site-packages)\n",
      "WARNING: Ignoring invalid distribution -rllib3 (c:\\programdata\\anaconda3\\lib\\site-packages)\n",
      "WARNING: Ignoring invalid distribution -llib3 (c:\\programdata\\anaconda3\\lib\\site-packages)\n",
      "WARNING: Ignoring invalid distribution - (c:\\programdata\\anaconda3\\lib\\site-packages)\n",
      "WARNING: Ignoring invalid distribution -arkupsafe (c:\\programdata\\anaconda3\\lib\\site-packages)\n",
      "WARNING: Ignoring invalid distribution -llib3 (c:\\programdata\\anaconda3\\lib\\site-packages)\n",
      "WARNING: Ignoring invalid distribution -rllib3 (c:\\programdata\\anaconda3\\lib\\site-packages)\n",
      "WARNING: Ignoring invalid distribution -llib3 (c:\\programdata\\anaconda3\\lib\\site-packages)\n",
      "WARNING: Ignoring invalid distribution - (c:\\programdata\\anaconda3\\lib\\site-packages)\n",
      "WARNING: Ignoring invalid distribution -arkupsafe (c:\\programdata\\anaconda3\\lib\\site-packages)\n",
      "WARNING: Ignoring invalid distribution -llib3 (c:\\programdata\\anaconda3\\lib\\site-packages)\n",
      "WARNING: Ignoring invalid distribution -rllib3 (c:\\programdata\\anaconda3\\lib\\site-packages)\n",
      "WARNING: Ignoring invalid distribution -llib3 (c:\\programdata\\anaconda3\\lib\\site-packages)\n",
      "WARNING: Ignoring invalid distribution - (c:\\programdata\\anaconda3\\lib\\site-packages)\n",
      "WARNING: Ignoring invalid distribution -arkupsafe (c:\\programdata\\anaconda3\\lib\\site-packages)\n",
      "WARNING: Ignoring invalid distribution -llib3 (c:\\programdata\\anaconda3\\lib\\site-packages)\n",
      "WARNING: Ignoring invalid distribution -rllib3 (c:\\programdata\\anaconda3\\lib\\site-packages)\n",
      "WARNING: Ignoring invalid distribution -llib3 (c:\\programdata\\anaconda3\\lib\\site-packages)\n",
      "WARNING: Ignoring invalid distribution - (c:\\programdata\\anaconda3\\lib\\site-packages)\n",
      "WARNING: Ignoring invalid distribution -arkupsafe (c:\\programdata\\anaconda3\\lib\\site-packages)\n",
      "WARNING: Ignoring invalid distribution -llib3 (c:\\programdata\\anaconda3\\lib\\site-packages)\n",
      "WARNING: Ignoring invalid distribution -rllib3 (c:\\programdata\\anaconda3\\lib\\site-packages)\n",
      "WARNING: Ignoring invalid distribution -llib3 (c:\\programdata\\anaconda3\\lib\\site-packages)\n",
      "WARNING: Ignoring invalid distribution - (c:\\programdata\\anaconda3\\lib\\site-packages)\n",
      "WARNING: Ignoring invalid distribution -arkupsafe (c:\\programdata\\anaconda3\\lib\\site-packages)\n",
      "WARNING: Ignoring invalid distribution -llib3 (c:\\programdata\\anaconda3\\lib\\site-packages)\n",
      "WARNING: Ignoring invalid distribution -rllib3 (c:\\programdata\\anaconda3\\lib\\site-packages)\n",
      "WARNING: Ignoring invalid distribution -llib3 (c:\\programdata\\anaconda3\\lib\\site-packages)\n",
      "WARNING: Ignoring invalid distribution - (c:\\programdata\\anaconda3\\lib\\site-packages)\n",
      "WARNING: Ignoring invalid distribution -arkupsafe (c:\\programdata\\anaconda3\\lib\\site-packages)\n"
     ]
    }
   ],
   "source": [
    "!pip install -r https://raw.githubusercontent.com/bentoml/gallery/main/quickstart/requirements.txt   --user"
   ]
  },
  {
   "cell_type": "markdown",
   "id": "b66e31f7",
   "metadata": {},
   "source": [
    "##  Model Training"
   ]
  },
  {
   "cell_type": "code",
   "execution_count": 3,
   "id": "eb526488",
   "metadata": {},
   "outputs": [
    {
     "data": {
      "text/html": [
       "<style>#sk-container-id-1 {color: black;background-color: white;}#sk-container-id-1 pre{padding: 0;}#sk-container-id-1 div.sk-toggleable {background-color: white;}#sk-container-id-1 label.sk-toggleable__label {cursor: pointer;display: block;width: 100%;margin-bottom: 0;padding: 0.3em;box-sizing: border-box;text-align: center;}#sk-container-id-1 label.sk-toggleable__label-arrow:before {content: \"▸\";float: left;margin-right: 0.25em;color: #696969;}#sk-container-id-1 label.sk-toggleable__label-arrow:hover:before {color: black;}#sk-container-id-1 div.sk-estimator:hover label.sk-toggleable__label-arrow:before {color: black;}#sk-container-id-1 div.sk-toggleable__content {max-height: 0;max-width: 0;overflow: hidden;text-align: left;background-color: #f0f8ff;}#sk-container-id-1 div.sk-toggleable__content pre {margin: 0.2em;color: black;border-radius: 0.25em;background-color: #f0f8ff;}#sk-container-id-1 input.sk-toggleable__control:checked~div.sk-toggleable__content {max-height: 200px;max-width: 100%;overflow: auto;}#sk-container-id-1 input.sk-toggleable__control:checked~label.sk-toggleable__label-arrow:before {content: \"▾\";}#sk-container-id-1 div.sk-estimator input.sk-toggleable__control:checked~label.sk-toggleable__label {background-color: #d4ebff;}#sk-container-id-1 div.sk-label input.sk-toggleable__control:checked~label.sk-toggleable__label {background-color: #d4ebff;}#sk-container-id-1 input.sk-hidden--visually {border: 0;clip: rect(1px 1px 1px 1px);clip: rect(1px, 1px, 1px, 1px);height: 1px;margin: -1px;overflow: hidden;padding: 0;position: absolute;width: 1px;}#sk-container-id-1 div.sk-estimator {font-family: monospace;background-color: #f0f8ff;border: 1px dotted black;border-radius: 0.25em;box-sizing: border-box;margin-bottom: 0.5em;}#sk-container-id-1 div.sk-estimator:hover {background-color: #d4ebff;}#sk-container-id-1 div.sk-parallel-item::after {content: \"\";width: 100%;border-bottom: 1px solid gray;flex-grow: 1;}#sk-container-id-1 div.sk-label:hover label.sk-toggleable__label {background-color: #d4ebff;}#sk-container-id-1 div.sk-serial::before {content: \"\";position: absolute;border-left: 1px solid gray;box-sizing: border-box;top: 0;bottom: 0;left: 50%;z-index: 0;}#sk-container-id-1 div.sk-serial {display: flex;flex-direction: column;align-items: center;background-color: white;padding-right: 0.2em;padding-left: 0.2em;position: relative;}#sk-container-id-1 div.sk-item {position: relative;z-index: 1;}#sk-container-id-1 div.sk-parallel {display: flex;align-items: stretch;justify-content: center;background-color: white;position: relative;}#sk-container-id-1 div.sk-item::before, #sk-container-id-1 div.sk-parallel-item::before {content: \"\";position: absolute;border-left: 1px solid gray;box-sizing: border-box;top: 0;bottom: 0;left: 50%;z-index: -1;}#sk-container-id-1 div.sk-parallel-item {display: flex;flex-direction: column;z-index: 1;position: relative;background-color: white;}#sk-container-id-1 div.sk-parallel-item:first-child::after {align-self: flex-end;width: 50%;}#sk-container-id-1 div.sk-parallel-item:last-child::after {align-self: flex-start;width: 50%;}#sk-container-id-1 div.sk-parallel-item:only-child::after {width: 0;}#sk-container-id-1 div.sk-dashed-wrapped {border: 1px dashed gray;margin: 0 0.4em 0.5em 0.4em;box-sizing: border-box;padding-bottom: 0.4em;background-color: white;}#sk-container-id-1 div.sk-label label {font-family: monospace;font-weight: bold;display: inline-block;line-height: 1.2em;}#sk-container-id-1 div.sk-label-container {text-align: center;}#sk-container-id-1 div.sk-container {/* jupyter's `normalize.less` sets `[hidden] { display: none; }` but bootstrap.min.css set `[hidden] { display: none !important; }` so we also need the `!important` here to be able to override the default hidden behavior on the sphinx rendered scikit-learn.org. See: https://github.com/scikit-learn/scikit-learn/issues/21755 */display: inline-block !important;position: relative;}#sk-container-id-1 div.sk-text-repr-fallback {display: none;}</style><div id=\"sk-container-id-1\" class=\"sk-top-container\"><div class=\"sk-text-repr-fallback\"><pre>SVC()</pre><b>In a Jupyter environment, please rerun this cell to show the HTML representation or trust the notebook. <br />On GitHub, the HTML representation is unable to render, please try loading this page with nbviewer.org.</b></div><div class=\"sk-container\" hidden><div class=\"sk-item\"><div class=\"sk-estimator sk-toggleable\"><input class=\"sk-toggleable__control sk-hidden--visually\" id=\"sk-estimator-id-1\" type=\"checkbox\" checked><label for=\"sk-estimator-id-1\" class=\"sk-toggleable__label sk-toggleable__label-arrow\">SVC</label><div class=\"sk-toggleable__content\"><pre>SVC()</pre></div></div></div></div></div>"
      ],
      "text/plain": [
       "SVC()"
      ]
     },
     "execution_count": 3,
     "metadata": {},
     "output_type": "execute_result"
    }
   ],
   "source": [
    "from sklearn import svm, datasets\n",
    "\n",
    "# Load training data\n",
    "iris = datasets.load_iris()\n",
    "X, y = iris.data, iris.target\n",
    "\n",
    "# Model Training\n",
    "clf = svm.SVC()\n",
    "clf.fit(X, y)"
   ]
  },
  {
   "cell_type": "markdown",
   "id": "3c114c75",
   "metadata": {},
   "source": [
    "Save the `clf` model instance to BentoML local model store:"
   ]
  },
  {
   "cell_type": "code",
   "execution_count": 3,
   "id": "e94ed449",
   "metadata": {},
   "outputs": [
    {
     "data": {
      "text/plain": [
       "Model(tag=\"iris_clf:5fjpqlp7isa7j3c4\", path=\"C:\\Users\\hwang\\bentoml\\models\\iris_clf\\5fjpqlp7isa7j3c4\\\")"
      ]
     },
     "execution_count": 3,
     "metadata": {},
     "output_type": "execute_result"
    }
   ],
   "source": [
    "import bentoml\n",
    "bentoml.sklearn.save_model(\"iris_clf\", clf)"
   ]
  },
  {
   "cell_type": "markdown",
   "id": "d613e57e",
   "metadata": {},
   "source": [
    "Models saved can be accessed via `bentoml models` CLI command:"
   ]
  },
  {
   "cell_type": "code",
   "execution_count": 4,
   "id": "7d771f04",
   "metadata": {},
   "outputs": [
    {
     "name": "stdout",
     "output_type": "stream",
     "text": [
      "name: iris_clf                                                                 \n",
      "version: 5fjpqlp7isa7j3c4                                                      \n",
      "module: bentoml.sklearn                                                        \n",
      "labels: {}                                                                     \n",
      "options: {}                                                                    \n",
      "metadata: {}                                                                   \n",
      "context:                                                                       \n",
      "  framework_name: sklearn                                                      \n",
      "  framework_versions:                                                          \n",
      "    scikit-learn: 1.1.1                                                        \n",
      "  bentoml_version: 1.0.0rc3                                                    \n",
      "  python_version: 3.9.7                                                        \n",
      "signatures:                                                                    \n",
      "  predict:                                                                     \n",
      "    batchable: false                                                           \n",
      "api_version: v1                                                                \n",
      "creation_time: '2022-07-09T05:06:37.904056+00:00'                              \n",
      "                                                                               \n"
     ]
    }
   ],
   "source": [
    "!bentoml models get iris_clf:latest"
   ]
  },
  {
   "cell_type": "code",
   "execution_count": 5,
   "id": "5a876780",
   "metadata": {},
   "outputs": [
    {
     "name": "stdout",
     "output_type": "stream",
     "text": [
      " Tag                        Module              Size       Creation Time       \n",
      " iris_clf:5fjpqlp7isa7j3c4  bentoml.sklearn     5.77 KiB   2022-07-09 01:06:37 \n",
      " iris_clf:gnq6orh7iomjl3c4  bentoml.sklearn     5.77 KiB   2022-07-09 00:54:23 \n",
      " iris_clf2:d3bdoqh7hom773���  bentoml.sklearn     5.77 KiB   2022-07-08 23:56:32 \n",
      " iris_clf:ecx4ls77hc2rh3c4  bentoml.sklearn     5.77 KiB   2022-07-08 23:35:07 \n",
      " iris_clf:kh3nvy74qwl5d3c4  bentoml.sklearn     5.77 KiB   2022-07-05 13:10:07 \n",
      " iris_clf:5vmudih4gcs7p3c4  bentoml.sklearn     5.77 KiB   2022-07-05 03:06:01 \n",
      " iris_clf:kanmpkp4fwp7r3c4  bentoml.sklearn     5.77 KiB   2022-07-05 02:40:08 \n",
      " iris_clf:prylms74fsl5f3c4  bentoml.sklearn     5.77 KiB   2022-07-05 02:34:13 \n",
      " iris_clf:sckamh74fcvkp3c4  bentoml.sklearn     5.77 KiB   2022-07-05 02:06:09 \n",
      " iris_clf:74p4xjp4e6qf73c4  bentoml.sklearn     5.77 KiB   2022-07-05 02:02:05 \n",
      " iris_clf:wjslp5x4ewnhl3c4  bentoml.sklearn     5.77 KiB   2022-07-05 01:45:37 \n",
      " tensorflow_mnist:zb6a5kx���  bentoml.tensorflow  10.63 MiB  2022-07-03 01:48:37 \n",
      " tensorflow_mnist:vtcopk7���  bentoml.tensorflow  10.63 MiB  2022-07-03 01:47:50 \n",
      " iris_clf:zwxqehx2qsjaj3c4  bentoml.sklearn     5.62 KiB   2022-07-03 00:01:23 \n",
      " iris_clf:aikzy7x2gwhmn3c4  bentoml.sklearn     5.62 KiB   2022-07-02 14:30:11 \n",
      " iris_clf:d6kvdq72foszf3c4  bentoml.sklearn     5.62 KiB   2022-07-02 13:19:26 \n",
      " iris_clf:pigbr2p2bskwv3c4  bentoml.sklearn     5.62 KiB   2022-07-02 09:40:03 \n",
      " iris_clf:qvvu2l7z36hat3c4  bentoml.sklearn     5.62 KiB   2022-07-02 04:18:15 \n",
      " iris_clf:n4osd4hz36shv3c4  bentoml.sklearn     5.62 KiB   2022-07-02 04:17:37 \n",
      " iris_clf:njgwiwhz36djl3c4  bentoml.sklearn     5.62 KiB   2022-07-02 04:17:29 \n",
      " iris_clf:mir3s2pz36con3c4  bentoml.sklearn     5.62 KiB   2022-07-02 04:17:16 \n",
      " iris_clf:5gecqwxz3w6rx3c4  bentoml.sklearn     5.62 KiB   2022-07-02 04:06:44 \n",
      " iris_clf:vaf3ej7z3w46l3c4  bentoml.sklearn     5.62 KiB   2022-07-02 04:04:54 \n",
      " iris_clf:q675qf7z3wxpn3c4  bentoml.sklearn     5.62 KiB   2022-07-02 04:04:00 \n",
      " iris_clf:fwi7vtpz3sv5l3c4  bentoml.sklearn     5.62 KiB   2022-07-02 03:54:19 \n",
      " iris_clf:46dsuj7z2gajd3c4  bentoml.sklearn     5.62 KiB   2022-07-02 02:40:46 \n",
      " iris_clf:54b7sa7zz2z7t3c4  bentoml.sklearn     5.62 KiB   2022-07-02 02:19:31 \n",
      " iris_clf:xus6wfhzz2s2t3c4  bentoml.sklearn     5.62 KiB   2022-07-02 02:18:07 \n"
     ]
    }
   ],
   "source": [
    "!bentoml models list"
   ]
  },
  {
   "cell_type": "markdown",
   "id": "672721c4",
   "metadata": {},
   "source": [
    "To verify that the saved model can be loaded correctly:"
   ]
  },
  {
   "cell_type": "code",
   "execution_count": 6,
   "id": "28ac794b",
   "metadata": {},
   "outputs": [
    {
     "data": {
      "text/plain": [
       "array([2])"
      ]
     },
     "execution_count": 6,
     "metadata": {},
     "output_type": "execute_result"
    }
   ],
   "source": [
    "loaded_model = bentoml.sklearn.load_model(\"iris_clf:latest\")\n",
    "\n",
    "loaded_model.predict([[5.9, 3. , 5.1, 1.8]])"
   ]
  },
  {
   "cell_type": "markdown",
   "id": "8fd3bf97",
   "metadata": {},
   "source": [
    "In BentoML, the recommended way of running ML model inference in serving is via Runner, which \n",
    "gives BentoML more flexibility in terms of how to schedule the inference computation, how to \n",
    "batch inference requests and take advantage of hardware resoureces available. Saved models can\n",
    "be loaded as Runner instance as shown below:\n"
   ]
  },
  {
   "cell_type": "code",
   "execution_count": 7,
   "id": "83205567",
   "metadata": {},
   "outputs": [
    {
     "name": "stderr",
     "output_type": "stream",
     "text": [
      "'Runner.init_local' is for debugging and testing only\n"
     ]
    },
    {
     "data": {
      "text/plain": [
       "array([2])"
      ]
     },
     "execution_count": 7,
     "metadata": {},
     "output_type": "execute_result"
    }
   ],
   "source": [
    "# Create a Runner instance:\n",
    "iris_clf_runner = bentoml.sklearn.get(\"iris_clf:latest\").to_runner()\n",
    "\n",
    "# Runner#init_local initializes the model in current process, this is meant for development and testing only:\n",
    "iris_clf_runner.init_local()\n",
    "\n",
    "# This should yield the same result as the loaded model:\n",
    "iris_clf_runner.predict.run([[5.9, 3., 5.1, 1.8]])"
   ]
  },
  {
   "cell_type": "markdown",
   "id": "3fa68254",
   "metadata": {},
   "source": [
    "## Serving the model\n",
    "\n",
    "A simple BentoML Service that serves the model saved above look like this:"
   ]
  },
  {
   "cell_type": "code",
   "execution_count": 8,
   "id": "127aa3fd",
   "metadata": {
    "scrolled": true
   },
   "outputs": [
    {
     "name": "stdout",
     "output_type": "stream",
     "text": [
      "Overwriting service.py\n"
     ]
    }
   ],
   "source": [
    "%%writefile service.py\n",
    "import numpy as np\n",
    "import bentoml\n",
    "from bentoml.io import NumpyNdarray\n",
    "\n",
    "iris_clf_runner = bentoml.sklearn.get(\"iris_clf:latest\").to_runner()\n",
    "\n",
    "svc = bentoml.Service(\"iris_classifier\", runners=[iris_clf_runner])\n",
    "\n",
    "@svc.api(input=NumpyNdarray(), output=NumpyNdarray())\n",
    "def classify(input_series: np.ndarray) -> np.ndarray:\n",
    "    return iris_clf_runner.predict.run(input_series)\n"
   ]
  },
  {
   "cell_type": "markdown",
   "id": "02d985db",
   "metadata": {},
   "source": [
    "# Iris Classifier (난초 구분) 설명\n",
    "\n",
    "https://www.youtube.com/watch?v=pTjsr_0YWas\n",
    "\n",
    "1. Sepal length (cm)\n",
    "2. Sepal width (cm)\n",
    "3. Petal length (cm)\n",
    "4. petal width (cm)\n",
    "5. class --- 3 classes  Iris Setosa, Iris Versicolour, Iris Virginica\n",
    "\n",
    "예. \n",
    "## [4.9, 3 , 1.4, 0.2] --> 0 (Iris Setosa)\n",
    "## [6.1, 2.9, 4.7, 1.4] --> 1 (Iris Versicolour)\n",
    "## [5.8, 2.7, 5.1, 1.9] --> 2 (Iris Virginica)\n",
    "## [6.2, 3.4, 5.4, 2.3] --> 2 (Iris Virginica)"
   ]
  },
  {
   "cell_type": "code",
   "execution_count": 4,
   "id": "5eaeb9e9",
   "metadata": {},
   "outputs": [
    {
     "name": "stdout",
     "output_type": "stream",
     "text": [
      "{'data': array([[5.1, 3.5, 1.4, 0.2],\n",
      "       [4.9, 3. , 1.4, 0.2],\n",
      "       [4.7, 3.2, 1.3, 0.2],\n",
      "       [4.6, 3.1, 1.5, 0.2],\n",
      "       [5. , 3.6, 1.4, 0.2],\n",
      "       [5.4, 3.9, 1.7, 0.4],\n",
      "       [4.6, 3.4, 1.4, 0.3],\n",
      "       [5. , 3.4, 1.5, 0.2],\n",
      "       [4.4, 2.9, 1.4, 0.2],\n",
      "       [4.9, 3.1, 1.5, 0.1],\n",
      "       [5.4, 3.7, 1.5, 0.2],\n",
      "       [4.8, 3.4, 1.6, 0.2],\n",
      "       [4.8, 3. , 1.4, 0.1],\n",
      "       [4.3, 3. , 1.1, 0.1],\n",
      "       [5.8, 4. , 1.2, 0.2],\n",
      "       [5.7, 4.4, 1.5, 0.4],\n",
      "       [5.4, 3.9, 1.3, 0.4],\n",
      "       [5.1, 3.5, 1.4, 0.3],\n",
      "       [5.7, 3.8, 1.7, 0.3],\n",
      "       [5.1, 3.8, 1.5, 0.3],\n",
      "       [5.4, 3.4, 1.7, 0.2],\n",
      "       [5.1, 3.7, 1.5, 0.4],\n",
      "       [4.6, 3.6, 1. , 0.2],\n",
      "       [5.1, 3.3, 1.7, 0.5],\n",
      "       [4.8, 3.4, 1.9, 0.2],\n",
      "       [5. , 3. , 1.6, 0.2],\n",
      "       [5. , 3.4, 1.6, 0.4],\n",
      "       [5.2, 3.5, 1.5, 0.2],\n",
      "       [5.2, 3.4, 1.4, 0.2],\n",
      "       [4.7, 3.2, 1.6, 0.2],\n",
      "       [4.8, 3.1, 1.6, 0.2],\n",
      "       [5.4, 3.4, 1.5, 0.4],\n",
      "       [5.2, 4.1, 1.5, 0.1],\n",
      "       [5.5, 4.2, 1.4, 0.2],\n",
      "       [4.9, 3.1, 1.5, 0.2],\n",
      "       [5. , 3.2, 1.2, 0.2],\n",
      "       [5.5, 3.5, 1.3, 0.2],\n",
      "       [4.9, 3.6, 1.4, 0.1],\n",
      "       [4.4, 3. , 1.3, 0.2],\n",
      "       [5.1, 3.4, 1.5, 0.2],\n",
      "       [5. , 3.5, 1.3, 0.3],\n",
      "       [4.5, 2.3, 1.3, 0.3],\n",
      "       [4.4, 3.2, 1.3, 0.2],\n",
      "       [5. , 3.5, 1.6, 0.6],\n",
      "       [5.1, 3.8, 1.9, 0.4],\n",
      "       [4.8, 3. , 1.4, 0.3],\n",
      "       [5.1, 3.8, 1.6, 0.2],\n",
      "       [4.6, 3.2, 1.4, 0.2],\n",
      "       [5.3, 3.7, 1.5, 0.2],\n",
      "       [5. , 3.3, 1.4, 0.2],\n",
      "       [7. , 3.2, 4.7, 1.4],\n",
      "       [6.4, 3.2, 4.5, 1.5],\n",
      "       [6.9, 3.1, 4.9, 1.5],\n",
      "       [5.5, 2.3, 4. , 1.3],\n",
      "       [6.5, 2.8, 4.6, 1.5],\n",
      "       [5.7, 2.8, 4.5, 1.3],\n",
      "       [6.3, 3.3, 4.7, 1.6],\n",
      "       [4.9, 2.4, 3.3, 1. ],\n",
      "       [6.6, 2.9, 4.6, 1.3],\n",
      "       [5.2, 2.7, 3.9, 1.4],\n",
      "       [5. , 2. , 3.5, 1. ],\n",
      "       [5.9, 3. , 4.2, 1.5],\n",
      "       [6. , 2.2, 4. , 1. ],\n",
      "       [6.1, 2.9, 4.7, 1.4],\n",
      "       [5.6, 2.9, 3.6, 1.3],\n",
      "       [6.7, 3.1, 4.4, 1.4],\n",
      "       [5.6, 3. , 4.5, 1.5],\n",
      "       [5.8, 2.7, 4.1, 1. ],\n",
      "       [6.2, 2.2, 4.5, 1.5],\n",
      "       [5.6, 2.5, 3.9, 1.1],\n",
      "       [5.9, 3.2, 4.8, 1.8],\n",
      "       [6.1, 2.8, 4. , 1.3],\n",
      "       [6.3, 2.5, 4.9, 1.5],\n",
      "       [6.1, 2.8, 4.7, 1.2],\n",
      "       [6.4, 2.9, 4.3, 1.3],\n",
      "       [6.6, 3. , 4.4, 1.4],\n",
      "       [6.8, 2.8, 4.8, 1.4],\n",
      "       [6.7, 3. , 5. , 1.7],\n",
      "       [6. , 2.9, 4.5, 1.5],\n",
      "       [5.7, 2.6, 3.5, 1. ],\n",
      "       [5.5, 2.4, 3.8, 1.1],\n",
      "       [5.5, 2.4, 3.7, 1. ],\n",
      "       [5.8, 2.7, 3.9, 1.2],\n",
      "       [6. , 2.7, 5.1, 1.6],\n",
      "       [5.4, 3. , 4.5, 1.5],\n",
      "       [6. , 3.4, 4.5, 1.6],\n",
      "       [6.7, 3.1, 4.7, 1.5],\n",
      "       [6.3, 2.3, 4.4, 1.3],\n",
      "       [5.6, 3. , 4.1, 1.3],\n",
      "       [5.5, 2.5, 4. , 1.3],\n",
      "       [5.5, 2.6, 4.4, 1.2],\n",
      "       [6.1, 3. , 4.6, 1.4],\n",
      "       [5.8, 2.6, 4. , 1.2],\n",
      "       [5. , 2.3, 3.3, 1. ],\n",
      "       [5.6, 2.7, 4.2, 1.3],\n",
      "       [5.7, 3. , 4.2, 1.2],\n",
      "       [5.7, 2.9, 4.2, 1.3],\n",
      "       [6.2, 2.9, 4.3, 1.3],\n",
      "       [5.1, 2.5, 3. , 1.1],\n",
      "       [5.7, 2.8, 4.1, 1.3],\n",
      "       [6.3, 3.3, 6. , 2.5],\n",
      "       [5.8, 2.7, 5.1, 1.9],\n",
      "       [7.1, 3. , 5.9, 2.1],\n",
      "       [6.3, 2.9, 5.6, 1.8],\n",
      "       [6.5, 3. , 5.8, 2.2],\n",
      "       [7.6, 3. , 6.6, 2.1],\n",
      "       [4.9, 2.5, 4.5, 1.7],\n",
      "       [7.3, 2.9, 6.3, 1.8],\n",
      "       [6.7, 2.5, 5.8, 1.8],\n",
      "       [7.2, 3.6, 6.1, 2.5],\n",
      "       [6.5, 3.2, 5.1, 2. ],\n",
      "       [6.4, 2.7, 5.3, 1.9],\n",
      "       [6.8, 3. , 5.5, 2.1],\n",
      "       [5.7, 2.5, 5. , 2. ],\n",
      "       [5.8, 2.8, 5.1, 2.4],\n",
      "       [6.4, 3.2, 5.3, 2.3],\n",
      "       [6.5, 3. , 5.5, 1.8],\n",
      "       [7.7, 3.8, 6.7, 2.2],\n",
      "       [7.7, 2.6, 6.9, 2.3],\n",
      "       [6. , 2.2, 5. , 1.5],\n",
      "       [6.9, 3.2, 5.7, 2.3],\n",
      "       [5.6, 2.8, 4.9, 2. ],\n",
      "       [7.7, 2.8, 6.7, 2. ],\n",
      "       [6.3, 2.7, 4.9, 1.8],\n",
      "       [6.7, 3.3, 5.7, 2.1],\n",
      "       [7.2, 3.2, 6. , 1.8],\n",
      "       [6.2, 2.8, 4.8, 1.8],\n",
      "       [6.1, 3. , 4.9, 1.8],\n",
      "       [6.4, 2.8, 5.6, 2.1],\n",
      "       [7.2, 3. , 5.8, 1.6],\n",
      "       [7.4, 2.8, 6.1, 1.9],\n",
      "       [7.9, 3.8, 6.4, 2. ],\n",
      "       [6.4, 2.8, 5.6, 2.2],\n",
      "       [6.3, 2.8, 5.1, 1.5],\n",
      "       [6.1, 2.6, 5.6, 1.4],\n",
      "       [7.7, 3. , 6.1, 2.3],\n",
      "       [6.3, 3.4, 5.6, 2.4],\n",
      "       [6.4, 3.1, 5.5, 1.8],\n",
      "       [6. , 3. , 4.8, 1.8],\n",
      "       [6.9, 3.1, 5.4, 2.1],\n",
      "       [6.7, 3.1, 5.6, 2.4],\n",
      "       [6.9, 3.1, 5.1, 2.3],\n",
      "       [5.8, 2.7, 5.1, 1.9],\n",
      "       [6.8, 3.2, 5.9, 2.3],\n",
      "       [6.7, 3.3, 5.7, 2.5],\n",
      "       [6.7, 3. , 5.2, 2.3],\n",
      "       [6.3, 2.5, 5. , 1.9],\n",
      "       [6.5, 3. , 5.2, 2. ],\n",
      "       [6.2, 3.4, 5.4, 2.3],\n",
      "       [5.9, 3. , 5.1, 1.8]]), 'target': array([0, 0, 0, 0, 0, 0, 0, 0, 0, 0, 0, 0, 0, 0, 0, 0, 0, 0, 0, 0, 0, 0,\n",
      "       0, 0, 0, 0, 0, 0, 0, 0, 0, 0, 0, 0, 0, 0, 0, 0, 0, 0, 0, 0, 0, 0,\n",
      "       0, 0, 0, 0, 0, 0, 1, 1, 1, 1, 1, 1, 1, 1, 1, 1, 1, 1, 1, 1, 1, 1,\n",
      "       1, 1, 1, 1, 1, 1, 1, 1, 1, 1, 1, 1, 1, 1, 1, 1, 1, 1, 1, 1, 1, 1,\n",
      "       1, 1, 1, 1, 1, 1, 1, 1, 1, 1, 1, 1, 2, 2, 2, 2, 2, 2, 2, 2, 2, 2,\n",
      "       2, 2, 2, 2, 2, 2, 2, 2, 2, 2, 2, 2, 2, 2, 2, 2, 2, 2, 2, 2, 2, 2,\n",
      "       2, 2, 2, 2, 2, 2, 2, 2, 2, 2, 2, 2, 2, 2, 2, 2, 2, 2]), 'frame': None, 'target_names': array(['setosa', 'versicolor', 'virginica'], dtype='<U10'), 'DESCR': '.. _iris_dataset:\\n\\nIris plants dataset\\n--------------------\\n\\n**Data Set Characteristics:**\\n\\n    :Number of Instances: 150 (50 in each of three classes)\\n    :Number of Attributes: 4 numeric, predictive attributes and the class\\n    :Attribute Information:\\n        - sepal length in cm\\n        - sepal width in cm\\n        - petal length in cm\\n        - petal width in cm\\n        - class:\\n                - Iris-Setosa\\n                - Iris-Versicolour\\n                - Iris-Virginica\\n                \\n    :Summary Statistics:\\n\\n    ============== ==== ==== ======= ===== ====================\\n                    Min  Max   Mean    SD   Class Correlation\\n    ============== ==== ==== ======= ===== ====================\\n    sepal length:   4.3  7.9   5.84   0.83    0.7826\\n    sepal width:    2.0  4.4   3.05   0.43   -0.4194\\n    petal length:   1.0  6.9   3.76   1.76    0.9490  (high!)\\n    petal width:    0.1  2.5   1.20   0.76    0.9565  (high!)\\n    ============== ==== ==== ======= ===== ====================\\n\\n    :Missing Attribute Values: None\\n    :Class Distribution: 33.3% for each of 3 classes.\\n    :Creator: R.A. Fisher\\n    :Donor: Michael Marshall (MARSHALL%PLU@io.arc.nasa.gov)\\n    :Date: July, 1988\\n\\nThe famous Iris database, first used by Sir R.A. Fisher. The dataset is taken\\nfrom Fisher\\'s paper. Note that it\\'s the same as in R, but not as in the UCI\\nMachine Learning Repository, which has two wrong data points.\\n\\nThis is perhaps the best known database to be found in the\\npattern recognition literature.  Fisher\\'s paper is a classic in the field and\\nis referenced frequently to this day.  (See Duda & Hart, for example.)  The\\ndata set contains 3 classes of 50 instances each, where each class refers to a\\ntype of iris plant.  One class is linearly separable from the other 2; the\\nlatter are NOT linearly separable from each other.\\n\\n.. topic:: References\\n\\n   - Fisher, R.A. \"The use of multiple measurements in taxonomic problems\"\\n     Annual Eugenics, 7, Part II, 179-188 (1936); also in \"Contributions to\\n     Mathematical Statistics\" (John Wiley, NY, 1950).\\n   - Duda, R.O., & Hart, P.E. (1973) Pattern Classification and Scene Analysis.\\n     (Q327.D83) John Wiley & Sons.  ISBN 0-471-22361-1.  See page 218.\\n   - Dasarathy, B.V. (1980) \"Nosing Around the Neighborhood: A New System\\n     Structure and Classification Rule for Recognition in Partially Exposed\\n     Environments\".  IEEE Transactions on Pattern Analysis and Machine\\n     Intelligence, Vol. PAMI-2, No. 1, 67-71.\\n   - Gates, G.W. (1972) \"The Reduced Nearest Neighbor Rule\".  IEEE Transactions\\n     on Information Theory, May 1972, 431-433.\\n   - See also: 1988 MLC Proceedings, 54-64.  Cheeseman et al\"s AUTOCLASS II\\n     conceptual clustering system finds 3 classes in the data.\\n   - Many, many more ...', 'feature_names': ['sepal length (cm)', 'sepal width (cm)', 'petal length (cm)', 'petal width (cm)'], 'filename': 'iris.csv', 'data_module': 'sklearn.datasets.data'}\n"
     ]
    }
   ],
   "source": [
    "print (iris)"
   ]
  },
  {
   "cell_type": "markdown",
   "id": "203beeed",
   "metadata": {},
   "source": [
    "Note: using `%%writefile` here because `bentoml.Service` definition must be created in its own `.py` file\n",
    "\n",
    "Start a dev model server to test out the service defined above:"
   ]
  },
  {
   "cell_type": "code",
   "execution_count": null,
   "id": "7523b58f",
   "metadata": {},
   "outputs": [],
   "source": [
    "# Open your web browser at http://127.0.0.1:3000 to view the Bento UI for sending test requests.\n",
    "# Windows OS에서는 --reload option 없이 돌려야 한다. \n",
    "#!bentoml serve service.py:svc --reload\n",
    "!bentoml serve service.py:svc"
   ]
  },
  {
   "cell_type": "markdown",
   "id": "3974e4ce",
   "metadata": {},
   "source": [
    "\n",
    "Open your web browser at http://127.0.0.1:3000 to view the Bento UI for sending test requests.\n",
    "\n",
    "You may also send request with `curl` command or any HTTP client, e.g.:\n",
    "\n",
    "```bash\n",
    "curl -X POST -H \"content-type: application/json\" --data \"[[5.9, 3, 5.1, 1.8]]\" http://127.0.0.1:3000/classify\n",
    "```\n"
   ]
  },
  {
   "cell_type": "markdown",
   "id": "4f1a8bcc",
   "metadata": {},
   "source": [
    "### Build Bento for deployment"
   ]
  },
  {
   "cell_type": "markdown",
   "id": "d6192cd5",
   "metadata": {},
   "source": [
    "Bento is the distribution format in BentoML which captures all the source code, model files, config\n",
    "files and dependency specifications required for running the service for production deployment. Think \n",
    "of it as Docker/Container designed for machine learning models.\n",
    "\n",
    "To begin with building Bento, create a `bentofile.yaml` under your project directory:"
   ]
  },
  {
   "cell_type": "code",
   "execution_count": null,
   "id": "6458e417",
   "metadata": {},
   "outputs": [],
   "source": [
    "%%writefile bentofile.yaml\n",
    "service: \"service.py:svc\"\n",
    "labels:\n",
    "  owner: bentoml-team\n",
    "  project: gallery\n",
    "include:\n",
    "- \"*.py\"\n",
    "python:\n",
    "  packages:\n",
    "    - scikit-learn\n",
    "    - pandas"
   ]
  },
  {
   "cell_type": "markdown",
   "id": "47505e3c",
   "metadata": {},
   "source": [
    "Next, run `bentoml build` from current directory to start the Bento build:"
   ]
  },
  {
   "cell_type": "code",
   "execution_count": null,
   "id": "b7cab8b2",
   "metadata": {},
   "outputs": [],
   "source": [
    "!bentoml build"
   ]
  },
  {
   "cell_type": "markdown",
   "id": "4c159551",
   "metadata": {},
   "source": [
    "A new Bento is now built and saved to local Bento store. You can view and manage it via \n",
    "`bentoml list`,`bentoml get` and `bentoml delete` CLI command."
   ]
  },
  {
   "cell_type": "markdown",
   "id": "81ed8b84",
   "metadata": {},
   "source": [
    "## Containerize and Deployment"
   ]
  },
  {
   "cell_type": "markdown",
   "id": "8c215454",
   "metadata": {},
   "source": [
    "Bento is designed to be deployed to run efficiently in a variety of different environments.\n",
    "And there are lots of deployment options and tools as part of the BentoML eco-system, such as \n",
    "[Yatai](https://github.com/bentoml/Yatai) and [bentoctl](https://github.com/bentoml/bentoctl) for\n",
    "direct deployment to cloud platforms.\n",
    "\n",
    "In this guide, we will show you the most basic way of deploying a Bento, which is converting a Bento\n",
    "into a Docker image containing the HTTP model server.\n",
    "\n",
    "Make sure you have docker installed and docker deamon running, and run the following commnand:\n",
    "\n",
    "```bash\n",
    "bentoml containerize iris_classifier:latest\n",
    "```\n",
    "\n",
    "This will build a new docker image with all source code, model files and dependencies in place,\n",
    "and ready for production deployment. To start a container with this docker image locally, run:\n",
    "\n",
    "```bash\n",
    "docker run -p 3000:3000 iris_classifier:invwzzsw7li6zckb2ie5eubhd \n",
    "```\n",
    "\n",
    "## What's Next?\n",
    "\n",
    "- 👉 [Pop into our Slack community!](https://l.linklyhq.com/l/ktO8) We're happy to help with any issue you face or even just to meet you and hear what you're working on.\n",
    "\n",
    "- Dive deeper into the [Core Concepts](https://docs.bentoml.org/en/latest/concepts/index.html) in BentoML\n",
    "- Learn how to use BentoML with other ML Frameworks at [Frameworks Guide](https://docs.bentoml.org/en/latest/frameworks/index.html) or check out other [gallery projects](https://github.com/bentoml/gallery)\n",
    "- Learn more about model deployment options for Bento:\n",
    "  - [🦄️ Yatai](https://github.com/bentoml/Yatai): Model Deployment at scale on Kubernetes\n",
    "  - [🚀 bentoctl](https://github.com/bentoml/bentoctl): Fast model deployment on any cloud platform\n"
   ]
  }
 ],
 "metadata": {
  "kernelspec": {
   "display_name": "mlops_env",
   "language": "python",
   "name": "mlops_env"
  },
  "language_info": {
   "codemirror_mode": {
    "name": "ipython",
    "version": 3
   },
   "file_extension": ".py",
   "mimetype": "text/x-python",
   "name": "python",
   "nbconvert_exporter": "python",
   "pygments_lexer": "ipython3",
   "version": "3.9.7"
  }
 },
 "nbformat": 4,
 "nbformat_minor": 5
}
