{
 "cells": [
  {
   "cell_type": "markdown",
   "id": "a682ea0b",
   "metadata": {},
   "source": [
    "# BentoML TensorFlow2 MNIST Tutorial\n",
    "\n",
    "Link to source code: https://github.com/bentoml/gallery/tree/main/tensorflow2_mnist/\n",
    "\n",
    "The code is based on the TensorFlow2 example code here: https://www.tensorflow.org/tutorials/quickstart/advanced\n",
    "\n",
    "Install required dependencies:"
   ]
  },
  {
   "cell_type": "code",
   "execution_count": 1,
   "id": "3ad00863",
   "metadata": {},
   "outputs": [
    {
     "name": "stdout",
     "output_type": "stream",
     "text": [
      "Requirement already satisfied: tensorflow in c:\\programdata\\anaconda3\\lib\\site-packages (from -r https://raw.githubusercontent.com/bentoml/gallery/main/tensorflow2/requirements.txt (line 1)) (2.9.1)\n",
      "Requirement already satisfied: pillow in c:\\programdata\\anaconda3\\lib\\site-packages (from -r https://raw.githubusercontent.com/bentoml/gallery/main/tensorflow2/requirements.txt (line 2)) (8.4.0)\n",
      "Requirement already satisfied: bentoml>=1.0.0a7 in c:\\users\\hwang\\appdata\\roaming\\python\\python39\\site-packages (from -r https://raw.githubusercontent.com/bentoml/gallery/main/tensorflow2/requirements.txt (line 3)) (1.0.0rc3)\n",
      "Requirement already satisfied: numpy>=1.20 in c:\\users\\hwang\\appdata\\roaming\\python\\python39\\site-packages (from tensorflow->-r https://raw.githubusercontent.com/bentoml/gallery/main/tensorflow2/requirements.txt (line 1)) (1.23.0)\n",
      "Requirement already satisfied: six>=1.12.0 in c:\\programdata\\anaconda3\\lib\\site-packages (from tensorflow->-r https://raw.githubusercontent.com/bentoml/gallery/main/tensorflow2/requirements.txt (line 1)) (1.16.0)\n",
      "Requirement already satisfied: tensorflow-io-gcs-filesystem>=0.23.1 in c:\\programdata\\anaconda3\\lib\\site-packages (from tensorflow->-r https://raw.githubusercontent.com/bentoml/gallery/main/tensorflow2/requirements.txt (line 1)) (0.26.0)\n",
      "Requirement already satisfied: absl-py>=1.0.0 in c:\\programdata\\anaconda3\\lib\\site-packages (from tensorflow->-r https://raw.githubusercontent.com/bentoml/gallery/main/tensorflow2/requirements.txt (line 1)) (1.1.0)\n",
      "Requirement already satisfied: setuptools in c:\\programdata\\anaconda3\\lib\\site-packages (from tensorflow->-r https://raw.githubusercontent.com/bentoml/gallery/main/tensorflow2/requirements.txt (line 1)) (58.0.4)\n",
      "Requirement already satisfied: tensorflow-estimator<2.10.0,>=2.9.0rc0 in c:\\programdata\\anaconda3\\lib\\site-packages (from tensorflow->-r https://raw.githubusercontent.com/bentoml/gallery/main/tensorflow2/requirements.txt (line 1)) (2.9.0)\n",
      "Requirement already satisfied: h5py>=2.9.0 in c:\\programdata\\anaconda3\\lib\\site-packages (from tensorflow->-r https://raw.githubusercontent.com/bentoml/gallery/main/tensorflow2/requirements.txt (line 1)) (3.2.1)\n",
      "Requirement already satisfied: tensorboard<2.10,>=2.9 in c:\\programdata\\anaconda3\\lib\\site-packages (from tensorflow->-r https://raw.githubusercontent.com/bentoml/gallery/main/tensorflow2/requirements.txt (line 1)) (2.9.1)\n",
      "Requirement already satisfied: libclang>=13.0.0 in c:\\programdata\\anaconda3\\lib\\site-packages (from tensorflow->-r https://raw.githubusercontent.com/bentoml/gallery/main/tensorflow2/requirements.txt (line 1)) (14.0.1)\n",
      "Requirement already satisfied: packaging in c:\\users\\hwang\\appdata\\roaming\\python\\python39\\site-packages (from tensorflow->-r https://raw.githubusercontent.com/bentoml/gallery/main/tensorflow2/requirements.txt (line 1)) (21.3)\n",
      "Requirement already satisfied: grpcio<2.0,>=1.24.3 in c:\\programdata\\anaconda3\\lib\\site-packages (from tensorflow->-r https://raw.githubusercontent.com/bentoml/gallery/main/tensorflow2/requirements.txt (line 1)) (1.47.0)\n",
      "Requirement already satisfied: opt-einsum>=2.3.2 in c:\\programdata\\anaconda3\\lib\\site-packages (from tensorflow->-r https://raw.githubusercontent.com/bentoml/gallery/main/tensorflow2/requirements.txt (line 1)) (3.3.0)\n",
      "Requirement already satisfied: google-pasta>=0.1.1 in c:\\programdata\\anaconda3\\lib\\site-packages (from tensorflow->-r https://raw.githubusercontent.com/bentoml/gallery/main/tensorflow2/requirements.txt (line 1)) (0.2.0)\n",
      "Requirement already satisfied: keras-preprocessing>=1.1.1 in c:\\programdata\\anaconda3\\lib\\site-packages (from tensorflow->-r https://raw.githubusercontent.com/bentoml/gallery/main/tensorflow2/requirements.txt (line 1)) (1.1.2)\n",
      "Requirement already satisfied: astunparse>=1.6.0 in c:\\programdata\\anaconda3\\lib\\site-packages (from tensorflow->-r https://raw.githubusercontent.com/bentoml/gallery/main/tensorflow2/requirements.txt (line 1)) (1.6.3)\n",
      "Requirement already satisfied: keras<2.10.0,>=2.9.0rc0 in c:\\programdata\\anaconda3\\lib\\site-packages (from tensorflow->-r https://raw.githubusercontent.com/bentoml/gallery/main/tensorflow2/requirements.txt (line 1)) (2.9.0)\n",
      "Requirement already satisfied: termcolor>=1.1.0 in c:\\programdata\\anaconda3\\lib\\site-packages (from tensorflow->-r https://raw.githubusercontent.com/bentoml/gallery/main/tensorflow2/requirements.txt (line 1)) (1.1.0)\n",
      "Requirement already satisfied: wrapt>=1.11.0 in c:\\users\\hwang\\appdata\\roaming\\python\\python39\\site-packages (from tensorflow->-r https://raw.githubusercontent.com/bentoml/gallery/main/tensorflow2/requirements.txt (line 1)) (1.14.1)\n",
      "Requirement already satisfied: typing-extensions>=3.6.6 in c:\\users\\hwang\\appdata\\roaming\\python\\python39\\site-packages (from tensorflow->-r https://raw.githubusercontent.com/bentoml/gallery/main/tensorflow2/requirements.txt (line 1)) (4.3.0)\n",
      "Requirement already satisfied: protobuf<3.20,>=3.9.2 in c:\\programdata\\anaconda3\\lib\\site-packages (from tensorflow->-r https://raw.githubusercontent.com/bentoml/gallery/main/tensorflow2/requirements.txt (line 1)) (3.19.4)\n",
      "Requirement already satisfied: flatbuffers<2,>=1.12 in c:\\programdata\\anaconda3\\lib\\site-packages (from tensorflow->-r https://raw.githubusercontent.com/bentoml/gallery/main/tensorflow2/requirements.txt (line 1)) (1.12)\n",
      "Requirement already satisfied: gast<=0.4.0,>=0.2.1 in c:\\programdata\\anaconda3\\lib\\site-packages (from tensorflow->-r https://raw.githubusercontent.com/bentoml/gallery/main/tensorflow2/requirements.txt (line 1)) (0.4.0)\n",
      "Requirement already satisfied: starlette in c:\\users\\hwang\\appdata\\roaming\\python\\python39\\site-packages (from bentoml>=1.0.0a7->-r https://raw.githubusercontent.com/bentoml/gallery/main/tensorflow2/requirements.txt (line 3)) (0.20.4)\n",
      "Requirement already satisfied: python-json-logger in c:\\users\\hwang\\appdata\\roaming\\python\\python39\\site-packages (from bentoml>=1.0.0a7->-r https://raw.githubusercontent.com/bentoml/gallery/main/tensorflow2/requirements.txt (line 3)) (2.0.2)\n",
      "Requirement already satisfied: deepmerge in c:\\users\\hwang\\appdata\\roaming\\python\\python39\\site-packages (from bentoml>=1.0.0a7->-r https://raw.githubusercontent.com/bentoml/gallery/main/tensorflow2/requirements.txt (line 3)) (1.0.1)\n",
      "Requirement already satisfied: python-dateutil in c:\\users\\hwang\\appdata\\roaming\\python\\python39\\site-packages (from bentoml>=1.0.0a7->-r https://raw.githubusercontent.com/bentoml/gallery/main/tensorflow2/requirements.txt (line 3)) (2.8.2)\n",
      "Requirement already satisfied: requests in c:\\users\\hwang\\appdata\\roaming\\python\\python39\\site-packages (from bentoml>=1.0.0a7->-r https://raw.githubusercontent.com/bentoml/gallery/main/tensorflow2/requirements.txt (line 3)) (2.28.1)\n",
      "Requirement already satisfied: aiofiles in c:\\users\\hwang\\appdata\\roaming\\python\\python39\\site-packages (from bentoml>=1.0.0a7->-r https://raw.githubusercontent.com/bentoml/gallery/main/tensorflow2/requirements.txt (line 3)) (0.8.0)\n",
      "Requirement already satisfied: cloudpickle in c:\\users\\hwang\\appdata\\roaming\\python\\python39\\site-packages (from bentoml>=1.0.0a7->-r https://raw.githubusercontent.com/bentoml/gallery/main/tensorflow2/requirements.txt (line 3)) (2.1.0)\n",
      "Requirement already satisfied: opentelemetry-util-http==0.28b0 in c:\\users\\hwang\\appdata\\roaming\\python\\python39\\site-packages (from bentoml>=1.0.0a7->-r https://raw.githubusercontent.com/bentoml/gallery/main/tensorflow2/requirements.txt (line 3)) (0.28b0)\n",
      "Requirement already satisfied: psutil in c:\\users\\hwang\\appdata\\roaming\\python\\python39\\site-packages (from bentoml>=1.0.0a7->-r https://raw.githubusercontent.com/bentoml/gallery/main/tensorflow2/requirements.txt (line 3)) (5.9.0)\n",
      "Requirement already satisfied: uvicorn in c:\\users\\hwang\\appdata\\roaming\\python\\python39\\site-packages (from bentoml>=1.0.0a7->-r https://raw.githubusercontent.com/bentoml/gallery/main/tensorflow2/requirements.txt (line 3)) (0.18.2)\n",
      "Requirement already satisfied: opentelemetry-instrumentation-aiohttp-client==0.28b0 in c:\\users\\hwang\\appdata\\roaming\\python\\python39\\site-packages (from bentoml>=1.0.0a7->-r https://raw.githubusercontent.com/bentoml/gallery/main/tensorflow2/requirements.txt (line 3)) (0.28b0)\n",
      "Requirement already satisfied: opentelemetry-instrumentation==0.28b0 in c:\\users\\hwang\\appdata\\roaming\\python\\python39\\site-packages (from bentoml>=1.0.0a7->-r https://raw.githubusercontent.com/bentoml/gallery/main/tensorflow2/requirements.txt (line 3)) (0.28b0)\n",
      "Requirement already satisfied: python-multipart in c:\\users\\hwang\\appdata\\roaming\\python\\python39\\site-packages (from bentoml>=1.0.0a7->-r https://raw.githubusercontent.com/bentoml/gallery/main/tensorflow2/requirements.txt (line 3)) (0.0.5)\n",
      "Requirement already satisfied: chardet in c:\\users\\hwang\\appdata\\roaming\\python\\python39\\site-packages (from bentoml>=1.0.0a7->-r https://raw.githubusercontent.com/bentoml/gallery/main/tensorflow2/requirements.txt (line 3)) (5.0.0)\n",
      "Requirement already satisfied: attrs>=21.1.0 in c:\\users\\hwang\\appdata\\roaming\\python\\python39\\site-packages (from bentoml>=1.0.0a7->-r https://raw.githubusercontent.com/bentoml/gallery/main/tensorflow2/requirements.txt (line 3)) (21.4.0)\n",
      "Requirement already satisfied: simple-di>=0.1.4 in c:\\users\\hwang\\appdata\\roaming\\python\\python39\\site-packages (from bentoml>=1.0.0a7->-r https://raw.githubusercontent.com/bentoml/gallery/main/tensorflow2/requirements.txt (line 3)) (0.1.5)\n",
      "Requirement already satisfied: prometheus-client<0.14.0,>=0.10.0 in c:\\users\\hwang\\appdata\\roaming\\python\\python39\\site-packages (from bentoml>=1.0.0a7->-r https://raw.githubusercontent.com/bentoml/gallery/main/tensorflow2/requirements.txt (line 3)) (0.13.1)\n",
      "Requirement already satisfied: fs in c:\\users\\hwang\\appdata\\roaming\\python\\python39\\site-packages (from bentoml>=1.0.0a7->-r https://raw.githubusercontent.com/bentoml/gallery/main/tensorflow2/requirements.txt (line 3)) (2.4.16)\n",
      "Requirement already satisfied: click>=7.0 in c:\\users\\hwang\\appdata\\roaming\\python\\python39\\site-packages (from bentoml>=1.0.0a7->-r https://raw.githubusercontent.com/bentoml/gallery/main/tensorflow2/requirements.txt (line 3)) (8.1.3)\n",
      "Requirement already satisfied: opentelemetry-sdk==1.9.0 in c:\\users\\hwang\\appdata\\roaming\\python\\python39\\site-packages (from bentoml>=1.0.0a7->-r https://raw.githubusercontent.com/bentoml/gallery/main/tensorflow2/requirements.txt (line 3)) (1.9.0)\n",
      "Requirement already satisfied: opentelemetry-api==1.9.0 in c:\\users\\hwang\\appdata\\roaming\\python\\python39\\site-packages (from bentoml>=1.0.0a7->-r https://raw.githubusercontent.com/bentoml/gallery/main/tensorflow2/requirements.txt (line 3)) (1.9.0)\n",
      "Requirement already satisfied: pathspec in c:\\users\\hwang\\appdata\\roaming\\python\\python39\\site-packages (from bentoml>=1.0.0a7->-r https://raw.githubusercontent.com/bentoml/gallery/main/tensorflow2/requirements.txt (line 3)) (0.9.0)\n",
      "Requirement already satisfied: filelock in c:\\users\\hwang\\appdata\\roaming\\python\\python39\\site-packages (from bentoml>=1.0.0a7->-r https://raw.githubusercontent.com/bentoml/gallery/main/tensorflow2/requirements.txt (line 3)) (3.7.1)\n",
      "Requirement already satisfied: schema in c:\\users\\hwang\\appdata\\roaming\\python\\python39\\site-packages (from bentoml>=1.0.0a7->-r https://raw.githubusercontent.com/bentoml/gallery/main/tensorflow2/requirements.txt (line 3)) (0.7.5)\n",
      "Requirement already satisfied: pynvml<12 in c:\\users\\hwang\\appdata\\roaming\\python\\python39\\site-packages (from bentoml>=1.0.0a7->-r https://raw.githubusercontent.com/bentoml/gallery/main/tensorflow2/requirements.txt (line 3)) (11.4.1)\n",
      "Requirement already satisfied: pip-tools>=6.6.2 in c:\\users\\hwang\\appdata\\roaming\\python\\python39\\site-packages (from bentoml>=1.0.0a7->-r https://raw.githubusercontent.com/bentoml/gallery/main/tensorflow2/requirements.txt (line 3)) (6.8.0)\n",
      "Requirement already satisfied: python-dotenv>=0.20.0 in c:\\users\\hwang\\appdata\\roaming\\python\\python39\\site-packages (from bentoml>=1.0.0a7->-r https://raw.githubusercontent.com/bentoml/gallery/main/tensorflow2/requirements.txt (line 3)) (0.20.0)\n",
      "Requirement already satisfied: aiohttp<=3.8.1 in c:\\users\\hwang\\appdata\\roaming\\python\\python39\\site-packages (from bentoml>=1.0.0a7->-r https://raw.githubusercontent.com/bentoml/gallery/main/tensorflow2/requirements.txt (line 3)) (3.8.1)\n",
      "Requirement already satisfied: opentelemetry-semantic-conventions==0.28b0 in c:\\users\\hwang\\appdata\\roaming\\python\\python39\\site-packages (from bentoml>=1.0.0a7->-r https://raw.githubusercontent.com/bentoml/gallery/main/tensorflow2/requirements.txt (line 3)) (0.28b0)\n",
      "Requirement already satisfied: PyYAML>=5.0 in c:\\users\\hwang\\appdata\\roaming\\python\\python39\\site-packages (from bentoml>=1.0.0a7->-r https://raw.githubusercontent.com/bentoml/gallery/main/tensorflow2/requirements.txt (line 3)) (6.0)\n",
      "Requirement already satisfied: cattrs>=1.10.0 in c:\\users\\hwang\\appdata\\roaming\\python\\python39\\site-packages (from bentoml>=1.0.0a7->-r https://raw.githubusercontent.com/bentoml/gallery/main/tensorflow2/requirements.txt (line 3)) (22.1.0)\n",
      "Requirement already satisfied: circus in c:\\users\\hwang\\appdata\\roaming\\python\\python39\\site-packages (from bentoml>=1.0.0a7->-r https://raw.githubusercontent.com/bentoml/gallery/main/tensorflow2/requirements.txt (line 3)) (0.17.1)\n",
      "Requirement already satisfied: Jinja2>=3.0.1 in c:\\users\\hwang\\appdata\\roaming\\python\\python39\\site-packages (from bentoml>=1.0.0a7->-r https://raw.githubusercontent.com/bentoml/gallery/main/tensorflow2/requirements.txt (line 3)) (3.1.2)\n",
      "Requirement already satisfied: opentelemetry-instrumentation-asgi==0.28b0 in c:\\users\\hwang\\appdata\\roaming\\python\\python39\\site-packages (from bentoml>=1.0.0a7->-r https://raw.githubusercontent.com/bentoml/gallery/main/tensorflow2/requirements.txt (line 3)) (0.28b0)\n",
      "Requirement already satisfied: rich>=11.2.0 in c:\\users\\hwang\\appdata\\roaming\\python\\python39\\site-packages (from bentoml>=1.0.0a7->-r https://raw.githubusercontent.com/bentoml/gallery/main/tensorflow2/requirements.txt (line 3)) (12.4.4)\n",
      "Requirement already satisfied: Deprecated>=1.2.6 in c:\\users\\hwang\\appdata\\roaming\\python\\python39\\site-packages (from opentelemetry-api==1.9.0->bentoml>=1.0.0a7->-r https://raw.githubusercontent.com/bentoml/gallery/main/tensorflow2/requirements.txt (line 3)) (1.2.13)\n",
      "Requirement already satisfied: asgiref~=3.0 in c:\\users\\hwang\\appdata\\roaming\\python\\python39\\site-packages (from opentelemetry-instrumentation-asgi==0.28b0->bentoml>=1.0.0a7->-r https://raw.githubusercontent.com/bentoml/gallery/main/tensorflow2/requirements.txt (line 3)) (3.5.2)\n",
      "Requirement already satisfied: async-timeout<5.0,>=4.0.0a3 in c:\\users\\hwang\\appdata\\roaming\\python\\python39\\site-packages (from aiohttp<=3.8.1->bentoml>=1.0.0a7->-r https://raw.githubusercontent.com/bentoml/gallery/main/tensorflow2/requirements.txt (line 3)) (4.0.2)\n",
      "Requirement already satisfied: aiosignal>=1.1.2 in c:\\users\\hwang\\appdata\\roaming\\python\\python39\\site-packages (from aiohttp<=3.8.1->bentoml>=1.0.0a7->-r https://raw.githubusercontent.com/bentoml/gallery/main/tensorflow2/requirements.txt (line 3)) (1.2.0)\n",
      "Requirement already satisfied: charset-normalizer<3.0,>=2.0 in c:\\users\\hwang\\appdata\\roaming\\python\\python39\\site-packages (from aiohttp<=3.8.1->bentoml>=1.0.0a7->-r https://raw.githubusercontent.com/bentoml/gallery/main/tensorflow2/requirements.txt (line 3)) (2.1.0)\n",
      "Requirement already satisfied: multidict<7.0,>=4.5 in c:\\users\\hwang\\appdata\\roaming\\python\\python39\\site-packages (from aiohttp<=3.8.1->bentoml>=1.0.0a7->-r https://raw.githubusercontent.com/bentoml/gallery/main/tensorflow2/requirements.txt (line 3)) (6.0.2)\n",
      "Requirement already satisfied: frozenlist>=1.1.1 in c:\\users\\hwang\\appdata\\roaming\\python\\python39\\site-packages (from aiohttp<=3.8.1->bentoml>=1.0.0a7->-r https://raw.githubusercontent.com/bentoml/gallery/main/tensorflow2/requirements.txt (line 3)) (1.3.0)\n",
      "Requirement already satisfied: yarl<2.0,>=1.0 in c:\\users\\hwang\\appdata\\roaming\\python\\python39\\site-packages (from aiohttp<=3.8.1->bentoml>=1.0.0a7->-r https://raw.githubusercontent.com/bentoml/gallery/main/tensorflow2/requirements.txt (line 3)) (1.7.2)\n",
      "Requirement already satisfied: wheel<1.0,>=0.23.0 in c:\\programdata\\anaconda3\\lib\\site-packages (from astunparse>=1.6.0->tensorflow->-r https://raw.githubusercontent.com/bentoml/gallery/main/tensorflow2/requirements.txt (line 1)) (0.37.0)\n",
      "Requirement already satisfied: exceptiongroup in c:\\users\\hwang\\appdata\\roaming\\python\\python39\\site-packages (from cattrs>=1.10.0->bentoml>=1.0.0a7->-r https://raw.githubusercontent.com/bentoml/gallery/main/tensorflow2/requirements.txt (line 3)) (1.0.0rc8)\n",
      "Requirement already satisfied: colorama in c:\\users\\hwang\\appdata\\roaming\\python\\python39\\site-packages (from click>=7.0->bentoml>=1.0.0a7->-r https://raw.githubusercontent.com/bentoml/gallery/main/tensorflow2/requirements.txt (line 3)) (0.4.4)\n",
      "Requirement already satisfied: MarkupSafe>=2.0 in c:\\users\\hwang\\appdata\\roaming\\python\\python39\\site-packages (from Jinja2>=3.0.1->bentoml>=1.0.0a7->-r https://raw.githubusercontent.com/bentoml/gallery/main/tensorflow2/requirements.txt (line 3)) (2.1.1)\n",
      "Requirement already satisfied: pyparsing!=3.0.5,>=2.0.2 in c:\\users\\hwang\\appdata\\roaming\\python\\python39\\site-packages (from packaging->tensorflow->-r https://raw.githubusercontent.com/bentoml/gallery/main/tensorflow2/requirements.txt (line 1)) (3.0.7)\n",
      "Requirement already satisfied: build in c:\\users\\hwang\\appdata\\roaming\\python\\python39\\site-packages (from pip-tools>=6.6.2->bentoml>=1.0.0a7->-r https://raw.githubusercontent.com/bentoml/gallery/main/tensorflow2/requirements.txt (line 3)) (0.8.0)\n",
      "Requirement already satisfied: pip>=21.2 in c:\\programdata\\anaconda3\\lib\\site-packages (from pip-tools>=6.6.2->bentoml>=1.0.0a7->-r https://raw.githubusercontent.com/bentoml/gallery/main/tensorflow2/requirements.txt (line 3)) (21.2.4)\n",
      "Requirement already satisfied: pygments<3.0.0,>=2.6.0 in c:\\users\\hwang\\appdata\\roaming\\python\\python39\\site-packages (from rich>=11.2.0->bentoml>=1.0.0a7->-r https://raw.githubusercontent.com/bentoml/gallery/main/tensorflow2/requirements.txt (line 3)) (2.11.2)\n",
      "Requirement already satisfied: commonmark<0.10.0,>=0.9.0 in c:\\users\\hwang\\appdata\\roaming\\python\\python39\\site-packages (from rich>=11.2.0->bentoml>=1.0.0a7->-r https://raw.githubusercontent.com/bentoml/gallery/main/tensorflow2/requirements.txt (line 3)) (0.9.1)\n",
      "Requirement already satisfied: werkzeug>=1.0.1 in c:\\programdata\\anaconda3\\lib\\site-packages (from tensorboard<2.10,>=2.9->tensorflow->-r https://raw.githubusercontent.com/bentoml/gallery/main/tensorflow2/requirements.txt (line 1)) (2.0.2)\n",
      "Requirement already satisfied: markdown>=2.6.8 in c:\\programdata\\anaconda3\\lib\\site-packages (from tensorboard<2.10,>=2.9->tensorflow->-r https://raw.githubusercontent.com/bentoml/gallery/main/tensorflow2/requirements.txt (line 1)) (3.3.7)\n",
      "Requirement already satisfied: google-auth-oauthlib<0.5,>=0.4.1 in c:\\programdata\\anaconda3\\lib\\site-packages (from tensorboard<2.10,>=2.9->tensorflow->-r https://raw.githubusercontent.com/bentoml/gallery/main/tensorflow2/requirements.txt (line 1)) (0.4.6)\n",
      "Requirement already satisfied: tensorboard-data-server<0.7.0,>=0.6.0 in c:\\programdata\\anaconda3\\lib\\site-packages (from tensorboard<2.10,>=2.9->tensorflow->-r https://raw.githubusercontent.com/bentoml/gallery/main/tensorflow2/requirements.txt (line 1)) (0.6.1)\n",
      "Requirement already satisfied: tensorboard-plugin-wit>=1.6.0 in c:\\programdata\\anaconda3\\lib\\site-packages (from tensorboard<2.10,>=2.9->tensorflow->-r https://raw.githubusercontent.com/bentoml/gallery/main/tensorflow2/requirements.txt (line 1)) (1.8.1)\n",
      "Requirement already satisfied: google-auth<3,>=1.6.3 in c:\\programdata\\anaconda3\\lib\\site-packages (from tensorboard<2.10,>=2.9->tensorflow->-r https://raw.githubusercontent.com/bentoml/gallery/main/tensorflow2/requirements.txt (line 1)) (2.9.0)\n",
      "Requirement already satisfied: pyasn1-modules>=0.2.1 in c:\\programdata\\anaconda3\\lib\\site-packages (from google-auth<3,>=1.6.3->tensorboard<2.10,>=2.9->tensorflow->-r https://raw.githubusercontent.com/bentoml/gallery/main/tensorflow2/requirements.txt (line 1)) (0.2.8)\n",
      "Requirement already satisfied: cachetools<6.0,>=2.0.0 in c:\\programdata\\anaconda3\\lib\\site-packages (from google-auth<3,>=1.6.3->tensorboard<2.10,>=2.9->tensorflow->-r https://raw.githubusercontent.com/bentoml/gallery/main/tensorflow2/requirements.txt (line 1)) (5.2.0)\n",
      "Requirement already satisfied: rsa<5,>=3.1.4 in c:\\programdata\\anaconda3\\lib\\site-packages (from google-auth<3,>=1.6.3->tensorboard<2.10,>=2.9->tensorflow->-r https://raw.githubusercontent.com/bentoml/gallery/main/tensorflow2/requirements.txt (line 1)) (4.8)\n",
      "Requirement already satisfied: requests-oauthlib>=0.7.0 in c:\\programdata\\anaconda3\\lib\\site-packages (from google-auth-oauthlib<0.5,>=0.4.1->tensorboard<2.10,>=2.9->tensorflow->-r https://raw.githubusercontent.com/bentoml/gallery/main/tensorflow2/requirements.txt (line 1)) (1.3.1)\n",
      "Requirement already satisfied: importlib-metadata>=4.4 in c:\\programdata\\anaconda3\\lib\\site-packages (from markdown>=2.6.8->tensorboard<2.10,>=2.9->tensorflow->-r https://raw.githubusercontent.com/bentoml/gallery/main/tensorflow2/requirements.txt (line 1)) (4.8.1)\n",
      "Requirement already satisfied: zipp>=0.5 in c:\\programdata\\anaconda3\\lib\\site-packages (from importlib-metadata>=4.4->markdown>=2.6.8->tensorboard<2.10,>=2.9->tensorflow->-r https://raw.githubusercontent.com/bentoml/gallery/main/tensorflow2/requirements.txt (line 1)) (3.6.0)\n",
      "Requirement already satisfied: pyasn1<0.5.0,>=0.4.6 in c:\\programdata\\anaconda3\\lib\\site-packages (from pyasn1-modules>=0.2.1->google-auth<3,>=1.6.3->tensorboard<2.10,>=2.9->tensorflow->-r https://raw.githubusercontent.com/bentoml/gallery/main/tensorflow2/requirements.txt (line 1)) (0.4.8)\n",
      "Requirement already satisfied: certifi>=2017.4.17 in c:\\programdata\\anaconda3\\lib\\site-packages (from requests->bentoml>=1.0.0a7->-r https://raw.githubusercontent.com/bentoml/gallery/main/tensorflow2/requirements.txt (line 3)) (2021.10.8)\n",
      "Requirement already satisfied: idna<4,>=2.5 in c:\\users\\hwang\\appdata\\roaming\\python\\python39\\site-packages (from requests->bentoml>=1.0.0a7->-r https://raw.githubusercontent.com/bentoml/gallery/main/tensorflow2/requirements.txt (line 3)) (3.3)\n",
      "Requirement already satisfied: urllib3<1.27,>=1.21.1 in c:\\users\\hwang\\appdata\\roaming\\python\\python39\\site-packages (from requests->bentoml>=1.0.0a7->-r https://raw.githubusercontent.com/bentoml/gallery/main/tensorflow2/requirements.txt (line 3)) (1.25.11)\n",
      "Requirement already satisfied: oauthlib>=3.0.0 in c:\\programdata\\anaconda3\\lib\\site-packages (from requests-oauthlib>=0.7.0->google-auth-oauthlib<0.5,>=0.4.1->tensorboard<2.10,>=2.9->tensorflow->-r https://raw.githubusercontent.com/bentoml/gallery/main/tensorflow2/requirements.txt (line 1)) (3.2.0)\n",
      "Requirement already satisfied: pep517>=0.9.1 in c:\\users\\hwang\\appdata\\roaming\\python\\python39\\site-packages (from build->pip-tools>=6.6.2->bentoml>=1.0.0a7->-r https://raw.githubusercontent.com/bentoml/gallery/main/tensorflow2/requirements.txt (line 3)) (0.12.0)\n",
      "Requirement already satisfied: tomli>=1.0.0 in c:\\users\\hwang\\appdata\\roaming\\python\\python39\\site-packages (from build->pip-tools>=6.6.2->bentoml>=1.0.0a7->-r https://raw.githubusercontent.com/bentoml/gallery/main/tensorflow2/requirements.txt (line 3)) (2.0.1)\n",
      "Requirement already satisfied: pyzmq>=17.0 in c:\\users\\hwang\\appdata\\roaming\\python\\python39\\site-packages (from circus->bentoml>=1.0.0a7->-r https://raw.githubusercontent.com/bentoml/gallery/main/tensorflow2/requirements.txt (line 3)) (22.3.0)\n",
      "Requirement already satisfied: tornado>=5.0.2 in c:\\users\\hwang\\appdata\\roaming\\python\\python39\\site-packages (from circus->bentoml>=1.0.0a7->-r https://raw.githubusercontent.com/bentoml/gallery/main/tensorflow2/requirements.txt (line 3)) (6.1)\n",
      "Requirement already satisfied: appdirs~=1.4.3 in c:\\users\\hwang\\appdata\\roaming\\python\\python39\\site-packages (from fs->bentoml>=1.0.0a7->-r https://raw.githubusercontent.com/bentoml/gallery/main/tensorflow2/requirements.txt (line 3)) (1.4.4)\n",
      "Requirement already satisfied: contextlib2>=0.5.5 in c:\\users\\hwang\\appdata\\roaming\\python\\python39\\site-packages (from schema->bentoml>=1.0.0a7->-r https://raw.githubusercontent.com/bentoml/gallery/main/tensorflow2/requirements.txt (line 3)) (21.6.0)\n",
      "Requirement already satisfied: anyio<5,>=3.4.0 in c:\\users\\hwang\\appdata\\roaming\\python\\python39\\site-packages (from starlette->bentoml>=1.0.0a7->-r https://raw.githubusercontent.com/bentoml/gallery/main/tensorflow2/requirements.txt (line 3)) (3.6.1)\n",
      "Requirement already satisfied: sniffio>=1.1 in c:\\users\\hwang\\appdata\\roaming\\python\\python39\\site-packages (from anyio<5,>=3.4.0->starlette->bentoml>=1.0.0a7->-r https://raw.githubusercontent.com/bentoml/gallery/main/tensorflow2/requirements.txt (line 3)) (1.2.0)\n",
      "Requirement already satisfied: h11>=0.8 in c:\\users\\hwang\\appdata\\roaming\\python\\python39\\site-packages (from uvicorn->bentoml>=1.0.0a7->-r https://raw.githubusercontent.com/bentoml/gallery/main/tensorflow2/requirements.txt (line 3)) (0.13.0)\n"
     ]
    },
    {
     "name": "stderr",
     "output_type": "stream",
     "text": [
      "WARNING: Ignoring invalid distribution -llib3 (c:\\programdata\\anaconda3\\lib\\site-packages)\n",
      "WARNING: Ignoring invalid distribution -rllib3 (c:\\programdata\\anaconda3\\lib\\site-packages)\n",
      "WARNING: Ignoring invalid distribution -llib3 (c:\\programdata\\anaconda3\\lib\\site-packages)\n",
      "WARNING: Ignoring invalid distribution - (c:\\programdata\\anaconda3\\lib\\site-packages)\n",
      "WARNING: Ignoring invalid distribution -arkupsafe (c:\\programdata\\anaconda3\\lib\\site-packages)\n",
      "WARNING: Ignoring invalid distribution -llib3 (c:\\programdata\\anaconda3\\lib\\site-packages)\n",
      "WARNING: Ignoring invalid distribution -rllib3 (c:\\programdata\\anaconda3\\lib\\site-packages)\n",
      "WARNING: Ignoring invalid distribution -llib3 (c:\\programdata\\anaconda3\\lib\\site-packages)\n",
      "WARNING: Ignoring invalid distribution - (c:\\programdata\\anaconda3\\lib\\site-packages)\n",
      "WARNING: Ignoring invalid distribution -arkupsafe (c:\\programdata\\anaconda3\\lib\\site-packages)\n",
      "WARNING: Ignoring invalid distribution -llib3 (c:\\programdata\\anaconda3\\lib\\site-packages)\n",
      "WARNING: Ignoring invalid distribution -rllib3 (c:\\programdata\\anaconda3\\lib\\site-packages)\n",
      "WARNING: Ignoring invalid distribution -llib3 (c:\\programdata\\anaconda3\\lib\\site-packages)\n",
      "WARNING: Ignoring invalid distribution - (c:\\programdata\\anaconda3\\lib\\site-packages)\n",
      "WARNING: Ignoring invalid distribution -arkupsafe (c:\\programdata\\anaconda3\\lib\\site-packages)\n",
      "WARNING: Ignoring invalid distribution -llib3 (c:\\programdata\\anaconda3\\lib\\site-packages)\n",
      "WARNING: Ignoring invalid distribution -rllib3 (c:\\programdata\\anaconda3\\lib\\site-packages)\n",
      "WARNING: Ignoring invalid distribution -llib3 (c:\\programdata\\anaconda3\\lib\\site-packages)\n",
      "WARNING: Ignoring invalid distribution - (c:\\programdata\\anaconda3\\lib\\site-packages)\n",
      "WARNING: Ignoring invalid distribution -arkupsafe (c:\\programdata\\anaconda3\\lib\\site-packages)\n",
      "WARNING: Ignoring invalid distribution -llib3 (c:\\programdata\\anaconda3\\lib\\site-packages)\n",
      "WARNING: Ignoring invalid distribution -rllib3 (c:\\programdata\\anaconda3\\lib\\site-packages)\n",
      "WARNING: Ignoring invalid distribution -llib3 (c:\\programdata\\anaconda3\\lib\\site-packages)\n",
      "WARNING: Ignoring invalid distribution - (c:\\programdata\\anaconda3\\lib\\site-packages)\n",
      "WARNING: Ignoring invalid distribution -arkupsafe (c:\\programdata\\anaconda3\\lib\\site-packages)\n",
      "WARNING: Ignoring invalid distribution -llib3 (c:\\programdata\\anaconda3\\lib\\site-packages)\n",
      "WARNING: Ignoring invalid distribution -rllib3 (c:\\programdata\\anaconda3\\lib\\site-packages)\n",
      "WARNING: Ignoring invalid distribution -llib3 (c:\\programdata\\anaconda3\\lib\\site-packages)\n",
      "WARNING: Ignoring invalid distribution - (c:\\programdata\\anaconda3\\lib\\site-packages)\n",
      "WARNING: Ignoring invalid distribution -arkupsafe (c:\\programdata\\anaconda3\\lib\\site-packages)\n"
     ]
    }
   ],
   "source": [
    "#!pip install -r requirements.txt\n",
    "!pip install -r https://raw.githubusercontent.com/bentoml/gallery/main/tensorflow2/requirements.txt   --user"
   ]
  },
  {
   "cell_type": "markdown",
   "id": "84988464",
   "metadata": {
    "raw_mimetype": "text/markdown"
   },
   "source": [
    "If you are running MacOS use the following pip command:"
   ]
  },
  {
   "cell_type": "code",
   "execution_count": null,
   "id": "31a9cdfa",
   "metadata": {},
   "outputs": [],
   "source": [
    "!pip install -r requirements-macos.txt"
   ]
  },
  {
   "cell_type": "markdown",
   "id": "45393b74",
   "metadata": {},
   "source": [
    "## Define the model\n",
    "\n",
    "First let's initiate the dataset we'll be using and then create a Model which we will use to train."
   ]
  },
  {
   "cell_type": "code",
   "execution_count": 2,
   "id": "caeff07d",
   "metadata": {},
   "outputs": [
    {
     "name": "stdout",
     "output_type": "stream",
     "text": [
      "TensorFlow version: 2.9.1\n"
     ]
    }
   ],
   "source": [
    "import tensorflow as tf\n",
    "\n",
    "from tensorflow.keras.layers import Dense, Flatten, Conv2D\n",
    "from tensorflow.keras import Model\n",
    "\n",
    "import bentoml\n",
    "\n",
    "print(\"TensorFlow version:\", tf.__version__)\n",
    "\n",
    "mnist = tf.keras.datasets.mnist\n",
    "\n",
    "(x_train, y_train), (x_test, y_test) = mnist.load_data()\n",
    "x_train, x_test = x_train / 255.0, x_test / 255.0\n",
    "\n",
    "# Add a channels dimension\n",
    "x_train = x_train[..., tf.newaxis].astype(\"float32\")\n",
    "x_test = x_test[..., tf.newaxis].astype(\"float32\")\n",
    "\n",
    "train_ds = (\n",
    "    tf.data.Dataset.from_tensor_slices((x_train, y_train)).shuffle(10000).batch(32)\n",
    ")\n",
    "\n",
    "test_ds = tf.data.Dataset.from_tensor_slices((x_test, y_test)).batch(32)\n",
    "\n",
    "\n",
    "class MyModel(Model):\n",
    "    def __init__(self):\n",
    "        super(MyModel, self).__init__()\n",
    "        self.conv1 = Conv2D(32, 3, activation=\"relu\")\n",
    "        self.flatten = Flatten()\n",
    "        self.d1 = Dense(128, activation=\"relu\")\n",
    "        self.d2 = Dense(10)\n",
    "\n",
    "    def call(self, x):\n",
    "        x = self.conv1(x)\n",
    "        x = self.flatten(x)\n",
    "        x = self.d1(x)\n",
    "        return self.d2(x)\n",
    "\n",
    "\n",
    "# Create an instance of the model\n",
    "model = MyModel()"
   ]
  },
  {
   "cell_type": "markdown",
   "id": "38888f0a",
   "metadata": {},
   "source": [
    "## Training and Saving the model\n",
    "\n",
    "Then we initialize some simple tensorflow helper functions and create the training and testing methods"
   ]
  },
  {
   "cell_type": "code",
   "execution_count": 3,
   "id": "c62db15c",
   "metadata": {},
   "outputs": [],
   "source": [
    "loss_object = tf.keras.losses.SparseCategoricalCrossentropy(from_logits=True)\n",
    "\n",
    "optimizer = tf.keras.optimizers.Adam()\n",
    "\n",
    "train_loss = tf.keras.metrics.Mean(name=\"train_loss\")\n",
    "train_accuracy = tf.keras.metrics.SparseCategoricalAccuracy(name=\"train_accuracy\")\n",
    "\n",
    "test_loss = tf.keras.metrics.Mean(name=\"test_loss\")\n",
    "test_accuracy = tf.keras.metrics.SparseCategoricalAccuracy(name=\"test_accuracy\")"
   ]
  },
  {
   "cell_type": "markdown",
   "id": "788c19a0",
   "metadata": {},
   "source": [
    "### Training and Testing TF Steps\n",
    "\n",
    "Now we assemble our TensorFlow2 training and testing steps. We use @tf.function as the new way (a part of TensorFlow2) to initialize a TensorFlow session.\n"
   ]
  },
  {
   "cell_type": "code",
   "execution_count": 4,
   "id": "0b2fdd72",
   "metadata": {},
   "outputs": [],
   "source": [
    "@tf.function\n",
    "def train_step(images, labels):\n",
    "    with tf.GradientTape() as tape:\n",
    "        # training=True is only needed if there are layers with different\n",
    "        # behavior during training versus inference (e.g. Dropout).\n",
    "        predictions = model(images, training=True)\n",
    "        loss = loss_object(labels, predictions)\n",
    "    gradients = tape.gradient(loss, model.trainable_variables)\n",
    "    optimizer.apply_gradients(zip(gradients, model.trainable_variables))\n",
    "\n",
    "    train_loss(loss)\n",
    "    train_accuracy(labels, predictions)\n",
    "\n",
    "\n",
    "@tf.function\n",
    "def test_step(images, labels):\n",
    "    # training=False is only needed if there are layers with different\n",
    "    # behavior during training versus inference (e.g. Dropout).\n",
    "    predictions = model(images, training=False)\n",
    "    t_loss = loss_object(labels, predictions)\n",
    "\n",
    "    test_loss(t_loss)\n",
    "    test_accuracy(labels, predictions)"
   ]
  },
  {
   "cell_type": "markdown",
   "id": "ad2104a6",
   "metadata": {},
   "source": [
    "### Training the model\n",
    "\n",
    "As provided by TensorFlow, we train and test the model."
   ]
  },
  {
   "cell_type": "code",
   "execution_count": 5,
   "id": "d3d311c5",
   "metadata": {},
   "outputs": [
    {
     "name": "stdout",
     "output_type": "stream",
     "text": [
      "Epoch 1, Loss: 0.14150120317935944, Accuracy: 95.79332733154297, Test Loss: 0.0640590563416481, Test Accuracy: 97.93999481201172\n",
      "Epoch 2, Loss: 0.042139071971178055, Accuracy: 98.67832946777344, Test Loss: 0.0599837489426136, Test Accuracy: 98.13999938964844\n",
      "Epoch 3, Loss: 0.022173399105668068, Accuracy: 99.30833435058594, Test Loss: 0.05138981714844704, Test Accuracy: 98.5199966430664\n",
      "Epoch 4, Loss: 0.013054100796580315, Accuracy: 99.56999969482422, Test Loss: 0.05493428558111191, Test Accuracy: 98.36000061035156\n",
      "Epoch 5, Loss: 0.008808165788650513, Accuracy: 99.7066650390625, Test Loss: 0.05580809339880943, Test Accuracy: 98.3499984741211\n"
     ]
    }
   ],
   "source": [
    "EPOCHS = 5\n",
    "\n",
    "for epoch in range(EPOCHS):\n",
    "    # Reset the metrics at the start of the next epoch\n",
    "    train_loss.reset_states()\n",
    "    train_accuracy.reset_states()\n",
    "    test_loss.reset_states()\n",
    "    test_accuracy.reset_states()\n",
    "\n",
    "    for images, labels in train_ds:\n",
    "        train_step(images, labels)\n",
    "\n",
    "    for test_images, test_labels in test_ds:\n",
    "        test_step(test_images, test_labels)\n",
    "\n",
    "    print(\n",
    "        f\"Epoch {epoch + 1}, \"\n",
    "        f\"Loss: {train_loss.result()}, \"\n",
    "        f\"Accuracy: {train_accuracy.result() * 100}, \"\n",
    "        f\"Test Loss: {test_loss.result()}, \"\n",
    "        f\"Test Accuracy: {test_accuracy.result() * 100}\"\n",
    "    )"
   ]
  },
  {
   "cell_type": "markdown",
   "id": "92d9b23c",
   "metadata": {},
   "source": [
    "### Saving the model\n",
    "\n",
    "Finally, we make one call to the bentoml library to save this tensorflow model to be used later as part of the prediction service that we will create."
   ]
  },
  {
   "cell_type": "code",
   "execution_count": 7,
   "id": "1fe9c4a7",
   "metadata": {},
   "outputs": [
    {
     "name": "stderr",
     "output_type": "stream",
     "text": [
      "C:\\Users\\hwang\\AppData\\Roaming\\Python\\Python39\\site-packages\\bentoml\\_internal\\utils\\tensorflow.py:297: UserWarning: `Model.state_updates` will be removed in a future version. This property should not be used in TensorFlow 2.0, as `updates` are applied automatically.\n",
      "  function_map = {k: getattr(m, k, None) for k in dir(m)}\n",
      "C:\\Users\\hwang\\AppData\\Roaming\\Python\\Python39\\site-packages\\bentoml\\_internal\\utils\\tensorflow.py:297: UserWarning: `layer.updates` will be removed in a future version. This property should not be used in TensorFlow 2.0, as `updates` are applied automatically.\n",
      "  function_map = {k: getattr(m, k, None) for k in dir(m)}\n",
      "WARNING:absl:Found untraced functions such as _jit_compiled_convolution_op while saving (showing 1 of 1). These functions will not be directly callable after loading.\n"
     ]
    },
    {
     "name": "stdout",
     "output_type": "stream",
     "text": [
      "INFO:tensorflow:Assets written to: C:\\Users\\hwang\\AppData\\Local\\Temp\\tmp129_j3v0bentoml_model_tensorflow_mnist\\assets\n"
     ]
    },
    {
     "name": "stderr",
     "output_type": "stream",
     "text": [
      "INFO:tensorflow:Assets written to: C:\\Users\\hwang\\AppData\\Local\\Temp\\tmp129_j3v0bentoml_model_tensorflow_mnist\\assets\n"
     ]
    },
    {
     "data": {
      "text/plain": [
       "Model(tag=\"tensorflow_mnist:qmnbuwh7kgrdx3c4\", path=\"C:\\Users\\hwang\\bentoml\\models\\tensorflow_mnist\\qmnbuwh7kgrdx3c4\\\")"
      ]
     },
     "execution_count": 7,
     "metadata": {},
     "output_type": "execute_result"
    }
   ],
   "source": [
    "#The \"bentoml.tensorflow.save\" method is being deprecated. Use \"bentoml.tensorflow.save_model\" instead\n",
    "#bentoml.tensorflow.save(\"tensorflow_mnist\", model)\n",
    "bentoml.tensorflow.save_model(\"tensorflow_mnist\", model)"
   ]
  },
  {
   "cell_type": "markdown",
   "id": "bdf35e55",
   "metadata": {},
   "source": [
    "## Create a BentoML Service for serving the model\n",
    "\n",
    "Note: using `%%writefile` here because `bentoml.Service` instance must be created in a separate `.py` file\n",
    "\n",
    "Even though we have only one model, we can create as many api endpoints as we want. Here we create two end points `predict_ndarray` and `predict_image`"
   ]
  },
  {
   "cell_type": "code",
   "execution_count": 21,
   "id": "f3e2f590",
   "metadata": {},
   "outputs": [
    {
     "name": "stdout",
     "output_type": "stream",
     "text": [
      "Overwriting service.py\n"
     ]
    }
   ],
   "source": [
    "%%writefile service.py\n",
    "\n",
    "import bentoml\n",
    "import numpy as np\n",
    "from bentoml.io import Image, NumpyNdarray\n",
    "from PIL.Image import Image as PILImage\n",
    "\n",
    "mnist_runner = bentoml.tensorflow.load_runner(\n",
    "    \"tensorflow_mnist:latest\"\n",
    ")\n",
    "\n",
    "svc = bentoml.Service(\n",
    "    name=\"tensorflow_mnist_demo\",\n",
    "    runners=[\n",
    "        mnist_runner,\n",
    "    ],\n",
    ")\n",
    "\n",
    "\n",
    "@svc.api(\n",
    "    input=NumpyNdarray(dtype=\"float32\", enforce_dtype=True),\n",
    "    output=NumpyNdarray(dtype=\"float32\"),\n",
    ")\n",
    "async def predict_ndarray(inp: \"np.ndarray\") -> \"np.ndarray\":\n",
    "    assert inp.shape == (28, 28)\n",
    "    # We are using greyscale image and our PyTorch model expect one\n",
    "    # extra channel dimension\n",
    "    inp = np.expand_dims(inp, 2)\n",
    "    return await mnist_runner.async_run(inp)\n",
    "\n",
    "\n",
    "@svc.api(input=Image(), output=NumpyNdarray(dtype=\"float32\"))\n",
    "async def predict_image(f: PILImage) -> \"np.ndarray\":\n",
    "    assert isinstance(f, PILImage)\n",
    "    arr = np.array(f)/255.0\n",
    "    assert arr.shape == (28, 28)\n",
    "\n",
    "    # We are using greyscale image and our PyTorch model expect one\n",
    "    # extra channel dimension\n",
    "    arr = np.expand_dims(arr, 2).astype(\"float32\")\n",
    "    return await mnist_runner.async_run(arr)\n"
   ]
  },
  {
   "cell_type": "code",
   "execution_count": 10,
   "id": "98260e66",
   "metadata": {},
   "outputs": [
    {
     "name": "stdout",
     "output_type": "stream",
     "text": [
      "(28, 28)\n",
      "[[0, 0, 0, 0, 0, 0, 0, 0, 0, 0, 0, 0, 0, 0, 0, 0, 0, 0, 0, 0, 0, 0, 0, 0, 0, 0, 0, 0], [0, 0, 0, 0, 0, 0, 0, 0, 0, 0, 0, 0, 0, 0, 0, 0, 0, 0, 0, 0, 0, 0, 0, 0, 0, 0, 0, 0], [0, 0, 0, 0, 0, 0, 0, 0, 0, 0, 0, 0, 0, 0, 0, 0, 0, 0, 0, 0, 0, 0, 0, 0, 0, 0, 0, 0], [0, 0, 0, 0, 0, 0, 0, 0, 0, 0, 0, 0, 0, 0, 0, 0, 0, 0, 0, 0, 0, 0, 0, 0, 0, 0, 0, 0], [0, 0, 0, 0, 0, 0, 0, 0, 0, 0, 0, 0, 0, 0, 0, 0, 0, 0, 0, 0, 0, 0, 0, 0, 0, 0, 0, 0], [0, 0, 0, 0, 0, 0, 0, 0, 0, 0, 0, 0, 0, 0, 64, 185, 254, 134, 83, 0, 0, 0, 0, 0, 0, 0, 0, 0], [0, 0, 0, 0, 0, 0, 0, 90, 241, 241, 213, 91, 0, 13, 247, 203, 146, 242, 249, 206, 28, 0, 0, 0, 0, 0, 0, 0], [0, 0, 0, 0, 0, 0, 0, 214, 253, 179, 179, 249, 84, 80, 89, 14, 0, 23, 168, 253, 135, 30, 0, 0, 0, 0, 0, 0], [0, 0, 0, 0, 0, 0, 133, 249, 185, 9, 37, 228, 93, 0, 0, 0, 0, 0, 13, 166, 253, 192, 0, 0, 0, 0, 0, 0], [0, 0, 0, 0, 0, 0, 241, 253, 67, 0, 0, 37, 91, 0, 0, 0, 0, 0, 0, 14, 201, 224, 25, 0, 0, 0, 0, 0], [0, 0, 0, 0, 0, 0, 241, 184, 11, 0, 0, 0, 0, 0, 0, 0, 0, 0, 0, 0, 159, 253, 192, 0, 0, 0, 0, 0], [0, 0, 0, 0, 0, 0, 241, 159, 0, 0, 0, 0, 0, 0, 0, 0, 0, 0, 0, 0, 46, 241, 245, 73, 0, 0, 0, 0], [0, 0, 0, 0, 0, 0, 241, 159, 0, 0, 0, 0, 0, 0, 0, 0, 0, 0, 0, 0, 0, 174, 253, 107, 0, 0, 0, 0], [0, 0, 0, 0, 0, 0, 241, 159, 0, 0, 0, 0, 0, 0, 0, 0, 0, 0, 0, 0, 0, 167, 253, 107, 0, 0, 0, 0], [0, 0, 0, 0, 0, 0, 241, 159, 0, 0, 0, 0, 0, 0, 0, 0, 0, 0, 0, 0, 0, 112, 253, 107, 0, 0, 0, 0], [0, 0, 0, 0, 0, 0, 242, 254, 40, 0, 0, 0, 0, 0, 0, 0, 0, 0, 0, 0, 0, 175, 242, 57, 0, 0, 0, 0], [0, 0, 0, 0, 0, 0, 184, 253, 96, 0, 0, 0, 0, 0, 0, 0, 0, 0, 0, 0, 0, 174, 226, 0, 0, 0, 0, 0], [0, 0, 0, 0, 0, 0, 68, 244, 173, 0, 0, 0, 0, 0, 0, 0, 0, 0, 0, 0, 20, 203, 226, 0, 0, 0, 0, 0], [0, 0, 0, 0, 0, 0, 0, 185, 241, 45, 0, 0, 0, 0, 0, 0, 0, 0, 0, 0, 54, 253, 184, 0, 0, 0, 0, 0], [0, 0, 0, 0, 0, 0, 0, 94, 253, 88, 0, 0, 0, 0, 0, 0, 0, 0, 0, 0, 160, 253, 93, 0, 0, 0, 0, 0], [0, 0, 0, 0, 0, 0, 0, 25, 196, 236, 78, 0, 0, 0, 0, 0, 0, 0, 0, 15, 201, 245, 74, 0, 0, 0, 0, 0], [0, 0, 0, 0, 0, 0, 0, 0, 26, 217, 236, 76, 0, 0, 0, 0, 0, 0, 56, 195, 253, 192, 0, 0, 0, 0, 0, 0], [0, 0, 0, 0, 0, 0, 0, 0, 0, 74, 197, 238, 161, 83, 27, 27, 27, 77, 190, 253, 134, 29, 0, 0, 0, 0, 0, 0], [0, 0, 0, 0, 0, 0, 0, 0, 0, 0, 23, 128, 241, 253, 253, 255, 253, 253, 249, 133, 28, 0, 0, 0, 0, 0, 0, 0], [0, 0, 0, 0, 0, 0, 0, 0, 0, 0, 0, 0, 13, 120, 120, 183, 126, 120, 82, 0, 0, 0, 0, 0, 0, 0, 0, 0], [0, 0, 0, 0, 0, 0, 0, 0, 0, 0, 0, 0, 0, 0, 0, 0, 0, 0, 0, 0, 0, 0, 0, 0, 0, 0, 0, 0], [0, 0, 0, 0, 0, 0, 0, 0, 0, 0, 0, 0, 0, 0, 0, 0, 0, 0, 0, 0, 0, 0, 0, 0, 0, 0, 0, 0], [0, 0, 0, 0, 0, 0, 0, 0, 0, 0, 0, 0, 0, 0, 0, 0, 0, 0, 0, 0, 0, 0, 0, 0, 0, 0, 0, 0]]\n"
     ]
    }
   ],
   "source": [
    "import imageio\n",
    "\n",
    "im = imageio.imread('./samples/0.png')\n",
    "print(im.shape)\n",
    "#print (im)\n",
    "b = im.tolist()\n",
    "print (b)"
   ]
  },
  {
   "cell_type": "code",
   "execution_count": 9,
   "id": "266cc033",
   "metadata": {},
   "outputs": [
    {
     "name": "stdout",
     "output_type": "stream",
     "text": [
      "(28, 28)\n",
      "[[0, 0, 0, 0, 0, 0, 0, 0, 0, 0, 0, 0, 0, 0, 0, 0, 0, 0, 0, 0, 0, 0, 0, 0, 0, 0, 0, 0], [0, 0, 0, 0, 0, 0, 0, 0, 0, 0, 0, 0, 0, 0, 0, 0, 0, 0, 0, 0, 0, 0, 0, 0, 0, 0, 0, 0], [0, 0, 0, 0, 0, 0, 0, 0, 0, 0, 0, 0, 0, 0, 0, 0, 0, 0, 0, 0, 0, 0, 0, 0, 0, 0, 0, 0], [0, 0, 0, 0, 0, 0, 0, 0, 0, 0, 0, 0, 0, 0, 0, 0, 0, 0, 0, 0, 0, 0, 0, 0, 0, 0, 0, 0], [0, 0, 0, 0, 0, 0, 0, 0, 0, 0, 0, 0, 0, 0, 0, 0, 0, 0, 0, 0, 0, 0, 0, 0, 0, 0, 0, 0], [0, 0, 0, 0, 0, 0, 0, 0, 0, 0, 0, 0, 0, 0, 23, 59, 9, 0, 0, 0, 23, 50, 89, 156, 156, 0, 0, 0], [0, 0, 0, 0, 0, 0, 0, 0, 0, 0, 0, 0, 14, 162, 229, 254, 220, 214, 214, 214, 230, 247, 253, 253, 253, 0, 0, 0], [0, 0, 0, 0, 0, 0, 0, 0, 0, 0, 0, 0, 175, 253, 253, 254, 253, 253, 253, 253, 254, 253, 253, 210, 137, 0, 0, 0], [0, 0, 0, 0, 0, 0, 0, 0, 0, 0, 0, 124, 247, 253, 237, 214, 213, 213, 71, 131, 177, 168, 87, 9, 0, 0, 0, 0], [0, 0, 0, 0, 0, 0, 0, 0, 0, 0, 61, 229, 253, 237, 58, 0, 0, 0, 0, 0, 0, 0, 0, 0, 0, 0, 0, 0], [0, 0, 0, 0, 0, 0, 0, 0, 0, 23, 255, 254, 235, 53, 0, 0, 0, 0, 0, 0, 0, 0, 0, 0, 0, 0, 0, 0], [0, 0, 0, 0, 0, 0, 0, 0, 0, 142, 254, 253, 129, 0, 0, 0, 0, 0, 0, 0, 0, 0, 0, 0, 0, 0, 0, 0], [0, 0, 0, 0, 0, 0, 0, 0, 28, 235, 254, 239, 24, 13, 18, 0, 0, 0, 0, 0, 0, 0, 0, 0, 0, 0, 0, 0], [0, 0, 0, 0, 0, 0, 0, 0, 55, 253, 254, 251, 234, 237, 238, 235, 234, 166, 84, 9, 0, 0, 0, 0, 0, 0, 0, 0], [0, 0, 0, 0, 0, 0, 0, 0, 136, 253, 254, 253, 253, 253, 253, 254, 253, 253, 253, 96, 0, 0, 0, 0, 0, 0, 0, 0], [0, 0, 0, 0, 0, 0, 0, 0, 40, 254, 255, 254, 213, 105, 98, 135, 180, 236, 254, 254, 23, 0, 0, 0, 0, 0, 0, 0], [0, 0, 0, 0, 0, 0, 0, 0, 6, 39, 39, 39, 12, 0, 0, 0, 0, 27, 237, 253, 98, 0, 0, 0, 0, 0, 0, 0], [0, 0, 0, 0, 0, 0, 0, 0, 0, 0, 0, 0, 0, 0, 0, 0, 0, 0, 166, 253, 165, 0, 0, 0, 0, 0, 0, 0], [0, 0, 0, 0, 0, 16, 0, 0, 0, 0, 0, 0, 0, 0, 0, 0, 0, 0, 151, 253, 180, 0, 0, 0, 0, 0, 0, 0], [0, 0, 0, 0, 0, 180, 30, 0, 0, 0, 0, 0, 0, 0, 0, 0, 0, 31, 241, 253, 60, 0, 0, 0, 0, 0, 0, 0], [0, 0, 0, 0, 0, 194, 158, 0, 0, 0, 0, 0, 0, 0, 0, 0, 103, 254, 254, 231, 0, 0, 0, 0, 0, 0, 0, 0], [0, 0, 0, 0, 0, 156, 242, 50, 2, 0, 0, 0, 0, 0, 0, 80, 232, 253, 250, 106, 0, 0, 0, 0, 0, 0, 0, 0], [0, 0, 0, 0, 0, 89, 253, 253, 128, 18, 0, 0, 0, 13, 153, 254, 253, 253, 146, 0, 0, 0, 0, 0, 0, 0, 0, 0], [0, 0, 0, 0, 0, 5, 149, 253, 253, 238, 175, 136, 166, 237, 253, 254, 250, 116, 9, 0, 0, 0, 0, 0, 0, 0, 0, 0], [0, 0, 0, 0, 0, 0, 5, 88, 155, 155, 155, 155, 155, 155, 155, 155, 68, 0, 0, 0, 0, 0, 0, 0, 0, 0, 0, 0], [0, 0, 0, 0, 0, 0, 0, 0, 0, 0, 0, 0, 0, 0, 0, 0, 0, 0, 0, 0, 0, 0, 0, 0, 0, 0, 0, 0], [0, 0, 0, 0, 0, 0, 0, 0, 0, 0, 0, 0, 0, 0, 0, 0, 0, 0, 0, 0, 0, 0, 0, 0, 0, 0, 0, 0], [0, 0, 0, 0, 0, 0, 0, 0, 0, 0, 0, 0, 0, 0, 0, 0, 0, 0, 0, 0, 0, 0, 0, 0, 0, 0, 0, 0]]\n"
     ]
    }
   ],
   "source": [
    "im = imageio.imread('./samples/5.png')\n",
    "print(im.shape)\n",
    "#b = list(im)\n",
    "b = im.tolist()\n",
    "print (b)"
   ]
  },
  {
   "cell_type": "markdown",
   "id": "590147aa",
   "metadata": {},
   "source": [
    "Start a dev model server to test out the service defined above"
   ]
  },
  {
   "cell_type": "code",
   "execution_count": null,
   "id": "29173871",
   "metadata": {},
   "outputs": [],
   "source": [
    "# http://127.0.0.1:3000\n",
    "#!bentoml serve service.py:svc --reload\n",
    "!bentoml serve service.py:svc"
   ]
  },
  {
   "cell_type": "markdown",
   "id": "606c1b36",
   "metadata": {},
   "source": [
    "Now you can use something like:\n",
    "\n",
    "`curl -H \"Content-Type: multipart/form-data\" -F'fileobj=@samples/0.png;type=image/png' http://127.0.0.1:3000/predict_image`\n",
    "    \n",
    "to send an image to the digit recognition service."
   ]
  },
  {
   "cell_type": "markdown",
   "id": "6372c692",
   "metadata": {},
   "source": [
    "We can also do a simple local benchmark if [locust](https://locust.io/) is installed:"
   ]
  },
  {
   "cell_type": "code",
   "execution_count": null,
   "id": "a88e9879",
   "metadata": {},
   "outputs": [],
   "source": [
    "!locust --headless -u 100 -r 1000 --run-time 10m --host http://127.0.0.1:3000"
   ]
  },
  {
   "cell_type": "markdown",
   "id": "c7f03564",
   "metadata": {},
   "source": [
    "## Build a Bento for distribution and deployment"
   ]
  },
  {
   "cell_type": "markdown",
   "id": "f51f7406",
   "metadata": {},
   "source": [
    "A `bentofile` is already created in this directory for building a Bento for the service:"
   ]
  },
  {
   "cell_type": "markdown",
   "id": "3757297b",
   "metadata": {},
   "source": [
    "```yaml\n",
    "service: \"service:svc\"\n",
    "description: \"file: ./README.md\"\n",
    "labels:\n",
    "  owner: bentoml-team\n",
    "  stage: demo\n",
    "include:\n",
    "- \"*.py\"\n",
    "exclude:\n",
    "- \"tests/\"\n",
    "python:\n",
    "  lock_packages: False\n",
    "  packages:\n",
    "    - tensorflow\n",
    "    - Pillow\n",
    "```"
   ]
  },
  {
   "cell_type": "markdown",
   "id": "2aa8e50a",
   "metadata": {},
   "source": [
    "Note that we exclude `tests/` from the bento using exclude.\n",
    "\n",
    "Simply run `bentoml build` from current directory to build a Bento with the latest version of the `tensorflow_mnist` model. This may take a while when running for the first time for BentoML to resolve all dependency versions:"
   ]
  },
  {
   "cell_type": "code",
   "execution_count": null,
   "id": "3d37b339",
   "metadata": {},
   "outputs": [],
   "source": [
    "!bentoml build"
   ]
  },
  {
   "cell_type": "markdown",
   "id": "36306933",
   "metadata": {},
   "source": [
    "Starting a dev server with the Bento build:"
   ]
  },
  {
   "cell_type": "code",
   "execution_count": null,
   "id": "ec4b9dff",
   "metadata": {},
   "outputs": [],
   "source": [
    "!bentoml serve tensorflow2_demo:latest"
   ]
  }
 ],
 "metadata": {
  "celltoolbar": "Raw Cell Format",
  "kernelspec": {
   "display_name": "mlops_env",
   "language": "python",
   "name": "mlops_env"
  },
  "language_info": {
   "codemirror_mode": {
    "name": "ipython",
    "version": 3
   },
   "file_extension": ".py",
   "mimetype": "text/x-python",
   "name": "python",
   "nbconvert_exporter": "python",
   "pygments_lexer": "ipython3",
   "version": "3.9.7"
  },
  "name": "tensorflow2_mnist_demo.ipynb"
 },
 "nbformat": 4,
 "nbformat_minor": 5
}
