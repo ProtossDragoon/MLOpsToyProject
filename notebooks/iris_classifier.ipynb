{
 "cells": [
  {
   "cell_type": "markdown",
   "id": "747e0e8d",
   "metadata": {},
   "source": [
    "# BentoML Scikit-learn Tutorial\n",
    "\n",
    "\n",
    "This is a sample project demonstrating basic usage of [BentoML](https://github.com/bentoml) with\n",
    "Scikit-learn.\n",
    "\n",
    "In this project, we will train a classifier model using Scikit-learn and the Iris dataset, build\n",
    "an prediction service for serving the trained model via an HTTP server, and containerize the \n",
    "model server as a docker image for production deployment.\n",
    "\n",
    "\n",
    "Link to source code: https://github.com/bentoml/gallery/tree/main/quickstart\n",
    "\n",
    "### Install Dependencies\n",
    "\n",
    "Install required python packages:"
   ]
  },
  {
   "cell_type": "code",
   "execution_count": 1,
   "id": "daa3cbef",
   "metadata": {},
   "outputs": [
    {
     "name": "stdout",
     "output_type": "stream",
     "text": [
      "Requirement already satisfied: scikit-learn in c:\\users\\hwang\\appdata\\roaming\\python\\python39\\site-packages (from -r https://raw.githubusercontent.com/bentoml/gallery/main/quickstart/requirements.txt (line 1)) (1.1.1)\n",
      "Requirement already satisfied: pandas in c:\\users\\hwang\\appdata\\roaming\\python\\python39\\site-packages (from -r https://raw.githubusercontent.com/bentoml/gallery/main/quickstart/requirements.txt (line 2)) (1.4.3)\n",
      "Requirement already satisfied: bentoml>=1.0.0a in c:\\users\\hwang\\appdata\\roaming\\python\\python39\\site-packages (from -r https://raw.githubusercontent.com/bentoml/gallery/main/quickstart/requirements.txt (line 3)) (1.0.0rc3)\n",
      "Requirement already satisfied: threadpoolctl>=2.0.0 in c:\\users\\hwang\\appdata\\roaming\\python\\python39\\site-packages (from scikit-learn->-r https://raw.githubusercontent.com/bentoml/gallery/main/quickstart/requirements.txt (line 1)) (3.1.0)\n",
      "Requirement already satisfied: scipy>=1.3.2 in c:\\users\\hwang\\appdata\\roaming\\python\\python39\\site-packages (from scikit-learn->-r https://raw.githubusercontent.com/bentoml/gallery/main/quickstart/requirements.txt (line 1)) (1.8.1)\n",
      "Requirement already satisfied: joblib>=1.0.0 in c:\\users\\hwang\\appdata\\roaming\\python\\python39\\site-packages (from scikit-learn->-r https://raw.githubusercontent.com/bentoml/gallery/main/quickstart/requirements.txt (line 1)) (1.1.0)\n",
      "Requirement already satisfied: numpy>=1.17.3 in c:\\users\\hwang\\appdata\\roaming\\python\\python39\\site-packages (from scikit-learn->-r https://raw.githubusercontent.com/bentoml/gallery/main/quickstart/requirements.txt (line 1)) (1.23.0)\n",
      "Requirement already satisfied: pytz>=2020.1 in c:\\users\\hwang\\appdata\\roaming\\python\\python39\\site-packages (from pandas->-r https://raw.githubusercontent.com/bentoml/gallery/main/quickstart/requirements.txt (line 2)) (2022.1)\n",
      "Requirement already satisfied: python-dateutil>=2.8.1 in c:\\users\\hwang\\appdata\\roaming\\python\\python39\\site-packages (from pandas->-r https://raw.githubusercontent.com/bentoml/gallery/main/quickstart/requirements.txt (line 2)) (2.8.2)\n",
      "Requirement already satisfied: cattrs>=1.10.0 in c:\\users\\hwang\\appdata\\roaming\\python\\python39\\site-packages (from bentoml>=1.0.0a->-r https://raw.githubusercontent.com/bentoml/gallery/main/quickstart/requirements.txt (line 3)) (22.1.0)\n",
      "Requirement already satisfied: chardet in c:\\users\\hwang\\appdata\\roaming\\python\\python39\\site-packages (from bentoml>=1.0.0a->-r https://raw.githubusercontent.com/bentoml/gallery/main/quickstart/requirements.txt (line 3)) (5.0.0)\n",
      "Requirement already satisfied: prometheus-client<0.14.0,>=0.10.0 in c:\\users\\hwang\\appdata\\roaming\\python\\python39\\site-packages (from bentoml>=1.0.0a->-r https://raw.githubusercontent.com/bentoml/gallery/main/quickstart/requirements.txt (line 3)) (0.13.1)\n",
      "Requirement already satisfied: opentelemetry-util-http==0.28b0 in c:\\users\\hwang\\appdata\\roaming\\python\\python39\\site-packages (from bentoml>=1.0.0a->-r https://raw.githubusercontent.com/bentoml/gallery/main/quickstart/requirements.txt (line 3)) (0.28b0)\n",
      "Requirement already satisfied: fs in c:\\users\\hwang\\appdata\\roaming\\python\\python39\\site-packages (from bentoml>=1.0.0a->-r https://raw.githubusercontent.com/bentoml/gallery/main/quickstart/requirements.txt (line 3)) (2.4.16)\n",
      "Requirement already satisfied: schema in c:\\users\\hwang\\appdata\\roaming\\python\\python39\\site-packages (from bentoml>=1.0.0a->-r https://raw.githubusercontent.com/bentoml/gallery/main/quickstart/requirements.txt (line 3)) (0.7.5)\n",
      "Requirement already satisfied: opentelemetry-instrumentation==0.28b0 in c:\\users\\hwang\\appdata\\roaming\\python\\python39\\site-packages (from bentoml>=1.0.0a->-r https://raw.githubusercontent.com/bentoml/gallery/main/quickstart/requirements.txt (line 3)) (0.28b0)\n",
      "Requirement already satisfied: circus in c:\\users\\hwang\\appdata\\roaming\\python\\python39\\site-packages (from bentoml>=1.0.0a->-r https://raw.githubusercontent.com/bentoml/gallery/main/quickstart/requirements.txt (line 3)) (0.17.1)\n",
      "Requirement already satisfied: opentelemetry-sdk==1.9.0 in c:\\users\\hwang\\appdata\\roaming\\python\\python39\\site-packages (from bentoml>=1.0.0a->-r https://raw.githubusercontent.com/bentoml/gallery/main/quickstart/requirements.txt (line 3)) (1.9.0)\n",
      "Requirement already satisfied: pathspec in c:\\users\\hwang\\appdata\\roaming\\python\\python39\\site-packages (from bentoml>=1.0.0a->-r https://raw.githubusercontent.com/bentoml/gallery/main/quickstart/requirements.txt (line 3)) (0.9.0)\n",
      "Requirement already satisfied: starlette in c:\\users\\hwang\\appdata\\roaming\\python\\python39\\site-packages (from bentoml>=1.0.0a->-r https://raw.githubusercontent.com/bentoml/gallery/main/quickstart/requirements.txt (line 3)) (0.20.4)\n",
      "Requirement already satisfied: typing-extensions>=4.0 in c:\\users\\hwang\\appdata\\roaming\\python\\python39\\site-packages (from bentoml>=1.0.0a->-r https://raw.githubusercontent.com/bentoml/gallery/main/quickstart/requirements.txt (line 3)) (4.3.0)\n",
      "Requirement already satisfied: packaging>=20.0 in c:\\users\\hwang\\appdata\\roaming\\python\\python39\\site-packages (from bentoml>=1.0.0a->-r https://raw.githubusercontent.com/bentoml/gallery/main/quickstart/requirements.txt (line 3)) (21.3)\n",
      "Requirement already satisfied: uvicorn in c:\\users\\hwang\\appdata\\roaming\\python\\python39\\site-packages (from bentoml>=1.0.0a->-r https://raw.githubusercontent.com/bentoml/gallery/main/quickstart/requirements.txt (line 3)) (0.18.2)\n",
      "Requirement already satisfied: requests in c:\\users\\hwang\\appdata\\roaming\\python\\python39\\site-packages (from bentoml>=1.0.0a->-r https://raw.githubusercontent.com/bentoml/gallery/main/quickstart/requirements.txt (line 3)) (2.28.1)\n",
      "Requirement already satisfied: opentelemetry-semantic-conventions==0.28b0 in c:\\users\\hwang\\appdata\\roaming\\python\\python39\\site-packages (from bentoml>=1.0.0a->-r https://raw.githubusercontent.com/bentoml/gallery/main/quickstart/requirements.txt (line 3)) (0.28b0)\n",
      "Requirement already satisfied: Jinja2>=3.0.1 in c:\\users\\hwang\\appdata\\roaming\\python\\python39\\site-packages (from bentoml>=1.0.0a->-r https://raw.githubusercontent.com/bentoml/gallery/main/quickstart/requirements.txt (line 3)) (3.1.2)\n",
      "Requirement already satisfied: pynvml<12 in c:\\users\\hwang\\appdata\\roaming\\python\\python39\\site-packages (from bentoml>=1.0.0a->-r https://raw.githubusercontent.com/bentoml/gallery/main/quickstart/requirements.txt (line 3)) (11.4.1)\n",
      "Requirement already satisfied: pip-tools>=6.6.2 in c:\\users\\hwang\\appdata\\roaming\\python\\python39\\site-packages (from bentoml>=1.0.0a->-r https://raw.githubusercontent.com/bentoml/gallery/main/quickstart/requirements.txt (line 3)) (6.8.0)\n",
      "Requirement already satisfied: opentelemetry-api==1.9.0 in c:\\users\\hwang\\appdata\\roaming\\python\\python39\\site-packages (from bentoml>=1.0.0a->-r https://raw.githubusercontent.com/bentoml/gallery/main/quickstart/requirements.txt (line 3)) (1.9.0)\n",
      "Requirement already satisfied: psutil in c:\\users\\hwang\\appdata\\roaming\\python\\python39\\site-packages (from bentoml>=1.0.0a->-r https://raw.githubusercontent.com/bentoml/gallery/main/quickstart/requirements.txt (line 3)) (5.9.0)\n",
      "Requirement already satisfied: python-json-logger in c:\\users\\hwang\\appdata\\roaming\\python\\python39\\site-packages (from bentoml>=1.0.0a->-r https://raw.githubusercontent.com/bentoml/gallery/main/quickstart/requirements.txt (line 3)) (2.0.2)\n",
      "Requirement already satisfied: PyYAML>=5.0 in c:\\users\\hwang\\appdata\\roaming\\python\\python39\\site-packages (from bentoml>=1.0.0a->-r https://raw.githubusercontent.com/bentoml/gallery/main/quickstart/requirements.txt (line 3)) (6.0)\n",
      "Requirement already satisfied: opentelemetry-instrumentation-asgi==0.28b0 in c:\\users\\hwang\\appdata\\roaming\\python\\python39\\site-packages (from bentoml>=1.0.0a->-r https://raw.githubusercontent.com/bentoml/gallery/main/quickstart/requirements.txt (line 3)) (0.28b0)\n",
      "Requirement already satisfied: opentelemetry-instrumentation-aiohttp-client==0.28b0 in c:\\users\\hwang\\appdata\\roaming\\python\\python39\\site-packages (from bentoml>=1.0.0a->-r https://raw.githubusercontent.com/bentoml/gallery/main/quickstart/requirements.txt (line 3)) (0.28b0)\n",
      "Requirement already satisfied: cloudpickle in c:\\users\\hwang\\appdata\\roaming\\python\\python39\\site-packages (from bentoml>=1.0.0a->-r https://raw.githubusercontent.com/bentoml/gallery/main/quickstart/requirements.txt (line 3)) (2.1.0)\n",
      "Requirement already satisfied: deepmerge in c:\\users\\hwang\\appdata\\roaming\\python\\python39\\site-packages (from bentoml>=1.0.0a->-r https://raw.githubusercontent.com/bentoml/gallery/main/quickstart/requirements.txt (line 3)) (1.0.1)\n",
      "Requirement already satisfied: rich>=11.2.0 in c:\\users\\hwang\\appdata\\roaming\\python\\python39\\site-packages (from bentoml>=1.0.0a->-r https://raw.githubusercontent.com/bentoml/gallery/main/quickstart/requirements.txt (line 3)) (12.4.4)\n",
      "Requirement already satisfied: simple-di>=0.1.4 in c:\\users\\hwang\\appdata\\roaming\\python\\python39\\site-packages (from bentoml>=1.0.0a->-r https://raw.githubusercontent.com/bentoml/gallery/main/quickstart/requirements.txt (line 3)) (0.1.5)\n",
      "Requirement already satisfied: python-dotenv>=0.20.0 in c:\\users\\hwang\\appdata\\roaming\\python\\python39\\site-packages (from bentoml>=1.0.0a->-r https://raw.githubusercontent.com/bentoml/gallery/main/quickstart/requirements.txt (line 3)) (0.20.0)\n",
      "Requirement already satisfied: attrs>=21.1.0 in c:\\users\\hwang\\appdata\\roaming\\python\\python39\\site-packages (from bentoml>=1.0.0a->-r https://raw.githubusercontent.com/bentoml/gallery/main/quickstart/requirements.txt (line 3)) (21.4.0)\n",
      "Requirement already satisfied: filelock in c:\\users\\hwang\\appdata\\roaming\\python\\python39\\site-packages (from bentoml>=1.0.0a->-r https://raw.githubusercontent.com/bentoml/gallery/main/quickstart/requirements.txt (line 3)) (3.7.1)\n",
      "Requirement already satisfied: aiohttp<=3.8.1 in c:\\users\\hwang\\appdata\\roaming\\python\\python39\\site-packages (from bentoml>=1.0.0a->-r https://raw.githubusercontent.com/bentoml/gallery/main/quickstart/requirements.txt (line 3)) (3.8.1)\n",
      "Requirement already satisfied: click>=7.0 in c:\\users\\hwang\\appdata\\roaming\\python\\python39\\site-packages (from bentoml>=1.0.0a->-r https://raw.githubusercontent.com/bentoml/gallery/main/quickstart/requirements.txt (line 3)) (8.1.3)\n",
      "Requirement already satisfied: python-multipart in c:\\users\\hwang\\appdata\\roaming\\python\\python39\\site-packages (from bentoml>=1.0.0a->-r https://raw.githubusercontent.com/bentoml/gallery/main/quickstart/requirements.txt (line 3)) (0.0.5)\n",
      "Requirement already satisfied: aiofiles in c:\\users\\hwang\\appdata\\roaming\\python\\python39\\site-packages (from bentoml>=1.0.0a->-r https://raw.githubusercontent.com/bentoml/gallery/main/quickstart/requirements.txt (line 3)) (0.8.0)\n",
      "Requirement already satisfied: setuptools>=16.0 in c:\\programdata\\anaconda3\\lib\\site-packages (from opentelemetry-api==1.9.0->bentoml>=1.0.0a->-r https://raw.githubusercontent.com/bentoml/gallery/main/quickstart/requirements.txt (line 3)) (58.0.4)\n",
      "Requirement already satisfied: Deprecated>=1.2.6 in c:\\users\\hwang\\appdata\\roaming\\python\\python39\\site-packages (from opentelemetry-api==1.9.0->bentoml>=1.0.0a->-r https://raw.githubusercontent.com/bentoml/gallery/main/quickstart/requirements.txt (line 3)) (1.2.13)\n",
      "Requirement already satisfied: wrapt<2.0.0,>=1.0.0 in c:\\users\\hwang\\appdata\\roaming\\python\\python39\\site-packages (from opentelemetry-instrumentation==0.28b0->bentoml>=1.0.0a->-r https://raw.githubusercontent.com/bentoml/gallery/main/quickstart/requirements.txt (line 3)) (1.14.1)\n",
      "Requirement already satisfied: asgiref~=3.0 in c:\\users\\hwang\\appdata\\roaming\\python\\python39\\site-packages (from opentelemetry-instrumentation-asgi==0.28b0->bentoml>=1.0.0a->-r https://raw.githubusercontent.com/bentoml/gallery/main/quickstart/requirements.txt (line 3)) (3.5.2)\n",
      "Requirement already satisfied: multidict<7.0,>=4.5 in c:\\users\\hwang\\appdata\\roaming\\python\\python39\\site-packages (from aiohttp<=3.8.1->bentoml>=1.0.0a->-r https://raw.githubusercontent.com/bentoml/gallery/main/quickstart/requirements.txt (line 3)) (6.0.2)\n",
      "Requirement already satisfied: async-timeout<5.0,>=4.0.0a3 in c:\\users\\hwang\\appdata\\roaming\\python\\python39\\site-packages (from aiohttp<=3.8.1->bentoml>=1.0.0a->-r https://raw.githubusercontent.com/bentoml/gallery/main/quickstart/requirements.txt (line 3)) (4.0.2)\n",
      "Requirement already satisfied: yarl<2.0,>=1.0 in c:\\users\\hwang\\appdata\\roaming\\python\\python39\\site-packages (from aiohttp<=3.8.1->bentoml>=1.0.0a->-r https://raw.githubusercontent.com/bentoml/gallery/main/quickstart/requirements.txt (line 3)) (1.7.2)\n",
      "Requirement already satisfied: frozenlist>=1.1.1 in c:\\users\\hwang\\appdata\\roaming\\python\\python39\\site-packages (from aiohttp<=3.8.1->bentoml>=1.0.0a->-r https://raw.githubusercontent.com/bentoml/gallery/main/quickstart/requirements.txt (line 3)) (1.3.0)\n",
      "Requirement already satisfied: aiosignal>=1.1.2 in c:\\users\\hwang\\appdata\\roaming\\python\\python39\\site-packages (from aiohttp<=3.8.1->bentoml>=1.0.0a->-r https://raw.githubusercontent.com/bentoml/gallery/main/quickstart/requirements.txt (line 3)) (1.2.0)\n",
      "Requirement already satisfied: charset-normalizer<3.0,>=2.0 in c:\\users\\hwang\\appdata\\roaming\\python\\python39\\site-packages (from aiohttp<=3.8.1->bentoml>=1.0.0a->-r https://raw.githubusercontent.com/bentoml/gallery/main/quickstart/requirements.txt (line 3)) (2.1.0)\n",
      "Requirement already satisfied: exceptiongroup in c:\\users\\hwang\\appdata\\roaming\\python\\python39\\site-packages (from cattrs>=1.10.0->bentoml>=1.0.0a->-r https://raw.githubusercontent.com/bentoml/gallery/main/quickstart/requirements.txt (line 3)) (1.0.0rc8)\n",
      "Requirement already satisfied: colorama in c:\\users\\hwang\\appdata\\roaming\\python\\python39\\site-packages (from click>=7.0->bentoml>=1.0.0a->-r https://raw.githubusercontent.com/bentoml/gallery/main/quickstart/requirements.txt (line 3)) (0.4.4)\n",
      "Requirement already satisfied: MarkupSafe>=2.0 in c:\\users\\hwang\\appdata\\roaming\\python\\python39\\site-packages (from Jinja2>=3.0.1->bentoml>=1.0.0a->-r https://raw.githubusercontent.com/bentoml/gallery/main/quickstart/requirements.txt (line 3)) (2.1.1)\n",
      "Requirement already satisfied: pyparsing!=3.0.5,>=2.0.2 in c:\\users\\hwang\\appdata\\roaming\\python\\python39\\site-packages (from packaging>=20.0->bentoml>=1.0.0a->-r https://raw.githubusercontent.com/bentoml/gallery/main/quickstart/requirements.txt (line 3)) (3.0.7)\n",
      "Requirement already satisfied: wheel in c:\\programdata\\anaconda3\\lib\\site-packages (from pip-tools>=6.6.2->bentoml>=1.0.0a->-r https://raw.githubusercontent.com/bentoml/gallery/main/quickstart/requirements.txt (line 3)) (0.37.0)\n",
      "Requirement already satisfied: pip>=21.2 in c:\\programdata\\anaconda3\\lib\\site-packages (from pip-tools>=6.6.2->bentoml>=1.0.0a->-r https://raw.githubusercontent.com/bentoml/gallery/main/quickstart/requirements.txt (line 3)) (21.2.4)\n",
      "Requirement already satisfied: build in c:\\users\\hwang\\appdata\\roaming\\python\\python39\\site-packages (from pip-tools>=6.6.2->bentoml>=1.0.0a->-r https://raw.githubusercontent.com/bentoml/gallery/main/quickstart/requirements.txt (line 3)) (0.8.0)\n",
      "Requirement already satisfied: six>=1.5 in c:\\programdata\\anaconda3\\lib\\site-packages (from python-dateutil>=2.8.1->pandas->-r https://raw.githubusercontent.com/bentoml/gallery/main/quickstart/requirements.txt (line 2)) (1.16.0)\n",
      "Requirement already satisfied: commonmark<0.10.0,>=0.9.0 in c:\\users\\hwang\\appdata\\roaming\\python\\python39\\site-packages (from rich>=11.2.0->bentoml>=1.0.0a->-r https://raw.githubusercontent.com/bentoml/gallery/main/quickstart/requirements.txt (line 3)) (0.9.1)\n",
      "Requirement already satisfied: pygments<3.0.0,>=2.6.0 in c:\\users\\hwang\\appdata\\roaming\\python\\python39\\site-packages (from rich>=11.2.0->bentoml>=1.0.0a->-r https://raw.githubusercontent.com/bentoml/gallery/main/quickstart/requirements.txt (line 3)) (2.11.2)\n",
      "Requirement already satisfied: idna>=2.0 in c:\\users\\hwang\\appdata\\roaming\\python\\python39\\site-packages (from yarl<2.0,>=1.0->aiohttp<=3.8.1->bentoml>=1.0.0a->-r https://raw.githubusercontent.com/bentoml/gallery/main/quickstart/requirements.txt (line 3)) (3.3)\n",
      "Requirement already satisfied: tomli>=1.0.0 in c:\\users\\hwang\\appdata\\roaming\\python\\python39\\site-packages (from build->pip-tools>=6.6.2->bentoml>=1.0.0a->-r https://raw.githubusercontent.com/bentoml/gallery/main/quickstart/requirements.txt (line 3)) (2.0.1)\n",
      "Requirement already satisfied: pep517>=0.9.1 in c:\\users\\hwang\\appdata\\roaming\\python\\python39\\site-packages (from build->pip-tools>=6.6.2->bentoml>=1.0.0a->-r https://raw.githubusercontent.com/bentoml/gallery/main/quickstart/requirements.txt (line 3)) (0.12.0)\n",
      "Requirement already satisfied: tornado>=5.0.2 in c:\\users\\hwang\\appdata\\roaming\\python\\python39\\site-packages (from circus->bentoml>=1.0.0a->-r https://raw.githubusercontent.com/bentoml/gallery/main/quickstart/requirements.txt (line 3)) (6.1)\n",
      "Requirement already satisfied: pyzmq>=17.0 in c:\\users\\hwang\\appdata\\roaming\\python\\python39\\site-packages (from circus->bentoml>=1.0.0a->-r https://raw.githubusercontent.com/bentoml/gallery/main/quickstart/requirements.txt (line 3)) (22.3.0)\n",
      "Requirement already satisfied: appdirs~=1.4.3 in c:\\users\\hwang\\appdata\\roaming\\python\\python39\\site-packages (from fs->bentoml>=1.0.0a->-r https://raw.githubusercontent.com/bentoml/gallery/main/quickstart/requirements.txt (line 3)) (1.4.4)\n",
      "Requirement already satisfied: urllib3<1.27,>=1.21.1 in c:\\users\\hwang\\appdata\\roaming\\python\\python39\\site-packages (from requests->bentoml>=1.0.0a->-r https://raw.githubusercontent.com/bentoml/gallery/main/quickstart/requirements.txt (line 3)) (1.25.11)\n",
      "Requirement already satisfied: certifi>=2017.4.17 in c:\\programdata\\anaconda3\\lib\\site-packages (from requests->bentoml>=1.0.0a->-r https://raw.githubusercontent.com/bentoml/gallery/main/quickstart/requirements.txt (line 3)) (2021.10.8)\n",
      "Requirement already satisfied: contextlib2>=0.5.5 in c:\\users\\hwang\\appdata\\roaming\\python\\python39\\site-packages (from schema->bentoml>=1.0.0a->-r https://raw.githubusercontent.com/bentoml/gallery/main/quickstart/requirements.txt (line 3)) (21.6.0)\n",
      "Requirement already satisfied: anyio<5,>=3.4.0 in c:\\users\\hwang\\appdata\\roaming\\python\\python39\\site-packages (from starlette->bentoml>=1.0.0a->-r https://raw.githubusercontent.com/bentoml/gallery/main/quickstart/requirements.txt (line 3)) (3.6.1)\n",
      "Requirement already satisfied: sniffio>=1.1 in c:\\users\\hwang\\appdata\\roaming\\python\\python39\\site-packages (from anyio<5,>=3.4.0->starlette->bentoml>=1.0.0a->-r https://raw.githubusercontent.com/bentoml/gallery/main/quickstart/requirements.txt (line 3)) (1.2.0)\n",
      "Requirement already satisfied: h11>=0.8 in c:\\users\\hwang\\appdata\\roaming\\python\\python39\\site-packages (from uvicorn->bentoml>=1.0.0a->-r https://raw.githubusercontent.com/bentoml/gallery/main/quickstart/requirements.txt (line 3)) (0.13.0)\n"
     ]
    },
    {
     "name": "stderr",
     "output_type": "stream",
     "text": [
      "WARNING: Ignoring invalid distribution -llib3 (c:\\programdata\\anaconda3\\lib\\site-packages)\n",
      "WARNING: Ignoring invalid distribution -rllib3 (c:\\programdata\\anaconda3\\lib\\site-packages)\n",
      "WARNING: Ignoring invalid distribution -llib3 (c:\\programdata\\anaconda3\\lib\\site-packages)\n",
      "WARNING: Ignoring invalid distribution - (c:\\programdata\\anaconda3\\lib\\site-packages)\n",
      "WARNING: Ignoring invalid distribution -arkupsafe (c:\\programdata\\anaconda3\\lib\\site-packages)\n",
      "WARNING: Ignoring invalid distribution -llib3 (c:\\programdata\\anaconda3\\lib\\site-packages)\n",
      "WARNING: Ignoring invalid distribution -rllib3 (c:\\programdata\\anaconda3\\lib\\site-packages)\n",
      "WARNING: Ignoring invalid distribution -llib3 (c:\\programdata\\anaconda3\\lib\\site-packages)\n",
      "WARNING: Ignoring invalid distribution - (c:\\programdata\\anaconda3\\lib\\site-packages)\n",
      "WARNING: Ignoring invalid distribution -arkupsafe (c:\\programdata\\anaconda3\\lib\\site-packages)\n",
      "WARNING: Ignoring invalid distribution -llib3 (c:\\programdata\\anaconda3\\lib\\site-packages)\n",
      "WARNING: Ignoring invalid distribution -rllib3 (c:\\programdata\\anaconda3\\lib\\site-packages)\n",
      "WARNING: Ignoring invalid distribution -llib3 (c:\\programdata\\anaconda3\\lib\\site-packages)\n",
      "WARNING: Ignoring invalid distribution - (c:\\programdata\\anaconda3\\lib\\site-packages)\n",
      "WARNING: Ignoring invalid distribution -arkupsafe (c:\\programdata\\anaconda3\\lib\\site-packages)\n",
      "WARNING: Ignoring invalid distribution -llib3 (c:\\programdata\\anaconda3\\lib\\site-packages)\n",
      "WARNING: Ignoring invalid distribution -rllib3 (c:\\programdata\\anaconda3\\lib\\site-packages)\n",
      "WARNING: Ignoring invalid distribution -llib3 (c:\\programdata\\anaconda3\\lib\\site-packages)\n",
      "WARNING: Ignoring invalid distribution - (c:\\programdata\\anaconda3\\lib\\site-packages)\n",
      "WARNING: Ignoring invalid distribution -arkupsafe (c:\\programdata\\anaconda3\\lib\\site-packages)\n",
      "WARNING: Ignoring invalid distribution -llib3 (c:\\programdata\\anaconda3\\lib\\site-packages)\n",
      "WARNING: Ignoring invalid distribution -rllib3 (c:\\programdata\\anaconda3\\lib\\site-packages)\n",
      "WARNING: Ignoring invalid distribution -llib3 (c:\\programdata\\anaconda3\\lib\\site-packages)\n",
      "WARNING: Ignoring invalid distribution - (c:\\programdata\\anaconda3\\lib\\site-packages)\n",
      "WARNING: Ignoring invalid distribution -arkupsafe (c:\\programdata\\anaconda3\\lib\\site-packages)\n",
      "WARNING: Ignoring invalid distribution -llib3 (c:\\programdata\\anaconda3\\lib\\site-packages)\n",
      "WARNING: Ignoring invalid distribution -rllib3 (c:\\programdata\\anaconda3\\lib\\site-packages)\n",
      "WARNING: Ignoring invalid distribution -llib3 (c:\\programdata\\anaconda3\\lib\\site-packages)\n",
      "WARNING: Ignoring invalid distribution - (c:\\programdata\\anaconda3\\lib\\site-packages)\n",
      "WARNING: Ignoring invalid distribution -arkupsafe (c:\\programdata\\anaconda3\\lib\\site-packages)\n"
     ]
    }
   ],
   "source": [
    "#!pip install -r https://raw.githubusercontent.com/bentoml/gallery/main/quickstart/requirements.txt   --user\n",
    "!pip install scikit-learn\n",
    "!pip install pandas\n",
    "!pip install -U bentoml  "
   ]
  },
  {
   "cell_type": "markdown",
   "id": "b66e31f7",
   "metadata": {},
   "source": [
    "##  Model Training"
   ]
  },
  {
   "cell_type": "code",
   "execution_count": 2,
   "id": "eb526488",
   "metadata": {},
   "outputs": [
    {
     "data": {
      "text/html": [
       "<style>#sk-container-id-1 {color: black;background-color: white;}#sk-container-id-1 pre{padding: 0;}#sk-container-id-1 div.sk-toggleable {background-color: white;}#sk-container-id-1 label.sk-toggleable__label {cursor: pointer;display: block;width: 100%;margin-bottom: 0;padding: 0.3em;box-sizing: border-box;text-align: center;}#sk-container-id-1 label.sk-toggleable__label-arrow:before {content: \"▸\";float: left;margin-right: 0.25em;color: #696969;}#sk-container-id-1 label.sk-toggleable__label-arrow:hover:before {color: black;}#sk-container-id-1 div.sk-estimator:hover label.sk-toggleable__label-arrow:before {color: black;}#sk-container-id-1 div.sk-toggleable__content {max-height: 0;max-width: 0;overflow: hidden;text-align: left;background-color: #f0f8ff;}#sk-container-id-1 div.sk-toggleable__content pre {margin: 0.2em;color: black;border-radius: 0.25em;background-color: #f0f8ff;}#sk-container-id-1 input.sk-toggleable__control:checked~div.sk-toggleable__content {max-height: 200px;max-width: 100%;overflow: auto;}#sk-container-id-1 input.sk-toggleable__control:checked~label.sk-toggleable__label-arrow:before {content: \"▾\";}#sk-container-id-1 div.sk-estimator input.sk-toggleable__control:checked~label.sk-toggleable__label {background-color: #d4ebff;}#sk-container-id-1 div.sk-label input.sk-toggleable__control:checked~label.sk-toggleable__label {background-color: #d4ebff;}#sk-container-id-1 input.sk-hidden--visually {border: 0;clip: rect(1px 1px 1px 1px);clip: rect(1px, 1px, 1px, 1px);height: 1px;margin: -1px;overflow: hidden;padding: 0;position: absolute;width: 1px;}#sk-container-id-1 div.sk-estimator {font-family: monospace;background-color: #f0f8ff;border: 1px dotted black;border-radius: 0.25em;box-sizing: border-box;margin-bottom: 0.5em;}#sk-container-id-1 div.sk-estimator:hover {background-color: #d4ebff;}#sk-container-id-1 div.sk-parallel-item::after {content: \"\";width: 100%;border-bottom: 1px solid gray;flex-grow: 1;}#sk-container-id-1 div.sk-label:hover label.sk-toggleable__label {background-color: #d4ebff;}#sk-container-id-1 div.sk-serial::before {content: \"\";position: absolute;border-left: 1px solid gray;box-sizing: border-box;top: 0;bottom: 0;left: 50%;z-index: 0;}#sk-container-id-1 div.sk-serial {display: flex;flex-direction: column;align-items: center;background-color: white;padding-right: 0.2em;padding-left: 0.2em;position: relative;}#sk-container-id-1 div.sk-item {position: relative;z-index: 1;}#sk-container-id-1 div.sk-parallel {display: flex;align-items: stretch;justify-content: center;background-color: white;position: relative;}#sk-container-id-1 div.sk-item::before, #sk-container-id-1 div.sk-parallel-item::before {content: \"\";position: absolute;border-left: 1px solid gray;box-sizing: border-box;top: 0;bottom: 0;left: 50%;z-index: -1;}#sk-container-id-1 div.sk-parallel-item {display: flex;flex-direction: column;z-index: 1;position: relative;background-color: white;}#sk-container-id-1 div.sk-parallel-item:first-child::after {align-self: flex-end;width: 50%;}#sk-container-id-1 div.sk-parallel-item:last-child::after {align-self: flex-start;width: 50%;}#sk-container-id-1 div.sk-parallel-item:only-child::after {width: 0;}#sk-container-id-1 div.sk-dashed-wrapped {border: 1px dashed gray;margin: 0 0.4em 0.5em 0.4em;box-sizing: border-box;padding-bottom: 0.4em;background-color: white;}#sk-container-id-1 div.sk-label label {font-family: monospace;font-weight: bold;display: inline-block;line-height: 1.2em;}#sk-container-id-1 div.sk-label-container {text-align: center;}#sk-container-id-1 div.sk-container {/* jupyter's `normalize.less` sets `[hidden] { display: none; }` but bootstrap.min.css set `[hidden] { display: none !important; }` so we also need the `!important` here to be able to override the default hidden behavior on the sphinx rendered scikit-learn.org. See: https://github.com/scikit-learn/scikit-learn/issues/21755 */display: inline-block !important;position: relative;}#sk-container-id-1 div.sk-text-repr-fallback {display: none;}</style><div id=\"sk-container-id-1\" class=\"sk-top-container\"><div class=\"sk-text-repr-fallback\"><pre>SVC()</pre><b>In a Jupyter environment, please rerun this cell to show the HTML representation or trust the notebook. <br />On GitHub, the HTML representation is unable to render, please try loading this page with nbviewer.org.</b></div><div class=\"sk-container\" hidden><div class=\"sk-item\"><div class=\"sk-estimator sk-toggleable\"><input class=\"sk-toggleable__control sk-hidden--visually\" id=\"sk-estimator-id-1\" type=\"checkbox\" checked><label for=\"sk-estimator-id-1\" class=\"sk-toggleable__label sk-toggleable__label-arrow\">SVC</label><div class=\"sk-toggleable__content\"><pre>SVC()</pre></div></div></div></div></div>"
      ],
      "text/plain": [
       "SVC()"
      ]
     },
     "execution_count": 2,
     "metadata": {},
     "output_type": "execute_result"
    }
   ],
   "source": [
    "from sklearn import svm, datasets\n",
    "\n",
    "# Load training data\n",
    "iris = datasets.load_iris()\n",
    "X, y = iris.data, iris.target\n",
    "\n",
    "# Model Training\n",
    "clf = svm.SVC()\n",
    "clf.fit(X, y)"
   ]
  },
  {
   "cell_type": "markdown",
   "id": "3c114c75",
   "metadata": {},
   "source": [
    "Save the `clf` model instance to BentoML local model store:"
   ]
  },
  {
   "cell_type": "code",
   "execution_count": 3,
   "id": "e94ed449",
   "metadata": {},
   "outputs": [
    {
     "data": {
      "text/plain": [
       "Model(tag=\"iris_clf:d57xpvqau6t6x3c4\", path=\"C:\\Users\\hwang\\bentoml\\models\\iris_clf\\d57xpvqau6t6x3c4\\\")"
      ]
     },
     "execution_count": 3,
     "metadata": {},
     "output_type": "execute_result"
    }
   ],
   "source": [
    "import bentoml\n",
    "bentoml.sklearn.save_model(\"iris_clf\", clf)"
   ]
  },
  {
   "cell_type": "markdown",
   "id": "d613e57e",
   "metadata": {},
   "source": [
    "Models saved can be accessed via `bentoml models` CLI command:"
   ]
  },
  {
   "cell_type": "code",
   "execution_count": 4,
   "id": "7d771f04",
   "metadata": {},
   "outputs": [
    {
     "name": "stdout",
     "output_type": "stream",
     "text": [
      "name: iris_clf                                                                 \n",
      "version: d57xpvqau6t6x3c4                                                      \n",
      "module: bentoml.sklearn                                                        \n",
      "labels: {}                                                                     \n",
      "options: {}                                                                    \n",
      "metadata: {}                                                                   \n",
      "context:                                                                       \n",
      "  framework_name: sklearn                                                      \n",
      "  framework_versions:                                                          \n",
      "    scikit-learn: 1.1.1                                                        \n",
      "  bentoml_version: 1.0.0rc3                                                    \n",
      "  python_version: 3.9.7                                                        \n",
      "signatures:                                                                    \n",
      "  predict:                                                                     \n",
      "    batchable: false                                                           \n",
      "api_version: v1                                                                \n",
      "creation_time: '2022-07-10T23:22:10.634931+00:00'                              \n",
      "                                                                               \n"
     ]
    }
   ],
   "source": [
    "!bentoml models get iris_clf:latest"
   ]
  },
  {
   "cell_type": "code",
   "execution_count": 1,
   "id": "5a876780",
   "metadata": {},
   "outputs": [
    {
     "name": "stdout",
     "output_type": "stream",
     "text": [
      " Tag                    Module                 Size        Creation Time       \n",
      " spam_detector:7636ah���  bentoml.picklable_mo���  426.38 KiB  2022-07-10 16:29:29 \n",
      " spam_detector:cwz2hz���  bentoml.picklable_mo���  426.38 KiB  2022-07-10 03:08:22 \n",
      " mypicklablemodel:2wt���  bentoml.picklable_mo���  426.38 KiB  2022-07-10 01:26:22 \n",
      " mypicklablemodel:oft���  bentoml.picklable_mo���  426.38 KiB  2022-07-10 01:23:34 \n",
      " iiris_clf:as5goziacc���  bentoml.picklable_mo���  426.37 KiB  2022-07-10 01:20:31 \n",
      " tensorflow_mnist:qmn���  bentoml.tensorflow     10.63 MiB   2022-07-09 02:36:49 \n",
      " tensorflow_mnist:ols���  bentoml.tensorflow     10.63 MiB   2022-07-09 02:36:22 \n",
      " agaricus:ku24bnx7jsb���  bentoml.xgboost        2.73 KiB    2022-07-09 01:59:45 \n",
      " agaricus:lz5x4d77jkl���  bentoml.xgboost        2.73 KiB    2022-07-09 01:45:41 \n",
      " iris_clf:5fjpqlp7isa���  bentoml.sklearn        5.77 KiB    2022-07-09 01:06:37 \n",
      " iris_clf:gnq6orh7iom���  bentoml.sklearn        5.77 KiB    2022-07-09 00:54:23 \n",
      " iris_clf2:d3bdoqh7ho���  bentoml.sklearn        5.77 KiB    2022-07-08 23:56:32 \n",
      " iris_clf:ecx4ls77hc2���  bentoml.sklearn        5.77 KiB    2022-07-08 23:35:07 \n",
      " iris_clf:kh3nvy74qwl���  bentoml.sklearn        5.77 KiB    2022-07-05 13:10:07 \n",
      " iris_clf:5vmudih4gcs���  bentoml.sklearn        5.77 KiB    2022-07-05 03:06:01 \n",
      " iris_clf:kanmpkp4fwp���  bentoml.sklearn        5.77 KiB    2022-07-05 02:40:08 \n",
      " iris_clf:prylms74fsl���  bentoml.sklearn        5.77 KiB    2022-07-05 02:34:13 \n",
      " iris_clf:sckamh74fcv���  bentoml.sklearn        5.77 KiB    2022-07-05 02:06:09 \n",
      " iris_clf:74p4xjp4e6q���  bentoml.sklearn        5.77 KiB    2022-07-05 02:02:05 \n",
      " iris_clf:wjslp5x4ewn���  bentoml.sklearn        5.77 KiB    2022-07-05 01:45:37 \n",
      " tensorflow_mnist:zb6���  bentoml.tensorflow     10.63 MiB   2022-07-03 01:48:37 \n",
      " tensorflow_mnist:vtc���  bentoml.tensorflow     10.63 MiB   2022-07-03 01:47:50 \n",
      " iris_clf:zwxqehx2qsj���  bentoml.sklearn        5.62 KiB    2022-07-03 00:01:23 \n",
      " iris_clf:aikzy7x2gwh���  bentoml.sklearn        5.62 KiB    2022-07-02 14:30:11 \n",
      " iris_clf:d6kvdq72fos���  bentoml.sklearn        5.62 KiB    2022-07-02 13:19:26 \n",
      " iris_clf:pigbr2p2bsk���  bentoml.sklearn        5.62 KiB    2022-07-02 09:40:03 \n",
      " iris_clf:qvvu2l7z36h���  bentoml.sklearn        5.62 KiB    2022-07-02 04:18:15 \n",
      " iris_clf:n4osd4hz36s���  bentoml.sklearn        5.62 KiB    2022-07-02 04:17:37 \n",
      " iris_clf:njgwiwhz36d���  bentoml.sklearn        5.62 KiB    2022-07-02 04:17:29 \n",
      " iris_clf:mir3s2pz36c���  bentoml.sklearn        5.62 KiB    2022-07-02 04:17:16 \n",
      " iris_clf:5gecqwxz3w6���  bentoml.sklearn        5.62 KiB    2022-07-02 04:06:44 \n",
      " iris_clf:vaf3ej7z3w4���  bentoml.sklearn        5.62 KiB    2022-07-02 04:04:54 \n",
      " iris_clf:q675qf7z3wx���  bentoml.sklearn        5.62 KiB    2022-07-02 04:04:00 \n",
      " iris_clf:fwi7vtpz3sv���  bentoml.sklearn        5.62 KiB    2022-07-02 03:54:19 \n",
      " iris_clf:46dsuj7z2ga���  bentoml.sklearn        5.62 KiB    2022-07-02 02:40:46 \n",
      " iris_clf:54b7sa7zz2z���  bentoml.sklearn        5.62 KiB    2022-07-02 02:19:31 \n",
      " iris_clf:xus6wfhzz2s���  bentoml.sklearn        5.62 KiB    2022-07-02 02:18:07 \n"
     ]
    }
   ],
   "source": [
    "!bentoml models list"
   ]
  },
  {
   "cell_type": "markdown",
   "id": "672721c4",
   "metadata": {},
   "source": [
    "To verify that the saved model can be loaded correctly:"
   ]
  },
  {
   "cell_type": "code",
   "execution_count": 5,
   "id": "28ac794b",
   "metadata": {},
   "outputs": [
    {
     "data": {
      "text/plain": [
       "array([2])"
      ]
     },
     "execution_count": 5,
     "metadata": {},
     "output_type": "execute_result"
    }
   ],
   "source": [
    "loaded_model = bentoml.sklearn.load_model(\"iris_clf:latest\")\n",
    "\n",
    "loaded_model.predict([[5.9, 3. , 5.1, 1.8]])"
   ]
  },
  {
   "cell_type": "markdown",
   "id": "8fd3bf97",
   "metadata": {},
   "source": [
    "In BentoML, the recommended way of running ML model inference in serving is via Runner, which \n",
    "gives BentoML more flexibility in terms of how to schedule the inference computation, how to \n",
    "batch inference requests and take advantage of hardware resoureces available. Saved models can\n",
    "be loaded as Runner instance as shown below:\n"
   ]
  },
  {
   "cell_type": "code",
   "execution_count": 6,
   "id": "83205567",
   "metadata": {},
   "outputs": [
    {
     "name": "stderr",
     "output_type": "stream",
     "text": [
      "'Runner.init_local' is for debugging and testing only\n"
     ]
    },
    {
     "data": {
      "text/plain": [
       "array([2])"
      ]
     },
     "execution_count": 6,
     "metadata": {},
     "output_type": "execute_result"
    }
   ],
   "source": [
    "# Create a Runner instance:\n",
    "iris_clf_runner = bentoml.sklearn.get(\"iris_clf:latest\").to_runner()\n",
    "\n",
    "# Runner#init_local initializes the model in current process, this is meant for development and testing only:\n",
    "iris_clf_runner.init_local()\n",
    "\n",
    "# This should yield the same result as the loaded model:\n",
    "iris_clf_runner.predict.run([[5.9, 3., 5.1, 1.8]])"
   ]
  },
  {
   "cell_type": "markdown",
   "id": "3fa68254",
   "metadata": {},
   "source": [
    "## Serving the model\n",
    "\n",
    "A simple BentoML Service that serves the model saved above look like this:"
   ]
  },
  {
   "cell_type": "code",
   "execution_count": 7,
   "id": "127aa3fd",
   "metadata": {
    "scrolled": true
   },
   "outputs": [
    {
     "name": "stdout",
     "output_type": "stream",
     "text": [
      "Overwriting service.py\n"
     ]
    }
   ],
   "source": [
    "%%writefile service.py\n",
    "import numpy as np\n",
    "import bentoml\n",
    "from bentoml.io import NumpyNdarray\n",
    "\n",
    "iris_clf_runner = bentoml.sklearn.get(\"iris_clf:latest\").to_runner()\n",
    "\n",
    "svc = bentoml.Service(\"iris_classifier\", runners=[iris_clf_runner])\n",
    "\n",
    "@svc.api(input=NumpyNdarray(), output=NumpyNdarray())\n",
    "def classify(input_series: np.ndarray) -> np.ndarray:\n",
    "    return iris_clf_runner.predict.run(input_series)\n"
   ]
  },
  {
   "cell_type": "markdown",
   "id": "02d985db",
   "metadata": {},
   "source": [
    "# Iris Classifier (난초 구분) 설명\n",
    "\n",
    "https://www.youtube.com/watch?v=pTjsr_0YWas\n",
    "\n",
    "1. Sepal length (cm)\n",
    "2. Sepal width (cm)\n",
    "3. Petal length (cm)\n",
    "4. petal width (cm)\n",
    "5. class --- 3 classes  Iris Setosa, Iris Versicolour, Iris Virginica\n",
    "\n",
    "예. \n",
    "## [4.9, 3 , 1.4, 0.2] --> 0 (Iris Setosa)\n",
    "## [6.1, 2.9, 4.7, 1.4] --> 1 (Iris Versicolour)\n",
    "## [5.8, 2.7, 5.1, 1.9] --> 2 (Iris Virginica)\n",
    "## [6.2, 3.4, 5.4, 2.3] --> 2 (Iris Virginica)"
   ]
  },
  {
   "cell_type": "code",
   "execution_count": 1,
   "id": "5eaeb9e9",
   "metadata": {},
   "outputs": [],
   "source": [
    "#print (iris)"
   ]
  },
  {
   "cell_type": "markdown",
   "id": "203beeed",
   "metadata": {},
   "source": [
    "Note: using `%%writefile` here because `bentoml.Service` definition must be created in its own `.py` file\n",
    "\n",
    "Start a dev model server to test out the service defined above:"
   ]
  },
  {
   "cell_type": "markdown",
   "id": "035b4a44",
   "metadata": {},
   "source": [
    "# 서빙\n",
    "Open your web browser at http://127.0.0.1:3000 to view the Bento UI for sending test requests.\n",
    "Windows OS에서는 --reload option 없이 돌려야 한다."
   ]
  },
  {
   "cell_type": "code",
   "execution_count": null,
   "id": "7523b58f",
   "metadata": {},
   "outputs": [],
   "source": [
    "#!bentoml serve service.py:svc --reload\n",
    "!bentoml serve service.py:svc\n",
    "    \n",
    "# 참고로, AWS에서는 host 를 써준다. 여기서 Host는 AWS의 EC2의 프라이빗 IPv4 주소\n",
    "#!bentoml serve nb_service.py:svc --host 172.31.90.78"
   ]
  },
  {
   "cell_type": "markdown",
   "id": "3974e4ce",
   "metadata": {},
   "source": [
    "\n",
    "웹 브라우저 사용해서 확인할 수 있다. http://127.0.0.1:3000 (AWS EC2를 외부 브라우저로 접속할 경우, 퍼블릭 IPv4 주소를 127.0.0.1 대신 사용한다)로 연결해서 녹색으로 된 app POST 섹션을 클릭한다. \"Try it out\" 클릭한 후에 값 부분을 원하는 [5.9, 3, 5.1, 1.8] 으로 넣고, execute 를 하면 된다.\n",
    "\n",
    "AWS EC2 에서 serving 할 때, 이를 외부에서 확인하기 위해서는, 3000 번 port 를 보안탭에서 inbound 규칙에 추가한다. 포트 범위: 3000 프로토콜: TCP 원본: 0.0.0.0/0\n",
    "\n",
    "You may also send request with `curl` command or any HTTP client, e.g.:\n",
    "\n",
    "```bash\n",
    "curl -X POST -H \"content-type: application/json\" --data \"[[5.9, 3, 5.1, 1.8]]\" http://127.0.0.1:3000/classify\n",
    "```\n"
   ]
  },
  {
   "cell_type": "markdown",
   "id": "4f1a8bcc",
   "metadata": {},
   "source": [
    "### Build Bento for deployment"
   ]
  },
  {
   "cell_type": "markdown",
   "id": "d6192cd5",
   "metadata": {},
   "source": [
    "Bento is the distribution format in BentoML which captures all the source code, model files, config\n",
    "files and dependency specifications required for running the service for production deployment. Think \n",
    "of it as Docker/Container designed for machine learning models.\n",
    "\n",
    "To begin with building Bento, create a `bentofile.yaml` under your project directory:"
   ]
  },
  {
   "cell_type": "code",
   "execution_count": 8,
   "id": "6458e417",
   "metadata": {},
   "outputs": [
    {
     "name": "stdout",
     "output_type": "stream",
     "text": [
      "Overwriting bentofile.yaml\n"
     ]
    }
   ],
   "source": [
    "%%writefile bentofile.yaml\n",
    "service: \"service.py:svc\"\n",
    "labels:\n",
    "  owner: bentoml-team\n",
    "  project: gallery\n",
    "include:\n",
    "- \"*.py\"\n",
    "python:\n",
    "  packages:\n",
    "    - scikit-learn\n",
    "    - pandas"
   ]
  },
  {
   "cell_type": "markdown",
   "id": "47505e3c",
   "metadata": {},
   "source": [
    "Next, run `bentoml build` from current directory to start the Bento build:"
   ]
  },
  {
   "cell_type": "code",
   "execution_count": 9,
   "id": "b7cab8b2",
   "metadata": {},
   "outputs": [
    {
     "name": "stdout",
     "output_type": "stream",
     "text": [
      "Building BentoML service \"iris_classifier:hp2yqraau6ghb3c4\" from build context \"C:\\Users\\hwang\\OneDrive\\Documents\\GitHub\\MLOpsToyProject\\notebooks\"\n",
      "Packing model \"iris_clf:d57xpvqau6t6x3c4\"\n",
      "Locking PyPI package versions..\n",
      "\n",
      "�뻽�뻽�뻽�뻽�뻽�뻽�븮�뼇�뻽�뻽�뻽�뻽�뻽�뻽�뻽�븮�뻽�뻽�뻽�븮�뼇�뼇�뻽�뻽�븮�뻽�뻽�뻽�뻽�뻽�뻽�뻽�뻽�븮�뼇�뻽�뻽�뻽�뻽�뻽�븮�뼇�뻽�뻽�뻽�븮�뼇�뼇�뼇�뻽�뻽�뻽�븮�뻽�뻽�븮�뼇�뼇�뼇�뼇�뼇\n",
      "�뻽�뻽�븫�븧�븧�뻽�뻽�븮�뻽�뻽�븫�븧�븧�븧�븧�븴�뻽�뻽�뻽�뻽�븮�뼇�뻽�뻽�븨�븱�븧�븧�뻽�뻽�븫�븧�븧�븴�뻽�뻽�븫�븧�븧�뻽�뻽�븮�뻽�뻽�뻽�뻽�븮�뼇�뻽�뻽�뻽�뻽�븨�뻽�뻽�븨�뼇�뼇�뼇�뼇�뼇\n",
      "�뻽�뻽�뻽�뻽�뻽�뻽�븽�븴�뻽�뻽�뻽�뻽�뻽�븮�뼇�뼇�뻽�뻽�븫�뻽�뻽�븮�뻽�뻽�븨�뼇�뼇�뼇�뻽�뻽�븨�뼇�뼇�뼇�뻽�뻽�븨�뼇�뼇�뻽�뻽�븨�뻽�뻽�븫�뻽�뻽�뻽�뻽�븫�뻽�뻽�븨�뻽�뻽�븨�뼇�뼇�뼇�뼇�뼇\n",
      "�뻽�뻽�븫�븧�븧�뻽�뻽�븮�뻽�뻽�븫�븧�븧�븴�뼇�뼇�뻽�뻽�븨�븱�뻽�뻽�뻽�뻽�븨�뼇�뼇�뼇�뻽�뻽�븨�뼇�뼇�뼇�뻽�뻽�븨�뼇�뼇�뻽�뻽�븨�뻽�뻽�븨�븱�뻽�뻽�븫�븴�뻽�뻽�븨�뻽�뻽�븨�뼇�뼇�뼇�뼇�뼇\n",
      "�뻽�뻽�뻽�뻽�뻽�뻽�븽�븴�뻽�뻽�뻽�뻽�뻽�뻽�뻽�븮�뻽�뻽�븨�뼇�븱�뻽�뻽�뻽�븨�뼇�뼇�뼇�뻽�뻽�븨�뼇�뼇�뼇�븱�뻽�뻽�뻽�뻽�뻽�븫�븴�뻽�뻽�븨�뼇�븱�븧�븴�뼇�뻽�뻽�븨�뻽�뻽�뻽�뻽�뻽�뻽�뻽�븮\n",
      "�븱�븧�븧�븧�븧�븧�븴�뼇�븱�븧�븧�븧�븧�븧�븧�븴�븱�븧�븴�뼇�뼇�븱�븧�븧�븴�뼇�뼇�뼇�븱�븧�븴�뼇�뼇�뼇�뼇�븱�븧�븧�븧�븧�븴�뼇�븱�븧�븴�뼇�뼇�뼇�뼇�뼇�븱�븧�븴�븱�븧�븧�븧�븧�븧�븧�븴\n",
      "\n",
      "Successfully built Bento(tag=\"iris_classifier:hp2yqraau6ghb3c4\")\n"
     ]
    },
    {
     "name": "stderr",
     "output_type": "stream",
     "text": [
      "WARNING:pip._internal.metadata.base:Ignoring invalid distribution -llib3 (c:\\programdata\\anaconda3\\lib\\site-packages)\n",
      "WARNING:pip._internal.metadata.base:Ignoring invalid distribution -rllib3 (c:\\programdata\\anaconda3\\lib\\site-packages)\n",
      "WARNING:pip._internal.metadata.base:Ignoring invalid distribution -llib3 (c:\\programdata\\anaconda3\\lib\\site-packages)\n",
      "WARNING:pip._internal.metadata.base:Ignoring invalid distribution - (c:\\programdata\\anaconda3\\lib\\site-packages)\n",
      "WARNING:pip._internal.metadata.base:Ignoring invalid distribution -arkupsafe (c:\\programdata\\anaconda3\\lib\\site-packages)\n"
     ]
    }
   ],
   "source": [
    "!bentoml build"
   ]
  },
  {
   "cell_type": "code",
   "execution_count": 10,
   "id": "571da8ae",
   "metadata": {},
   "outputs": [
    {
     "name": "stdout",
     "output_type": "stream",
     "text": [
      "Building docker image for Bento(tag=\"iris_classifier:hp2yqraau6ghb3c4\")...\n",
      "Successfully built docker image \"iris_classifier:hp2yqraau6ghb3c4\"\n"
     ]
    },
    {
     "name": "stderr",
     "output_type": "stream",
     "text": [
      "#1 [internal] load build definition from Dockerfile\n",
      "#1 transferring dockerfile: 2.19kB done\n",
      "#1 DONE 0.1s\n",
      "\n",
      "#2 [internal] load .dockerignore\n",
      "#2 transferring context: 2B done\n",
      "#2 DONE 0.1s\n",
      "\n",
      "#3 resolve image config for docker.io/docker/dockerfile:1.4-labs\n",
      "#3 DONE 0.6s\n",
      "\n",
      "#4 docker-image://docker.io/docker/dockerfile:1.4-labs@sha256:b50ad4af81d1c76ab7c0e1ffc216909e7adc23e99910243e1c88331c2a8ef52d\n",
      "#4 CACHED\n",
      "\n",
      "#5 [internal] load build definition from Dockerfile\n",
      "#5 DONE 0.0s\n",
      "\n",
      "#6 [internal] load .dockerignore\n",
      "#6 DONE 0.0s\n",
      "\n",
      "#7 [internal] load metadata for docker.io/library/python:3.9-slim\n",
      "#7 DONE 0.4s\n",
      "\n",
      "#8 [cached 1/1] FROM docker.io/library/python:3.9-slim@sha256:c01a2db78654c1923da84aa41b829f6162011e3a75db255c24ea16fa2ad563a0\n",
      "#8 DONE 0.0s\n",
      "\n",
      "#9 [internal] load build context\n",
      "#9 transferring context: 15.86kB done\n",
      "#9 DONE 0.1s\n",
      "\n",
      "#10 [stage-1  3/11] RUN --mount=type=cache,from=cached,sharing=shared,target=/var/cache/apt     --mount=type=cache,from=cached,sharing=shared,target=/var/lib/apt \tapt-get update -y     && apt-get install -q -y --no-install-recommends --allow-remove-essential \t\tca-certificates gnupg2 bash build-essential     && apt-get clean\n",
      "#10 CACHED\n",
      "\n",
      "#11 [stage-1  6/11] RUN mkdir /home/bentoml/bento && chown bentoml:bentoml /home/bentoml/bento -R\n",
      "#11 CACHED\n",
      "\n",
      "#12 [stage-1  5/11] RUN groupadd -g 1034 -o bentoml && useradd -m -u 1034 -g 1034 -o -r bentoml\n",
      "#12 CACHED\n",
      "\n",
      "#13 [stage-1  4/11] RUN rm -rf /var/lib/{apt,cache,log}\n",
      "#13 CACHED\n",
      "\n",
      "#14 [stage-1  2/11] RUN rm -f /etc/apt/apt.conf.d/docker-clean; echo 'Binary::apt::APT::Keep-Downloaded-Packages \"true\";' > /etc/apt/apt.conf.d/keep-cache\n",
      "#14 CACHED\n",
      "\n",
      "#15 [stage-1  7/11] WORKDIR /home/bentoml/bento\n",
      "#15 CACHED\n",
      "\n",
      "#16 [internal] settings cache mount permissions\n",
      "#16 CACHED\n",
      "\n",
      "#17 [stage-1  8/11] COPY --chown=bentoml:bentoml . ./\n",
      "#17 DONE 0.1s\n",
      "\n",
      "#18 [stage-1  9/11] RUN --mount=type=cache,mode=0777,target=/root/.cache/pip     chmod +x /home/bentoml/bento/env/python/install.sh &&     bash /home/bentoml/bento/env/python/install.sh\n",
      "#18 0.414 +++ dirname -- /home/bentoml/bento/env/python/install.sh\n",
      "#18 0.414 ++ cd -- /home/bentoml/bento/env/python\n",
      "#18 0.414 ++ pwd\n",
      "#18 0.415 + BASEDIR=/home/bentoml/bento/env/python\n",
      "#18 0.415 + PIP_ARGS=(--no-warn-script-location)\n",
      "#18 0.415 Installing pip packages from 'requirements.lock.txt'..\n",
      "#18 0.415 + REQUIREMENTS_TXT=/home/bentoml/bento/env/python/requirements.txt\n",
      "#18 0.415 + REQUIREMENTS_LOCK=/home/bentoml/bento/env/python/requirements.lock.txt\n",
      "#18 0.415 + WHEELS_DIR=/home/bentoml/bento/env/python/wheels\n",
      "#18 0.415 + BENTOML_VERSION=1.0.0rc3\n",
      "#18 0.415 + '[' -f /home/bentoml/bento/env/python/requirements.lock.txt ']'\n",
      "#18 0.415 + echo 'Installing pip packages from '\\''requirements.lock.txt'\\''..'\n",
      "#18 0.415 + pip install -r /home/bentoml/bento/env/python/requirements.lock.txt --no-warn-script-location\n",
      "#18 2.035 Collecting joblib==1.1.0\n",
      "#18 2.039   Using cached joblib-1.1.0-py2.py3-none-any.whl (306 kB)\n",
      "#18 2.485 Collecting numpy==1.23.1\n",
      "#18 2.510   Using cached numpy-1.23.1-cp39-cp39-manylinux_2_17_x86_64.manylinux2014_x86_64.whl (17.1 MB)\n",
      "#18 2.828 Collecting pandas==1.4.3\n",
      "#18 2.843   Using cached pandas-1.4.3-cp39-cp39-manylinux_2_17_x86_64.manylinux2014_x86_64.whl (11.7 MB)\n",
      "#18 2.948 Collecting python-dateutil==2.8.2\n",
      "#18 2.950   Using cached python_dateutil-2.8.2-py2.py3-none-any.whl (247 kB)\n",
      "#18 3.052 Collecting pytz==2022.1\n",
      "#18 3.055   Using cached pytz-2022.1-py2.py3-none-any.whl (503 kB)\n",
      "#18 3.283 Collecting scikit-learn==1.1.1\n",
      "#18 3.365   Using cached scikit_learn-1.1.1-cp39-cp39-manylinux_2_17_x86_64.manylinux2014_x86_64.whl (30.8 MB)\n",
      "#18 3.832 Collecting scipy==1.8.1\n",
      "#18 3.950   Using cached scipy-1.8.1-cp39-cp39-manylinux_2_17_x86_64.manylinux2014_x86_64.whl (42.2 MB)\n",
      "#18 4.181 Collecting six==1.16.0\n",
      "#18 4.183   Using cached six-1.16.0-py2.py3-none-any.whl (11 kB)\n",
      "#18 4.226 Collecting threadpoolctl==3.1.0\n",
      "#18 4.229   Using cached threadpoolctl-3.1.0-py3-none-any.whl (14 kB)\n",
      "#18 4.473 Installing collected packages: pytz, threadpoolctl, six, numpy, joblib, scipy, python-dateutil, scikit-learn, pandas\n",
      "#18 14.69 Successfully installed joblib-1.1.0 numpy-1.23.1 pandas-1.4.3 python-dateutil-2.8.2 pytz-2022.1 scikit-learn-1.1.1 scipy-1.8.1 six-1.16.0 threadpoolctl-3.1.0\n",
      "#18 14.69 WARNING: Running pip as the 'root' user can result in broken permissions and conflicting behaviour with the system package manager. It is recommended to use a virtual environment instead: https://pip.pypa.io/warnings/venv\n",
      "#18 14.69 WARNING: You are using pip version 22.0.4; however, version 22.1.2 is available.\n",
      "#18 14.69 You should consider upgrading via the '/usr/local/bin/python -m pip install --upgrade pip' command.\n",
      "#18 14.80 + '[' -d /home/bentoml/bento/env/python/wheels ']'\n",
      "#18 14.80 + python -c 'import bentoml'\n",
      "#18 14.82 + pip install bentoml==1.0.0rc3\n",
      "#18 15.85 Collecting bentoml==1.0.0rc3\n",
      "#18 15.86   Using cached bentoml-1.0.0rc3-py3-none-any.whl (767 kB)\n",
      "#18 15.94 Collecting circus\n",
      "#18 15.94   Using cached circus-0.17.1-py3-none-any.whl (182 kB)\n",
      "#18 15.99 Collecting opentelemetry-util-http==0.28b0\n",
      "#18 16.00   Using cached opentelemetry_util_http-0.28b0-py3-none-any.whl (6.1 kB)\n",
      "#18 16.19 Collecting psutil\n",
      "#18 16.19   Using cached psutil-5.9.1-cp39-cp39-manylinux_2_12_x86_64.manylinux2010_x86_64.manylinux_2_17_x86_64.manylinux2014_x86_64.whl (281 kB)\n",
      "#18 16.26 Collecting prometheus-client<0.14.0,>=0.10.0\n",
      "#18 16.26   Using cached prometheus_client-0.13.1-py3-none-any.whl (57 kB)\n",
      "#18 16.26 Requirement already satisfied: numpy in /usr/local/lib/python3.9/site-packages (from bentoml==1.0.0rc3) (1.23.1)\n",
      "#18 16.30 Collecting typing-extensions>=4.0\n",
      "#18 16.30   Using cached typing_extensions-4.3.0-py3-none-any.whl (25 kB)\n",
      "#18 16.36 Collecting opentelemetry-api==1.9.0\n",
      "#18 16.36   Using cached opentelemetry_api-1.9.0-py3-none-any.whl (47 kB)\n",
      "#18 16.45 Collecting requests\n",
      "#18 16.45   Using cached requests-2.28.1-py3-none-any.whl (62 kB)\n",
      "#18 16.50 Collecting chardet\n",
      "#18 16.50   Using cached chardet-5.0.0-py3-none-any.whl (193 kB)\n",
      "#18 16.57 Collecting starlette\n",
      "#18 16.57   Using cached starlette-0.20.4-py3-none-any.whl (63 kB)\n",
      "#18 16.62 Collecting cattrs>=1.10.0\n",
      "#18 16.62   Using cached cattrs-22.1.0-py3-none-any.whl (33 kB)\n",
      "#18 16.67 Collecting deepmerge\n",
      "#18 16.67   Using cached deepmerge-1.0.1-py3-none-any.whl (8.0 kB)\n",
      "#18 16.75 Collecting packaging>=20.0\n",
      "#18 16.75   Using cached packaging-21.3-py3-none-any.whl (40 kB)\n",
      "#18 16.82 Collecting uvicorn\n",
      "#18 16.82   Using cached uvicorn-0.18.2-py3-none-any.whl (57 kB)\n",
      "#18 16.87 Collecting pynvml<12\n",
      "#18 16.87   Using cached pynvml-11.4.1-py3-none-any.whl (46 kB)\n",
      "#18 16.93 Collecting python-multipart\n",
      "#18 16.93   Using cached python_multipart-0.0.5-py3-none-any.whl\n",
      "#18 16.98 Collecting simple-di>=0.1.4\n",
      "#18 16.98   Using cached simple_di-0.1.5-py3-none-any.whl (9.8 kB)\n",
      "#18 17.04 Collecting opentelemetry-instrumentation-asgi==0.28b0\n",
      "#18 17.04   Using cached opentelemetry_instrumentation_asgi-0.28b0-py3-none-any.whl (7.5 kB)\n",
      "#18 17.08 Collecting python-json-logger\n",
      "#18 17.09   Using cached python_json_logger-2.0.3-py3-none-any.whl (7.8 kB)\n",
      "#18 17.09 Requirement already satisfied: python-dateutil in /usr/local/lib/python3.9/site-packages (from bentoml==1.0.0rc3) (2.8.2)\n",
      "#18 17.15 Collecting opentelemetry-instrumentation==0.28b0\n",
      "#18 17.15   Using cached opentelemetry_instrumentation-0.28b0-py3-none-any.whl (22 kB)\n",
      "#18 17.20 Collecting aiofiles\n",
      "#18 17.20   Using cached aiofiles-0.8.0-py3-none-any.whl (13 kB)\n",
      "#18 17.31 Collecting PyYAML>=5.0\n",
      "#18 17.31   Using cached PyYAML-6.0-cp39-cp39-manylinux_2_5_x86_64.manylinux1_x86_64.manylinux_2_12_x86_64.manylinux2010_x86_64.whl (661 kB)\n",
      "#18 17.37 Collecting opentelemetry-instrumentation-aiohttp-client==0.28b0\n",
      "#18 17.37   Using cached opentelemetry_instrumentation_aiohttp_client-0.28b0-py3-none-any.whl (11 kB)\n",
      "#18 17.42 Collecting schema\n",
      "#18 17.42   Using cached schema-0.7.5-py2.py3-none-any.whl (17 kB)\n",
      "#18 17.49 Collecting filelock\n",
      "#18 17.50   Using cached filelock-3.7.1-py3-none-any.whl (10 kB)\n",
      "#18 17.97 Collecting aiohttp<=3.8.1\n",
      "#18 17.97   Using cached aiohttp-3.8.1-cp39-cp39-manylinux_2_5_x86_64.manylinux1_x86_64.manylinux_2_12_x86_64.manylinux2010_x86_64.whl (1.2 MB)\n",
      "#18 18.03 Collecting cloudpickle\n",
      "#18 18.03   Using cached cloudpickle-2.1.0-py3-none-any.whl (25 kB)\n",
      "#18 18.09 Collecting python-dotenv>=0.20.0\n",
      "#18 18.09   Using cached python_dotenv-0.20.0-py3-none-any.whl (17 kB)\n",
      "#18 18.15 Collecting click>=7.0\n",
      "#18 18.16   Using cached click-8.1.3-py3-none-any.whl (96 kB)\n",
      "#18 18.21 Collecting Jinja2>=3.0.1\n",
      "#18 18.22   Using cached Jinja2-3.1.2-py3-none-any.whl (133 kB)\n",
      "#18 18.28 Collecting pathspec\n",
      "#18 18.28   Using cached pathspec-0.9.0-py2.py3-none-any.whl (31 kB)\n",
      "#18 18.44 Collecting rich>=11.2.0\n",
      "#18 18.44   Using cached rich-12.4.4-py3-none-any.whl (232 kB)\n",
      "#18 18.51 Collecting opentelemetry-sdk==1.9.0\n",
      "#18 18.52   Using cached opentelemetry_sdk-1.9.0-py3-none-any.whl (64 kB)\n",
      "#18 18.58 Collecting fs\n",
      "#18 18.59   Using cached fs-2.4.16-py2.py3-none-any.whl (135 kB)\n",
      "#18 18.69 Collecting pip-tools>=6.6.2\n",
      "#18 18.70   Using cached pip_tools-6.8.0-py3-none-any.whl (51 kB)\n",
      "#18 18.75 Collecting attrs>=21.1.0\n",
      "#18 18.75   Using cached attrs-21.4.0-py2.py3-none-any.whl (60 kB)\n",
      "#18 18.80 Collecting opentelemetry-semantic-conventions==0.28b0\n",
      "#18 18.80   Using cached opentelemetry_semantic_conventions-0.28b0-py3-none-any.whl (23 kB)\n",
      "#18 18.81 Requirement already satisfied: setuptools>=16.0 in /usr/local/lib/python3.9/site-packages (from opentelemetry-api==1.9.0->bentoml==1.0.0rc3) (58.1.0)\n",
      "#18 18.86 Collecting Deprecated>=1.2.6\n",
      "#18 18.87   Using cached Deprecated-1.2.13-py2.py3-none-any.whl (9.6 kB)\n",
      "#18 19.05 Collecting wrapt<2.0.0,>=1.0.0\n",
      "#18 19.06   Using cached wrapt-1.14.1-cp39-cp39-manylinux_2_5_x86_64.manylinux1_x86_64.manylinux_2_17_x86_64.manylinux2014_x86_64.whl (77 kB)\n",
      "#18 19.14 Collecting asgiref~=3.0\n",
      "#18 19.15   Using cached asgiref-3.5.2-py3-none-any.whl (22 kB)\n",
      "#18 19.23 Collecting aiosignal>=1.1.2\n",
      "#18 19.23   Using cached aiosignal-1.2.0-py3-none-any.whl (8.2 kB)\n",
      "#18 19.28 Collecting async-timeout<5.0,>=4.0.0a3\n",
      "#18 19.28   Using cached async_timeout-4.0.2-py3-none-any.whl (5.8 kB)\n",
      "#18 19.52 Collecting yarl<2.0,>=1.0\n",
      "#18 19.53   Using cached yarl-1.7.2-cp39-cp39-manylinux_2_5_x86_64.manylinux1_x86_64.manylinux_2_12_x86_64.manylinux2010_x86_64.whl (304 kB)\n",
      "#18 19.61 Collecting charset-normalizer<3.0,>=2.0\n",
      "#18 19.61   Using cached charset_normalizer-2.1.0-py3-none-any.whl (39 kB)\n",
      "#18 20.05 Collecting multidict<7.0,>=4.5\n",
      "#18 20.05   Using cached multidict-6.0.2-cp39-cp39-manylinux_2_17_x86_64.manylinux2014_x86_64.whl (114 kB)\n",
      "#18 20.16 Collecting frozenlist>=1.1.1\n",
      "#18 20.16   Using cached frozenlist-1.3.0-cp39-cp39-manylinux_2_5_x86_64.manylinux1_x86_64.manylinux_2_17_x86_64.manylinux2014_x86_64.whl (156 kB)\n",
      "#18 20.25 Collecting exceptiongroup\n",
      "#18 20.25   Using cached exceptiongroup-1.0.0rc8-py3-none-any.whl (11 kB)\n",
      "#18 20.39 Collecting MarkupSafe>=2.0\n",
      "#18 20.39   Using cached MarkupSafe-2.1.1-cp39-cp39-manylinux_2_17_x86_64.manylinux2014_x86_64.whl (25 kB)\n",
      "#18 20.48 Collecting pyparsing!=3.0.5,>=2.0.2\n",
      "#18 20.48   Using cached pyparsing-3.0.9-py3-none-any.whl (98 kB)\n",
      "#18 20.55 Collecting build\n",
      "#18 20.55   Using cached build-0.8.0-py3-none-any.whl (17 kB)\n",
      "#18 20.55 Requirement already satisfied: pip>=21.2 in /usr/local/lib/python3.9/site-packages (from pip-tools>=6.6.2->bentoml==1.0.0rc3) (22.0.4)\n",
      "#18 20.55 Requirement already satisfied: wheel in /usr/local/lib/python3.9/site-packages (from pip-tools>=6.6.2->bentoml==1.0.0rc3) (0.37.1)\n",
      "#18 20.65 Collecting pygments<3.0.0,>=2.6.0\n",
      "#18 20.65   Using cached Pygments-2.12.0-py3-none-any.whl (1.1 MB)\n",
      "#18 20.71 Collecting commonmark<0.10.0,>=0.9.0\n",
      "#18 20.71   Using cached commonmark-0.9.1-py2.py3-none-any.whl (51 kB)\n",
      "#18 20.86 Collecting tornado>=5.0.2\n",
      "#18 20.86   Using cached tornado-6.2-cp37-abi3-manylinux_2_5_x86_64.manylinux1_x86_64.manylinux_2_17_x86_64.manylinux2014_x86_64.whl (423 kB)\n",
      "#18 21.21 Collecting pyzmq>=17.0\n",
      "#18 21.22   Using cached pyzmq-23.2.0-cp39-cp39-manylinux_2_12_x86_64.manylinux2010_x86_64.whl (1.1 MB)\n",
      "#18 21.32 Collecting appdirs~=1.4.3\n",
      "#18 21.33   Using cached appdirs-1.4.4-py2.py3-none-any.whl (9.6 kB)\n",
      "#18 21.33 Requirement already satisfied: six~=1.10 in /usr/local/lib/python3.9/site-packages (from fs->bentoml==1.0.0rc3) (1.16.0)\n",
      "#18 21.46 Collecting urllib3<1.27,>=1.21.1\n",
      "#18 21.46   Using cached urllib3-1.26.10-py2.py3-none-any.whl (139 kB)\n",
      "#18 21.52 Collecting certifi>=2017.4.17\n",
      "#18 21.52   Using cached certifi-2022.6.15-py3-none-any.whl (160 kB)\n",
      "#18 21.56 Collecting idna<4,>=2.5\n",
      "#18 21.56   Using cached idna-3.3-py3-none-any.whl (61 kB)\n",
      "#18 21.63 Collecting contextlib2>=0.5.5\n",
      "#18 21.63   Using cached contextlib2-21.6.0-py2.py3-none-any.whl (13 kB)\n",
      "#18 21.71 Collecting anyio<5,>=3.4.0\n",
      "#18 21.71   Using cached anyio-3.6.1-py3-none-any.whl (80 kB)\n",
      "#18 21.78 Collecting h11>=0.8\n",
      "#18 21.78   Using cached h11-0.13.0-py3-none-any.whl (58 kB)\n",
      "#18 21.86 Collecting sniffio>=1.1\n",
      "#18 21.86   Using cached sniffio-1.2.0-py3-none-any.whl (10 kB)\n",
      "#18 22.23 Collecting pep517>=0.9.1\n",
      "#18 22.24   Using cached pep517-0.12.0-py2.py3-none-any.whl (19 kB)\n",
      "#18 22.29 Collecting tomli>=1.0.0\n",
      "#18 22.29   Using cached tomli-2.0.1-py3-none-any.whl (12 kB)\n",
      "#18 22.76 Installing collected packages: deepmerge, commonmark, appdirs, wrapt, urllib3, typing-extensions, tornado, tomli, sniffio, simple-di, pyzmq, PyYAML, python-multipart, python-json-logger, python-dotenv, pyparsing, pynvml, pygments, psutil, prometheus-client, pathspec, opentelemetry-util-http, opentelemetry-semantic-conventions, multidict, MarkupSafe, idna, h11, fs, frozenlist, filelock, exceptiongroup, contextlib2, cloudpickle, click, charset-normalizer, chardet, certifi, attrs, async-timeout, asgiref, aiofiles, yarl, uvicorn, schema, rich, requests, pep517, packaging, Jinja2, Deprecated, circus, cattrs, anyio, aiosignal, starlette, opentelemetry-api, build, aiohttp, pip-tools, opentelemetry-sdk, opentelemetry-instrumentation, opentelemetry-instrumentation-asgi, opentelemetry-instrumentation-aiohttp-client, bentoml\n",
      "#18 27.20 Successfully installed Deprecated-1.2.13 Jinja2-3.1.2 MarkupSafe-2.1.1 PyYAML-6.0 aiofiles-0.8.0 aiohttp-3.8.1 aiosignal-1.2.0 anyio-3.6.1 appdirs-1.4.4 asgiref-3.5.2 async-timeout-4.0.2 attrs-21.4.0 bentoml-1.0.0rc3 build-0.8.0 cattrs-22.1.0 certifi-2022.6.15 chardet-5.0.0 charset-normalizer-2.1.0 circus-0.17.1 click-8.1.3 cloudpickle-2.1.0 commonmark-0.9.1 contextlib2-21.6.0 deepmerge-1.0.1 exceptiongroup-1.0.0rc8 filelock-3.7.1 frozenlist-1.3.0 fs-2.4.16 h11-0.13.0 idna-3.3 multidict-6.0.2 opentelemetry-api-1.9.0 opentelemetry-instrumentation-0.28b0 opentelemetry-instrumentation-aiohttp-client-0.28b0 opentelemetry-instrumentation-asgi-0.28b0 opentelemetry-sdk-1.9.0 opentelemetry-semantic-conventions-0.28b0 opentelemetry-util-http-0.28b0 packaging-21.3 pathspec-0.9.0 pep517-0.12.0 pip-tools-6.8.0 prometheus-client-0.13.1 psutil-5.9.1 pygments-2.12.0 pynvml-11.4.1 pyparsing-3.0.9 python-dotenv-0.20.0 python-json-logger-2.0.3 python-multipart-0.0.5 pyzmq-23.2.0 requests-2.28.1 rich-12.4.4 schema-0.7.5 simple-di-0.1.5 sniffio-1.2.0 starlette-0.20.4 tomli-2.0.1 tornado-6.2 typing-extensions-4.3.0 urllib3-1.26.10 uvicorn-0.18.2 wrapt-1.14.1 yarl-1.7.2\n",
      "#18 27.20 WARNING: Running pip as the 'root' user can result in broken permissions and conflicting behaviour with the system package manager. It is recommended to use a virtual environment instead: https://pip.pypa.io/warnings/venv\n",
      "#18 27.21 WARNING: You are using pip version 22.0.4; however, version 22.1.2 is available.\n",
      "#18 27.21 You should consider upgrading via the '/usr/local/bin/python -m pip install --upgrade pip' command.\n",
      "#18 DONE 29.8s\n",
      "\n",
      "#19 [stage-1 10/11] RUN bash <<EOF\n",
      "#19 0.596 + '[' -f /home/bentoml/bento/env/docker/setup_script ']'\n",
      "#19 DONE 0.6s\n",
      "\n",
      "#20 [stage-1 11/11] RUN chmod +x /home/bentoml/bento/env/docker/entrypoint.sh\n",
      "#20 DONE 0.6s\n",
      "\n",
      "#21 exporting to image\n",
      "#21 exporting layers\n",
      "#21 exporting layers 2.7s done\n",
      "#21 writing image sha256:34d2a14968e5bc37753e83a7977cd3ab1b7888f06942094ec7e146e112f89c20 done\n",
      "#21 naming to docker.io/library/iris_classifier:hp2yqraau6ghb3c4 done\n",
      "#21 DONE 2.7s\n"
     ]
    }
   ],
   "source": [
    "!bentoml containerize iris_classifier:latest"
   ]
  },
  {
   "cell_type": "markdown",
   "id": "4c159551",
   "metadata": {},
   "source": [
    "A new Bento is now built and saved to local Bento store. You can view and manage it via \n",
    "`bentoml list`,`bentoml get` and `bentoml delete` CLI command."
   ]
  },
  {
   "cell_type": "markdown",
   "id": "81ed8b84",
   "metadata": {},
   "source": [
    "## Containerize and Deployment"
   ]
  },
  {
   "cell_type": "code",
   "execution_count": null,
   "id": "dbd424a6",
   "metadata": {},
   "outputs": [],
   "source": [
    "!bentoml containerize iris_classifier:latest"
   ]
  },
  {
   "cell_type": "code",
   "execution_count": null,
   "id": "4e4c5fe5",
   "metadata": {},
   "outputs": [],
   "source": [
    "!docker run -p 3000:3000 iris_classifier:invwzzsw7li6zckb2ie5eubhd "
   ]
  },
  {
   "cell_type": "markdown",
   "id": "8c215454",
   "metadata": {},
   "source": [
    "Bento is designed to be deployed to run efficiently in a variety of different environments.\n",
    "And there are lots of deployment options and tools as part of the BentoML eco-system, such as \n",
    "[Yatai](https://github.com/bentoml/Yatai) and [bentoctl](https://github.com/bentoml/bentoctl) for\n",
    "direct deployment to cloud platforms.\n",
    "\n",
    "In this guide, we will show you the most basic way of deploying a Bento, which is converting a Bento\n",
    "into a Docker image containing the HTTP model server.\n",
    "\n",
    "Make sure you have docker installed and docker deamon running, and run the following commnand:\n",
    "\n",
    "```bash\n",
    "bentoml containerize iris_classifier:latest\n",
    "```\n",
    "\n",
    "This will build a new docker image with all source code, model files and dependencies in place,\n",
    "and ready for production deployment. To start a container with this docker image locally, run:\n",
    "\n",
    "```bash\n",
    "docker run -p 3000:3000 iris_classifier:invwzzsw7li6zckb2ie5eubhd \n",
    "```\n",
    "\n",
    "## What's Next?\n",
    "\n",
    "- 👉 [Pop into our Slack community!](https://l.linklyhq.com/l/ktO8) We're happy to help with any issue you face or even just to meet you and hear what you're working on.\n",
    "\n",
    "- Dive deeper into the [Core Concepts](https://docs.bentoml.org/en/latest/concepts/index.html) in BentoML\n",
    "- Learn how to use BentoML with other ML Frameworks at [Frameworks Guide](https://docs.bentoml.org/en/latest/frameworks/index.html) or check out other [gallery projects](https://github.com/bentoml/gallery)\n",
    "- Learn more about model deployment options for Bento:\n",
    "  - [🦄️ Yatai](https://github.com/bentoml/Yatai): Model Deployment at scale on Kubernetes\n",
    "  - [🚀 bentoctl](https://github.com/bentoml/bentoctl): Fast model deployment on any cloud platform\n"
   ]
  }
 ],
 "metadata": {
  "kernelspec": {
   "display_name": "mlops_env",
   "language": "python",
   "name": "mlops_env"
  },
  "language_info": {
   "codemirror_mode": {
    "name": "ipython",
    "version": 3
   },
   "file_extension": ".py",
   "mimetype": "text/x-python",
   "name": "python",
   "nbconvert_exporter": "python",
   "pygments_lexer": "ipython3",
   "version": "3.9.12"
  }
 },
 "nbformat": 4,
 "nbformat_minor": 5
}
